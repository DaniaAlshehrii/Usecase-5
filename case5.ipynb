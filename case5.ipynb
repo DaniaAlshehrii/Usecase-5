{
 "cells": [
  {
   "cell_type": "code",
   "execution_count": 55,
   "id": "e69c4ba1-85f3-4a02-ae37-c64347a01803",
   "metadata": {},
   "outputs": [],
   "source": [
    "#Import all relevant libraries\n",
    "import numpy as np\n",
    "import pandas as pd\n",
    "import matplotlib.pyplot as plt\n",
    "import seaborn as sns\n",
    "from scipy.stats import zscore\n",
    "from ydata_profiling import ProfileReport\n",
    "import sweetviz as sv\n",
    "import plotly.express as px\n",
    " \n",
    "## This statement allows the visuals to render within your Jupyter Notebook.\n",
    "%matplotlib inline"
   ]
  },
  {
   "cell_type": "markdown",
   "id": "e395e8bf-b530-4720-8d0f-26811e927d6e",
   "metadata": {},
   "source": [
    "## Loading the data\n",
    "We can now load the dataset into pandas using the read_csv() function. This converts the CSV file into a Pandas dataframe."
   ]
  },
  {
   "cell_type": "code",
   "execution_count": 85,
   "id": "cf4030b0-aa7f-4bd7-8e9c-c1b7f4d202d0",
   "metadata": {},
   "outputs": [
    {
     "data": {
      "text/html": [
       "<div>\n",
       "<style scoped>\n",
       "    .dataframe tbody tr th:only-of-type {\n",
       "        vertical-align: middle;\n",
       "    }\n",
       "\n",
       "    .dataframe tbody tr th {\n",
       "        vertical-align: top;\n",
       "    }\n",
       "\n",
       "    .dataframe thead th {\n",
       "        text-align: right;\n",
       "    }\n",
       "</style>\n",
       "<table border=\"1\" class=\"dataframe\">\n",
       "  <thead>\n",
       "    <tr style=\"text-align: right;\">\n",
       "      <th></th>\n",
       "      <th>job_title</th>\n",
       "      <th>job_date</th>\n",
       "      <th>job_desc</th>\n",
       "      <th>job_tasks</th>\n",
       "      <th>comp_name</th>\n",
       "      <th>comp_no</th>\n",
       "      <th>comp_type</th>\n",
       "      <th>comp_size</th>\n",
       "      <th>eco_activity</th>\n",
       "      <th>qualif</th>\n",
       "      <th>region</th>\n",
       "      <th>city</th>\n",
       "      <th>benefits</th>\n",
       "      <th>contract</th>\n",
       "      <th>positions</th>\n",
       "      <th>job_post_id</th>\n",
       "      <th>exper</th>\n",
       "      <th>gender</th>\n",
       "    </tr>\n",
       "  </thead>\n",
       "  <tbody>\n",
       "    <tr>\n",
       "      <th>0</th>\n",
       "      <td>محاسب</td>\n",
       "      <td>27/05/1444</td>\n",
       "      <td>['إعداد وتنظيم مستندات الصرف ومتابعة تحصيل الإ...</td>\n",
       "      <td>['   تدقيق المطالبات المالية والتأكد من اكتمال...</td>\n",
       "      <td>شركة مقر العالم للسفريات</td>\n",
       "      <td>1-317262</td>\n",
       "      <td>خاص</td>\n",
       "      <td>متوسطة فئة أ</td>\n",
       "      <td>أنشطة وكالات السياحة والسفر</td>\n",
       "      <td>['Language data', 'اللغة الانجليزية', 'محترف']</td>\n",
       "      <td>الرياض</td>\n",
       "      <td>AR RIYADH...</td>\n",
       "      <td>['Salary', '5000.0']</td>\n",
       "      <td>دوام كامل</td>\n",
       "      <td>0 / 1</td>\n",
       "      <td>20202026350419</td>\n",
       "      <td>0 Years</td>\n",
       "      <td>both</td>\n",
       "    </tr>\n",
       "    <tr>\n",
       "      <th>1</th>\n",
       "      <td>بائع</td>\n",
       "      <td>27/05/1444</td>\n",
       "      <td>['بيع مجموعة من السلع والخدمات للعملاء، وتوفير...</td>\n",
       "      <td>['   بيع مجموعة من السلع والخدمات للعملاء.', '...</td>\n",
       "      <td>شركة عالم الكهرباء للمقاولات</td>\n",
       "      <td>4-1324428</td>\n",
       "      <td>خاص</td>\n",
       "      <td>متوسطة فئة ب</td>\n",
       "      <td>تركيب انظمة التبريد وتكييف الهواء وصيانتها واص...</td>\n",
       "      <td>NaN</td>\n",
       "      <td>المنطقة الشرقية</td>\n",
       "      <td>AD DAMMAM...</td>\n",
       "      <td>['Salary', '5000.0']</td>\n",
       "      <td>دوام كامل</td>\n",
       "      <td>0 / 3</td>\n",
       "      <td>20202026350389</td>\n",
       "      <td>0 Years</td>\n",
       "      <td>both</td>\n",
       "    </tr>\n",
       "    <tr>\n",
       "      <th>2</th>\n",
       "      <td>أخصائي عمليات موارد بشرية</td>\n",
       "      <td>27/05/1444</td>\n",
       "      <td>['تنفيذ الإجراءات والأنظمة والنماذج الخاصة بمر...</td>\n",
       "      <td>['   تنفيذ الإجراءات والأنظمة والنماذج الخاصة ...</td>\n",
       "      <td>شركه دار السلام</td>\n",
       "      <td>1-155294</td>\n",
       "      <td>خاص</td>\n",
       "      <td>متوسطة فئة أ</td>\n",
       "      <td>ترميمات المباني السكنية والغير سكنية</td>\n",
       "      <td>['Language data', 'الانجليزيه', 'محترف']</td>\n",
       "      <td>الرياض</td>\n",
       "      <td>ATH THUMA...</td>\n",
       "      <td>['Salary', '4000.0']</td>\n",
       "      <td>دوام كامل</td>\n",
       "      <td>0 / 2</td>\n",
       "      <td>20202026350347</td>\n",
       "      <td>2 Years</td>\n",
       "      <td>both</td>\n",
       "    </tr>\n",
       "    <tr>\n",
       "      <th>3</th>\n",
       "      <td>ميكانيكي سيارات</td>\n",
       "      <td>27/05/1444</td>\n",
       "      <td>['تشخيص أعطال السيارات وإصلاحها وتنفيذ برامج ا...</td>\n",
       "      <td>['   فحص أداء المعدّات الكهربائية والميكانيكية...</td>\n",
       "      <td>مؤسسة لمكو لغيار الزيوت</td>\n",
       "      <td>8-1925495</td>\n",
       "      <td>خاص</td>\n",
       "      <td>صغيرة فئة ب</td>\n",
       "      <td>NaN</td>\n",
       "      <td>['Skill data', 'صيانة السيارات وتقييم الاعطال'...</td>\n",
       "      <td>المنطقة الشرقية</td>\n",
       "      <td>AL HUFUF...</td>\n",
       "      <td>['Salary', '5000.0']</td>\n",
       "      <td>دوام كامل</td>\n",
       "      <td>0 / 10</td>\n",
       "      <td>20202026350219</td>\n",
       "      <td>0 Years</td>\n",
       "      <td>M</td>\n",
       "    </tr>\n",
       "    <tr>\n",
       "      <th>4</th>\n",
       "      <td>محاسب</td>\n",
       "      <td>27/05/1444</td>\n",
       "      <td>['إعداد وتنظيم مستندات الصرف ومتابعة تحصيل الإ...</td>\n",
       "      <td>['   تدقيق المطالبات المالية والتأكد من اكتمال...</td>\n",
       "      <td>مؤسسة فكرة اليمامة للمقاولات</td>\n",
       "      <td>1-2356639</td>\n",
       "      <td>خاص</td>\n",
       "      <td>كبيرة</td>\n",
       "      <td>الإنشاءات العامة للمباني السكنية</td>\n",
       "      <td>['Skill data', 'تحمل ضغط العمل', 'محترف', 'Lan...</td>\n",
       "      <td>الرياض</td>\n",
       "      <td>AR RIYADH...</td>\n",
       "      <td>['Salary', '5000.0']</td>\n",
       "      <td>دوام كامل</td>\n",
       "      <td>0 / 1</td>\n",
       "      <td>20202026350043</td>\n",
       "      <td>0 Years</td>\n",
       "      <td>both</td>\n",
       "    </tr>\n",
       "  </tbody>\n",
       "</table>\n",
       "</div>"
      ],
      "text/plain": [
       "                   job_title    job_date  \\\n",
       "0                      محاسب  27/05/1444   \n",
       "1                       بائع  27/05/1444   \n",
       "2  أخصائي عمليات موارد بشرية  27/05/1444   \n",
       "3            ميكانيكي سيارات  27/05/1444   \n",
       "4                      محاسب  27/05/1444   \n",
       "\n",
       "                                            job_desc  \\\n",
       "0  ['إعداد وتنظيم مستندات الصرف ومتابعة تحصيل الإ...   \n",
       "1  ['بيع مجموعة من السلع والخدمات للعملاء، وتوفير...   \n",
       "2  ['تنفيذ الإجراءات والأنظمة والنماذج الخاصة بمر...   \n",
       "3  ['تشخيص أعطال السيارات وإصلاحها وتنفيذ برامج ا...   \n",
       "4  ['إعداد وتنظيم مستندات الصرف ومتابعة تحصيل الإ...   \n",
       "\n",
       "                                           job_tasks  \\\n",
       "0  ['   تدقيق المطالبات المالية والتأكد من اكتمال...   \n",
       "1  ['   بيع مجموعة من السلع والخدمات للعملاء.', '...   \n",
       "2  ['   تنفيذ الإجراءات والأنظمة والنماذج الخاصة ...   \n",
       "3  ['   فحص أداء المعدّات الكهربائية والميكانيكية...   \n",
       "4  ['   تدقيق المطالبات المالية والتأكد من اكتمال...   \n",
       "\n",
       "                      comp_name    comp_no comp_type     comp_size  \\\n",
       "0      شركة مقر العالم للسفريات   1-317262       خاص  متوسطة فئة أ   \n",
       "1  شركة عالم الكهرباء للمقاولات  4-1324428       خاص  متوسطة فئة ب   \n",
       "2               شركه دار السلام   1-155294       خاص  متوسطة فئة أ   \n",
       "3       مؤسسة لمكو لغيار الزيوت  8-1925495       خاص   صغيرة فئة ب   \n",
       "4  مؤسسة فكرة اليمامة للمقاولات  1-2356639       خاص         كبيرة   \n",
       "\n",
       "                                        eco_activity  \\\n",
       "0                        أنشطة وكالات السياحة والسفر   \n",
       "1  تركيب انظمة التبريد وتكييف الهواء وصيانتها واص...   \n",
       "2               ترميمات المباني السكنية والغير سكنية   \n",
       "3                                                NaN   \n",
       "4                   الإنشاءات العامة للمباني السكنية   \n",
       "\n",
       "                                              qualif           region  \\\n",
       "0     ['Language data', 'اللغة الانجليزية', 'محترف']           الرياض   \n",
       "1                                                NaN  المنطقة الشرقية   \n",
       "2           ['Language data', 'الانجليزيه', 'محترف']           الرياض   \n",
       "3  ['Skill data', 'صيانة السيارات وتقييم الاعطال'...  المنطقة الشرقية   \n",
       "4  ['Skill data', 'تحمل ضغط العمل', 'محترف', 'Lan...           الرياض   \n",
       "\n",
       "           city              benefits   contract positions     job_post_id  \\\n",
       "0  AR RIYADH...  ['Salary', '5000.0']  دوام كامل     0 / 1  20202026350419   \n",
       "1  AD DAMMAM...  ['Salary', '5000.0']  دوام كامل     0 / 3  20202026350389   \n",
       "2  ATH THUMA...  ['Salary', '4000.0']  دوام كامل     0 / 2  20202026350347   \n",
       "3   AL HUFUF...  ['Salary', '5000.0']  دوام كامل    0 / 10  20202026350219   \n",
       "4  AR RIYADH...  ['Salary', '5000.0']  دوام كامل     0 / 1  20202026350043   \n",
       "\n",
       "     exper gender  \n",
       "0  0 Years   both  \n",
       "1  0 Years   both  \n",
       "2  2 Years   both  \n",
       "3  0 Years      M  \n",
       "4  0 Years   both  "
      ]
     },
     "execution_count": 85,
     "metadata": {},
     "output_type": "execute_result"
    }
   ],
   "source": [
    "df = pd.read_csv('case5/Jadarat_data.csv')\n",
    "df.head()"
   ]
  },
  {
   "cell_type": "markdown",
   "id": "bd2b5bc4-db37-4432-b666-0714afd0c4ca",
   "metadata": {},
   "source": [
    "## 1. Data Profiling:\n",
    "Data profiling is a comprehensive process of examining the data available in an existing dataset and collecting statistics and information about that data. "
   ]
  },
  {
   "cell_type": "code",
   "execution_count": 57,
   "id": "672f2081-5a2c-4908-8cbd-29519fb3cac5",
   "metadata": {},
   "outputs": [],
   "source": [
    "profile = ProfileReport(df, title=\"Pandas Profiling Report\")\n",
    "profile.to_notebook_iframe()"
   ]
  },
  {
   "cell_type": "markdown",
   "id": "3a9954f5-6fbc-45b4-ad86-3e21b6e0ca2d",
   "metadata": {},
   "source": [
    "### Data Quality Checks\n",
    "Data quality checks involve the process of ensuring that the data is accurate, complete, consistent, relevant, and reliable. \n",
    "\n",
    "\n",
    "**Here are typical steps involved in checking data quality:**"
   ]
  },
  {
   "cell_type": "markdown",
   "id": "4818c876-173d-4e56-9e7d-b4334d2def25",
   "metadata": {},
   "source": [
    "#### 1. Reliability:\n",
    "Evaluate the data's source and collection process to determine its trustworthiness."
   ]
  },
  {
   "cell_type": "code",
   "execution_count": 58,
   "id": "9034ae7b-dc1d-4cba-8f9e-bb499d021cde",
   "metadata": {},
   "outputs": [],
   "source": [
    "#The data from Jadarat"
   ]
  },
  {
   "cell_type": "markdown",
   "id": "2ce0cc59-8c92-4acc-8d07-c40764e1a86b",
   "metadata": {},
   "source": [
    "#### 2. Timeliness: \n",
    "Ensure the data is up-to-date and reflective of the current situation or the period of interest for the analysis."
   ]
  },
  {
   "cell_type": "code",
   "execution_count": 59,
   "id": "4b78ae35-7226-4cb6-b8b2-a46c2ed17cf9",
   "metadata": {},
   "outputs": [],
   "source": [
    "# The data is not up-to-date. but we can use it "
   ]
  },
  {
   "cell_type": "markdown",
   "id": "7fab0fe2-6624-4615-b9d8-3c3669056bf8",
   "metadata": {},
   "source": [
    "#### 3. Consistency: \n",
    "\n",
    "Confirm that the data is consistent within the dataset and across multiple data sources. For example, the same data point should not have different values in different places.\n"
   ]
  },
  {
   "cell_type": "code",
   "execution_count": 60,
   "id": "7fecc573-959f-4800-8ddd-a67985c68b18",
   "metadata": {},
   "outputs": [],
   "source": [
    "#The data is consistent"
   ]
  },
  {
   "cell_type": "code",
   "execution_count": 86,
   "id": "19a63dff-a0a0-448a-8995-aa012a5c867e",
   "metadata": {},
   "outputs": [],
   "source": [
    "df = df.map(lambda x: x.strip() if isinstance(x, str) else x)"
   ]
  },
  {
   "cell_type": "code",
   "execution_count": 62,
   "id": "ed05d3b8-81b4-4e75-af46-d13f6cfa4fdf",
   "metadata": {},
   "outputs": [
    {
     "data": {
      "text/html": [
       "<div>\n",
       "<style scoped>\n",
       "    .dataframe tbody tr th:only-of-type {\n",
       "        vertical-align: middle;\n",
       "    }\n",
       "\n",
       "    .dataframe tbody tr th {\n",
       "        vertical-align: top;\n",
       "    }\n",
       "\n",
       "    .dataframe thead th {\n",
       "        text-align: right;\n",
       "    }\n",
       "</style>\n",
       "<table border=\"1\" class=\"dataframe\">\n",
       "  <thead>\n",
       "    <tr style=\"text-align: right;\">\n",
       "      <th></th>\n",
       "      <th>job_title</th>\n",
       "      <th>job_date</th>\n",
       "      <th>job_desc</th>\n",
       "      <th>job_tasks</th>\n",
       "      <th>comp_name</th>\n",
       "      <th>comp_no</th>\n",
       "      <th>comp_type</th>\n",
       "      <th>comp_size</th>\n",
       "      <th>eco_activity</th>\n",
       "      <th>qualif</th>\n",
       "      <th>region</th>\n",
       "      <th>city</th>\n",
       "      <th>benefits</th>\n",
       "      <th>contract</th>\n",
       "      <th>positions</th>\n",
       "      <th>job_post_id</th>\n",
       "      <th>exper</th>\n",
       "      <th>gender</th>\n",
       "    </tr>\n",
       "  </thead>\n",
       "  <tbody>\n",
       "  </tbody>\n",
       "</table>\n",
       "</div>"
      ],
      "text/plain": [
       "Empty DataFrame\n",
       "Columns: [job_title, job_date, job_desc, job_tasks, comp_name, comp_no, comp_type, comp_size, eco_activity, qualif, region, city, benefits, contract, positions, job_post_id, exper, gender]\n",
       "Index: []"
      ]
     },
     "execution_count": 62,
     "metadata": {},
     "output_type": "execute_result"
    }
   ],
   "source": [
    "df.head(0)"
   ]
  },
  {
   "cell_type": "code",
   "execution_count": 87,
   "id": "50a934b7-a0cd-443f-8a27-f10e9a6e8647",
   "metadata": {
    "scrolled": true
   },
   "outputs": [],
   "source": [
    "df = df.rename(columns={'job_title': 'Job Title' ,\n",
    "                         'job_date' : 'Job Date' ,\n",
    "                         'job_desc' : 'Job description' ,\n",
    "                         'job_tasks' : 'Job Tasks' ,\n",
    "                         'comp_name': 'Company Name' ,\n",
    "                         'comp_no' : 'Company Number',\n",
    "                         'comp_type' : 'Company Type' , \n",
    "                         'comp_size' : 'Company Size' ,\n",
    "                         'eco_activity' : 'Eco Activity',\n",
    "                         'qualif' : 'Qualifications',\n",
    "                         'region' : 'Region',\n",
    "                         'city' : 'City',\n",
    "                         'benefits' : 'Benefits',\n",
    "                         'contract' : 'Contract',\n",
    "                         'positions' : 'Positions',\n",
    "                         'job_post_id' : 'Job post ID',\n",
    "                         'exper' : 'Experience',\n",
    "                         'gender' : 'Gender'}) "
   ]
  },
  {
   "cell_type": "code",
   "execution_count": 64,
   "id": "ed1c7561-5a8d-4ef7-ad1b-afc67d9fe197",
   "metadata": {},
   "outputs": [
    {
     "data": {
      "text/html": [
       "<div>\n",
       "<style scoped>\n",
       "    .dataframe tbody tr th:only-of-type {\n",
       "        vertical-align: middle;\n",
       "    }\n",
       "\n",
       "    .dataframe tbody tr th {\n",
       "        vertical-align: top;\n",
       "    }\n",
       "\n",
       "    .dataframe thead th {\n",
       "        text-align: right;\n",
       "    }\n",
       "</style>\n",
       "<table border=\"1\" class=\"dataframe\">\n",
       "  <thead>\n",
       "    <tr style=\"text-align: right;\">\n",
       "      <th></th>\n",
       "      <th>Job Title</th>\n",
       "      <th>Job Date</th>\n",
       "      <th>Job description</th>\n",
       "      <th>Job Tasks</th>\n",
       "      <th>Company Name</th>\n",
       "      <th>Company Number</th>\n",
       "      <th>Company Type</th>\n",
       "      <th>Company Size</th>\n",
       "      <th>Eco Activity</th>\n",
       "      <th>Qualifications</th>\n",
       "      <th>Region</th>\n",
       "      <th>City</th>\n",
       "      <th>Benefits</th>\n",
       "      <th>Contract</th>\n",
       "      <th>Positions</th>\n",
       "      <th>Job post ID</th>\n",
       "      <th>Experience</th>\n",
       "      <th>Gender</th>\n",
       "    </tr>\n",
       "  </thead>\n",
       "  <tbody>\n",
       "  </tbody>\n",
       "</table>\n",
       "</div>"
      ],
      "text/plain": [
       "Empty DataFrame\n",
       "Columns: [Job Title, Job Date, Job description, Job Tasks, Company Name, Company Number, Company Type, Company Size, Eco Activity, Qualifications, Region, City, Benefits, Contract, Positions, Job post ID, Experience, Gender]\n",
       "Index: []"
      ]
     },
     "execution_count": 64,
     "metadata": {},
     "output_type": "execute_result"
    }
   ],
   "source": [
    "df.head(0)"
   ]
  },
  {
   "cell_type": "markdown",
   "id": "bec3d183-bba0-4b12-b963-487daab1e876",
   "metadata": {
    "jp-MarkdownHeadingCollapsed": true
   },
   "source": [
    "#### 4. Relevance: \n",
    "Assess whether the data is appropriate and applicable for the intended analysis. Data that is not relevant can skew results and lead to incorrect conclusions.\n",
    "\n",
    "**Key considerations for relevance include:**\n",
    "\n",
    "> 1. Sample Appropriateness: Confirm that your data sample aligns with your analysis objectives. For instance, utilizing data from the Northern region will not yield accurate insights for the Western region of the Kingdom.\n",
    ">\n",
    "> 2. Variable Selection: Any column will not be relevant for our analysis, we can get rid of these using the drop() method. We will set the “axis” argument to 1 since we’re dealing with columns, and set the “inplace” argument to True to make the change permanent.\n"
   ]
  },
  {
   "cell_type": "code",
   "execution_count": 65,
   "id": "95b163b2-4a9b-4db7-bbd7-edca83b6c2e4",
   "metadata": {},
   "outputs": [],
   "source": [
    "#The available data is consistent with the objectives of the analysis.\n",
    "#There are irrelevant columns to our objectives."
   ]
  },
  {
   "cell_type": "code",
   "execution_count": 90,
   "id": "96d3fd89-5056-4237-b999-53dabb3aba05",
   "metadata": {},
   "outputs": [],
   "source": [
    "df.drop('Job description', axis=1, inplace=True)\n",
    "df.drop('Job Tasks', axis=1, inplace=True)\n",
    "df.drop('Company Number', axis=1, inplace=True)\n",
    "df.drop('Company Size', axis=1, inplace=True)\n",
    "df.drop('Eco Activity', axis=1, inplace=True)\n",
    "df.drop('City', axis=1, inplace=True)\n",
    "df.drop('Positions', axis=1, inplace=True)\n",
    "df.drop('Job Date', axis=1, inplace=True)\n",
    "df.drop('Qualifications', axis=1, inplace=True)\n",
    "df.drop('Job post ID', axis=1, inplace=True)"
   ]
  },
  {
   "cell_type": "code",
   "execution_count": 67,
   "id": "dc7b8437-9db7-4613-91ff-4c689968b29e",
   "metadata": {},
   "outputs": [
    {
     "data": {
      "text/html": [
       "<div>\n",
       "<style scoped>\n",
       "    .dataframe tbody tr th:only-of-type {\n",
       "        vertical-align: middle;\n",
       "    }\n",
       "\n",
       "    .dataframe tbody tr th {\n",
       "        vertical-align: top;\n",
       "    }\n",
       "\n",
       "    .dataframe thead th {\n",
       "        text-align: right;\n",
       "    }\n",
       "</style>\n",
       "<table border=\"1\" class=\"dataframe\">\n",
       "  <thead>\n",
       "    <tr style=\"text-align: right;\">\n",
       "      <th></th>\n",
       "      <th>Job Title</th>\n",
       "      <th>Company Name</th>\n",
       "      <th>Company Type</th>\n",
       "      <th>Region</th>\n",
       "      <th>Benefits</th>\n",
       "      <th>Contract</th>\n",
       "      <th>Experience</th>\n",
       "      <th>Gender</th>\n",
       "    </tr>\n",
       "  </thead>\n",
       "  <tbody>\n",
       "    <tr>\n",
       "      <th>0</th>\n",
       "      <td>محاسب</td>\n",
       "      <td>شركة مقر العالم للسفريات</td>\n",
       "      <td>خاص</td>\n",
       "      <td>الرياض</td>\n",
       "      <td>['Salary', '5000.0']</td>\n",
       "      <td>دوام كامل</td>\n",
       "      <td>0 Years</td>\n",
       "      <td>both</td>\n",
       "    </tr>\n",
       "  </tbody>\n",
       "</table>\n",
       "</div>"
      ],
      "text/plain": [
       "  Job Title              Company Name Company Type  Region  \\\n",
       "0     محاسب  شركة مقر العالم للسفريات          خاص  الرياض   \n",
       "\n",
       "               Benefits   Contract Experience Gender  \n",
       "0  ['Salary', '5000.0']  دوام كامل    0 Years   both  "
      ]
     },
     "execution_count": 67,
     "metadata": {},
     "output_type": "execute_result"
    }
   ],
   "source": [
    "df.head(1)"
   ]
  },
  {
   "cell_type": "markdown",
   "id": "0f5e3a2a-bbb7-4d06-8220-c93277b70146",
   "metadata": {},
   "source": [
    "#### 5. Uniqueness: \n",
    "Check for and remove duplicate records to prevent skewed analysis results.\n"
   ]
  },
  {
   "cell_type": "code",
   "execution_count": 68,
   "id": "04c62559-3b48-48cf-a4e9-857e2e0ff416",
   "metadata": {},
   "outputs": [],
   "source": [
    "# There is one duplicate one row"
   ]
  },
  {
   "cell_type": "code",
   "execution_count": 88,
   "id": "1fb2cdd7-3979-4e00-869a-6fbdeb306cd4",
   "metadata": {},
   "outputs": [
    {
     "data": {
      "text/plain": [
       "1"
      ]
     },
     "execution_count": 88,
     "metadata": {},
     "output_type": "execute_result"
    }
   ],
   "source": [
    "df.duplicated().sum()"
   ]
  },
  {
   "cell_type": "code",
   "execution_count": 89,
   "id": "a509a7aa-58f4-4d39-8eb8-e8298a21f2a7",
   "metadata": {},
   "outputs": [],
   "source": [
    "df.drop_duplicates(inplace=True)"
   ]
  },
  {
   "cell_type": "markdown",
   "id": "c7724ac2-4ea2-4cf4-a9e0-e64368f87b92",
   "metadata": {},
   "source": [
    "#### 6. Completeness: \n",
    "Ensure that no critical data is missing. This might mean checking for null values or required fields that are empty.\n",
    "\n",
    "We will start by checking the dataset for missing or null values. For this, we can use the isna() method which returns a dataframe of boolean values indicating if a field is null or not. To group all missing values by column, we can include the sum() method."
   ]
  },
  {
   "cell_type": "code",
   "execution_count": 71,
   "id": "abec31c4-0904-4b73-8cee-b7bc14ab1e67",
   "metadata": {},
   "outputs": [],
   "source": [
    "#There are no missing values"
   ]
  },
  {
   "cell_type": "code",
   "execution_count": 72,
   "id": "6464b3ee-1323-46b7-a8e8-7e7587f4d41f",
   "metadata": {},
   "outputs": [
    {
     "data": {
      "text/plain": [
       "Job Title       0\n",
       "Company Name    0\n",
       "Company Type    0\n",
       "Region          0\n",
       "Benefits        0\n",
       "Contract        0\n",
       "Experience      0\n",
       "Gender          0\n",
       "dtype: int64"
      ]
     },
     "execution_count": 72,
     "metadata": {},
     "output_type": "execute_result"
    }
   ],
   "source": [
    "df.isnull().sum()"
   ]
  },
  {
   "cell_type": "markdown",
   "id": "b40de63c-5a1d-49ed-a87e-c5229ee08bbe",
   "metadata": {
    "jp-MarkdownHeadingCollapsed": true
   },
   "source": [
    "#### 7. Check Accuracy:\n",
    "\n",
    "Verify that the data is correct and precise. This could involve comparing data samples with known sources or using validation rules.\n",
    "\n",
    "**The process includes:**\n",
    "1. Validating the appropriateness of data types for the dataset.\n",
    "2. Identifying outliers  using established validation  rule"
   ]
  },
  {
   "cell_type": "code",
   "execution_count": 73,
   "id": "68be5334-ae10-4abd-8097-3259fe5e72c8",
   "metadata": {},
   "outputs": [
    {
     "data": {
      "text/plain": [
       "Job Title       object\n",
       "Company Name    object\n",
       "Company Type    object\n",
       "Region          object\n",
       "Benefits        object\n",
       "Contract        object\n",
       "Experience      object\n",
       "Gender          object\n",
       "dtype: object"
      ]
     },
     "execution_count": 73,
     "metadata": {},
     "output_type": "execute_result"
    }
   ],
   "source": [
    "df.dtypes"
   ]
  },
  {
   "cell_type": "code",
   "execution_count": 91,
   "id": "ee200da8-62b0-492d-b118-f4d665a1fb16",
   "metadata": {},
   "outputs": [
    {
     "data": {
      "application/vnd.jupyter.widget-view+json": {
       "model_id": "9cd2abb7eebe48a09e8a013748fcfcd5",
       "version_major": 2,
       "version_minor": 0
      },
      "text/plain": [
       "                                             |          | [  0%]   00:00 -> (? left)"
      ]
     },
     "metadata": {},
     "output_type": "display_data"
    },
    {
     "name": "stderr",
     "output_type": "stream",
     "text": [
      "c:\\Users\\Dani_\\AppData\\Local\\Programs\\Python\\Python312\\Lib\\site-packages\\sweetviz\\graph.py:33: UserWarning:\n",
      "\n",
      "Glyph 1588 (\\N{ARABIC LETTER SHEEN}) missing from font(s) Roboto.\n",
      "\n",
      "c:\\Users\\Dani_\\AppData\\Local\\Programs\\Python\\Python312\\Lib\\site-packages\\sweetviz\\graph.py:33: UserWarning:\n",
      "\n",
      "Matplotlib currently does not support Arabic natively.\n",
      "\n",
      "c:\\Users\\Dani_\\AppData\\Local\\Programs\\Python\\Python312\\Lib\\site-packages\\sweetviz\\graph.py:33: UserWarning:\n",
      "\n",
      "Glyph 1576 (\\N{ARABIC LETTER BEH}) missing from font(s) Roboto.\n",
      "\n",
      "c:\\Users\\Dani_\\AppData\\Local\\Programs\\Python\\Python312\\Lib\\site-packages\\sweetviz\\graph.py:33: UserWarning:\n",
      "\n",
      "Glyph 1607 (\\N{ARABIC LETTER HEH}) missing from font(s) Roboto.\n",
      "\n",
      "c:\\Users\\Dani_\\AppData\\Local\\Programs\\Python\\Python312\\Lib\\site-packages\\sweetviz\\graph.py:33: UserWarning:\n",
      "\n",
      "Glyph 1581 (\\N{ARABIC LETTER HAH}) missing from font(s) Roboto.\n",
      "\n",
      "c:\\Users\\Dani_\\AppData\\Local\\Programs\\Python\\Python312\\Lib\\site-packages\\sweetviz\\graph.py:33: UserWarning:\n",
      "\n",
      "Glyph 1603 (\\N{ARABIC LETTER KAF}) missing from font(s) Roboto.\n",
      "\n",
      "c:\\Users\\Dani_\\AppData\\Local\\Programs\\Python\\Python312\\Lib\\site-packages\\sweetviz\\graph.py:33: UserWarning:\n",
      "\n",
      "Glyph 1608 (\\N{ARABIC LETTER WAW}) missing from font(s) Roboto.\n",
      "\n",
      "c:\\Users\\Dani_\\AppData\\Local\\Programs\\Python\\Python312\\Lib\\site-packages\\sweetviz\\graph.py:33: UserWarning:\n",
      "\n",
      "Glyph 1605 (\\N{ARABIC LETTER MEEM}) missing from font(s) Roboto.\n",
      "\n",
      "c:\\Users\\Dani_\\AppData\\Local\\Programs\\Python\\Python312\\Lib\\site-packages\\sweetviz\\graph.py:33: UserWarning:\n",
      "\n",
      "Glyph 1610 (\\N{ARABIC LETTER YEH}) missing from font(s) Roboto.\n",
      "\n",
      "c:\\Users\\Dani_\\AppData\\Local\\Programs\\Python\\Python312\\Lib\\site-packages\\sweetviz\\graph.py:33: UserWarning:\n",
      "\n",
      "Glyph 1577 (\\N{ARABIC LETTER TEH MARBUTA}) missing from font(s) Roboto.\n",
      "\n",
      "c:\\Users\\Dani_\\AppData\\Local\\Programs\\Python\\Python312\\Lib\\site-packages\\sweetviz\\graph.py:33: UserWarning:\n",
      "\n",
      "Glyph 1582 (\\N{ARABIC LETTER KHAH}) missing from font(s) Roboto.\n",
      "\n",
      "c:\\Users\\Dani_\\AppData\\Local\\Programs\\Python\\Python312\\Lib\\site-packages\\sweetviz\\graph.py:33: UserWarning:\n",
      "\n",
      "Glyph 1575 (\\N{ARABIC LETTER ALEF}) missing from font(s) Roboto.\n",
      "\n",
      "c:\\Users\\Dani_\\AppData\\Local\\Programs\\Python\\Python312\\Lib\\site-packages\\sweetviz\\graph.py:33: UserWarning:\n",
      "\n",
      "Glyph 1589 (\\N{ARABIC LETTER SAD}) missing from font(s) Roboto.\n",
      "\n",
      "c:\\Users\\Dani_\\AppData\\Local\\Programs\\Python\\Python312\\Lib\\site-packages\\sweetviz\\graph.py:33: UserWarning:\n",
      "\n",
      "Glyph 1588 (\\N{ARABIC LETTER SHEEN}) missing from font(s) Roboto.\n",
      "\n",
      "c:\\Users\\Dani_\\AppData\\Local\\Programs\\Python\\Python312\\Lib\\site-packages\\sweetviz\\graph.py:33: UserWarning:\n",
      "\n",
      "Matplotlib currently does not support Arabic natively.\n",
      "\n",
      "c:\\Users\\Dani_\\AppData\\Local\\Programs\\Python\\Python312\\Lib\\site-packages\\sweetviz\\graph.py:33: UserWarning:\n",
      "\n",
      "Glyph 1576 (\\N{ARABIC LETTER BEH}) missing from font(s) Roboto.\n",
      "\n",
      "c:\\Users\\Dani_\\AppData\\Local\\Programs\\Python\\Python312\\Lib\\site-packages\\sweetviz\\graph.py:33: UserWarning:\n",
      "\n",
      "Glyph 1607 (\\N{ARABIC LETTER HEH}) missing from font(s) Roboto.\n",
      "\n",
      "c:\\Users\\Dani_\\AppData\\Local\\Programs\\Python\\Python312\\Lib\\site-packages\\sweetviz\\graph.py:33: UserWarning:\n",
      "\n",
      "Glyph 1581 (\\N{ARABIC LETTER HAH}) missing from font(s) Roboto.\n",
      "\n",
      "c:\\Users\\Dani_\\AppData\\Local\\Programs\\Python\\Python312\\Lib\\site-packages\\sweetviz\\graph.py:33: UserWarning:\n",
      "\n",
      "Glyph 1603 (\\N{ARABIC LETTER KAF}) missing from font(s) Roboto.\n",
      "\n",
      "c:\\Users\\Dani_\\AppData\\Local\\Programs\\Python\\Python312\\Lib\\site-packages\\sweetviz\\graph.py:33: UserWarning:\n",
      "\n",
      "Glyph 1608 (\\N{ARABIC LETTER WAW}) missing from font(s) Roboto.\n",
      "\n",
      "c:\\Users\\Dani_\\AppData\\Local\\Programs\\Python\\Python312\\Lib\\site-packages\\sweetviz\\graph.py:33: UserWarning:\n",
      "\n",
      "Glyph 1605 (\\N{ARABIC LETTER MEEM}) missing from font(s) Roboto.\n",
      "\n",
      "c:\\Users\\Dani_\\AppData\\Local\\Programs\\Python\\Python312\\Lib\\site-packages\\sweetviz\\graph.py:33: UserWarning:\n",
      "\n",
      "Glyph 1610 (\\N{ARABIC LETTER YEH}) missing from font(s) Roboto.\n",
      "\n",
      "c:\\Users\\Dani_\\AppData\\Local\\Programs\\Python\\Python312\\Lib\\site-packages\\sweetviz\\graph.py:33: UserWarning:\n",
      "\n",
      "Glyph 1577 (\\N{ARABIC LETTER TEH MARBUTA}) missing from font(s) Roboto.\n",
      "\n",
      "c:\\Users\\Dani_\\AppData\\Local\\Programs\\Python\\Python312\\Lib\\site-packages\\sweetviz\\graph.py:33: UserWarning:\n",
      "\n",
      "Glyph 1582 (\\N{ARABIC LETTER KHAH}) missing from font(s) Roboto.\n",
      "\n",
      "c:\\Users\\Dani_\\AppData\\Local\\Programs\\Python\\Python312\\Lib\\site-packages\\sweetviz\\graph.py:33: UserWarning:\n",
      "\n",
      "Glyph 1575 (\\N{ARABIC LETTER ALEF}) missing from font(s) Roboto.\n",
      "\n",
      "c:\\Users\\Dani_\\AppData\\Local\\Programs\\Python\\Python312\\Lib\\site-packages\\sweetviz\\graph.py:33: UserWarning:\n",
      "\n",
      "Glyph 1589 (\\N{ARABIC LETTER SAD}) missing from font(s) Roboto.\n",
      "\n",
      "c:\\Users\\Dani_\\AppData\\Local\\Programs\\Python\\Python312\\Lib\\site-packages\\sweetviz\\graph.py:33: UserWarning:\n",
      "\n",
      "Glyph 1575 (\\N{ARABIC LETTER ALEF}) missing from font(s) Roboto.\n",
      "\n",
      "c:\\Users\\Dani_\\AppData\\Local\\Programs\\Python\\Python312\\Lib\\site-packages\\sweetviz\\graph.py:33: UserWarning:\n",
      "\n",
      "Matplotlib currently does not support Arabic natively.\n",
      "\n",
      "c:\\Users\\Dani_\\AppData\\Local\\Programs\\Python\\Python312\\Lib\\site-packages\\sweetviz\\graph.py:33: UserWarning:\n",
      "\n",
      "Glyph 1604 (\\N{ARABIC LETTER LAM}) missing from font(s) Roboto.\n",
      "\n",
      "c:\\Users\\Dani_\\AppData\\Local\\Programs\\Python\\Python312\\Lib\\site-packages\\sweetviz\\graph.py:33: UserWarning:\n",
      "\n",
      "Glyph 1605 (\\N{ARABIC LETTER MEEM}) missing from font(s) Roboto.\n",
      "\n",
      "c:\\Users\\Dani_\\AppData\\Local\\Programs\\Python\\Python312\\Lib\\site-packages\\sweetviz\\graph.py:33: UserWarning:\n",
      "\n",
      "Glyph 1583 (\\N{ARABIC LETTER DAL}) missing from font(s) Roboto.\n",
      "\n",
      "c:\\Users\\Dani_\\AppData\\Local\\Programs\\Python\\Python312\\Lib\\site-packages\\sweetviz\\graph.py:33: UserWarning:\n",
      "\n",
      "Glyph 1610 (\\N{ARABIC LETTER YEH}) missing from font(s) Roboto.\n",
      "\n",
      "c:\\Users\\Dani_\\AppData\\Local\\Programs\\Python\\Python312\\Lib\\site-packages\\sweetviz\\graph.py:33: UserWarning:\n",
      "\n",
      "Glyph 1606 (\\N{ARABIC LETTER NOON}) missing from font(s) Roboto.\n",
      "\n",
      "c:\\Users\\Dani_\\AppData\\Local\\Programs\\Python\\Python312\\Lib\\site-packages\\sweetviz\\graph.py:33: UserWarning:\n",
      "\n",
      "Glyph 1577 (\\N{ARABIC LETTER TEH MARBUTA}) missing from font(s) Roboto.\n",
      "\n",
      "c:\\Users\\Dani_\\AppData\\Local\\Programs\\Python\\Python312\\Lib\\site-packages\\sweetviz\\graph.py:33: UserWarning:\n",
      "\n",
      "Glyph 1608 (\\N{ARABIC LETTER WAW}) missing from font(s) Roboto.\n",
      "\n",
      "c:\\Users\\Dani_\\AppData\\Local\\Programs\\Python\\Python312\\Lib\\site-packages\\sweetviz\\graph.py:33: UserWarning:\n",
      "\n",
      "Glyph 1585 (\\N{ARABIC LETTER REH}) missing from font(s) Roboto.\n",
      "\n",
      "c:\\Users\\Dani_\\AppData\\Local\\Programs\\Python\\Python312\\Lib\\site-packages\\sweetviz\\graph.py:33: UserWarning:\n",
      "\n",
      "Glyph 1591 (\\N{ARABIC LETTER TAH}) missing from font(s) Roboto.\n",
      "\n",
      "c:\\Users\\Dani_\\AppData\\Local\\Programs\\Python\\Python312\\Lib\\site-packages\\sweetviz\\graph.py:33: UserWarning:\n",
      "\n",
      "Glyph 1602 (\\N{ARABIC LETTER QAF}) missing from font(s) Roboto.\n",
      "\n",
      "c:\\Users\\Dani_\\AppData\\Local\\Programs\\Python\\Python312\\Lib\\site-packages\\sweetviz\\graph.py:33: UserWarning:\n",
      "\n",
      "Glyph 1588 (\\N{ARABIC LETTER SHEEN}) missing from font(s) Roboto.\n",
      "\n",
      "c:\\Users\\Dani_\\AppData\\Local\\Programs\\Python\\Python312\\Lib\\site-packages\\sweetviz\\graph.py:33: UserWarning:\n",
      "\n",
      "Glyph 1603 (\\N{ARABIC LETTER KAF}) missing from font(s) Roboto.\n",
      "\n",
      "c:\\Users\\Dani_\\AppData\\Local\\Programs\\Python\\Python312\\Lib\\site-packages\\sweetviz\\graph.py:33: UserWarning:\n",
      "\n",
      "Glyph 1590 (\\N{ARABIC LETTER DAD}) missing from font(s) Roboto.\n",
      "\n",
      "c:\\Users\\Dani_\\AppData\\Local\\Programs\\Python\\Python312\\Lib\\site-packages\\sweetviz\\graph.py:33: UserWarning:\n",
      "\n",
      "Glyph 1575 (\\N{ARABIC LETTER ALEF}) missing from font(s) Roboto.\n",
      "\n",
      "c:\\Users\\Dani_\\AppData\\Local\\Programs\\Python\\Python312\\Lib\\site-packages\\sweetviz\\graph.py:33: UserWarning:\n",
      "\n",
      "Matplotlib currently does not support Arabic natively.\n",
      "\n",
      "c:\\Users\\Dani_\\AppData\\Local\\Programs\\Python\\Python312\\Lib\\site-packages\\sweetviz\\graph.py:33: UserWarning:\n",
      "\n",
      "Glyph 1582 (\\N{ARABIC LETTER KHAH}) missing from font(s) Roboto.\n",
      "\n",
      "c:\\Users\\Dani_\\AppData\\Local\\Programs\\Python\\Python312\\Lib\\site-packages\\sweetviz\\graph.py:33: UserWarning:\n",
      "\n",
      "Glyph 1585 (\\N{ARABIC LETTER REH}) missing from font(s) Roboto.\n",
      "\n",
      "c:\\Users\\Dani_\\AppData\\Local\\Programs\\Python\\Python312\\Lib\\site-packages\\sweetviz\\graph.py:33: UserWarning:\n",
      "\n",
      "Glyph 1609 (\\N{ARABIC LETTER ALEF MAKSURA}) missing from font(s) Roboto.\n",
      "\n",
      "c:\\Users\\Dani_\\AppData\\Local\\Programs\\Python\\Python312\\Lib\\site-packages\\sweetviz\\graph.py:33: UserWarning:\n",
      "\n",
      "Glyph 1604 (\\N{ARABIC LETTER LAM}) missing from font(s) Roboto.\n",
      "\n",
      "c:\\Users\\Dani_\\AppData\\Local\\Programs\\Python\\Python312\\Lib\\site-packages\\sweetviz\\graph.py:33: UserWarning:\n",
      "\n",
      "Glyph 1581 (\\N{ARABIC LETTER HAH}) missing from font(s) Roboto.\n",
      "\n",
      "c:\\Users\\Dani_\\AppData\\Local\\Programs\\Python\\Python312\\Lib\\site-packages\\sweetviz\\graph.py:33: UserWarning:\n",
      "\n",
      "Glyph 1583 (\\N{ARABIC LETTER DAL}) missing from font(s) Roboto.\n",
      "\n",
      "c:\\Users\\Dani_\\AppData\\Local\\Programs\\Python\\Python312\\Lib\\site-packages\\sweetviz\\graph.py:33: UserWarning:\n",
      "\n",
      "Glyph 1608 (\\N{ARABIC LETTER WAW}) missing from font(s) Roboto.\n",
      "\n",
      "c:\\Users\\Dani_\\AppData\\Local\\Programs\\Python\\Python312\\Lib\\site-packages\\sweetviz\\graph.py:33: UserWarning:\n",
      "\n",
      "Glyph 1588 (\\N{ARABIC LETTER SHEEN}) missing from font(s) Roboto.\n",
      "\n",
      "c:\\Users\\Dani_\\AppData\\Local\\Programs\\Python\\Python312\\Lib\\site-packages\\sweetviz\\graph.py:33: UserWarning:\n",
      "\n",
      "Glyph 1605 (\\N{ARABIC LETTER MEEM}) missing from font(s) Roboto.\n",
      "\n",
      "c:\\Users\\Dani_\\AppData\\Local\\Programs\\Python\\Python312\\Lib\\site-packages\\sweetviz\\graph.py:33: UserWarning:\n",
      "\n",
      "Glyph 1610 (\\N{ARABIC LETTER YEH}) missing from font(s) Roboto.\n",
      "\n",
      "c:\\Users\\Dani_\\AppData\\Local\\Programs\\Python\\Python312\\Lib\\site-packages\\sweetviz\\graph.py:33: UserWarning:\n",
      "\n",
      "Glyph 1577 (\\N{ARABIC LETTER TEH MARBUTA}) missing from font(s) Roboto.\n",
      "\n",
      "c:\\Users\\Dani_\\AppData\\Local\\Programs\\Python\\Python312\\Lib\\site-packages\\sweetviz\\graph.py:33: UserWarning:\n",
      "\n",
      "Glyph 1580 (\\N{ARABIC LETTER JEEM}) missing from font(s) Roboto.\n",
      "\n",
      "c:\\Users\\Dani_\\AppData\\Local\\Programs\\Python\\Python312\\Lib\\site-packages\\sweetviz\\graph.py:33: UserWarning:\n",
      "\n",
      "Glyph 1601 (\\N{ARABIC LETTER FEH}) missing from font(s) Roboto.\n",
      "\n",
      "c:\\Users\\Dani_\\AppData\\Local\\Programs\\Python\\Python312\\Lib\\site-packages\\sweetviz\\graph.py:33: UserWarning:\n",
      "\n",
      "Glyph 1586 (\\N{ARABIC LETTER ZAIN}) missing from font(s) Roboto.\n",
      "\n",
      "c:\\Users\\Dani_\\AppData\\Local\\Programs\\Python\\Python312\\Lib\\site-packages\\sweetviz\\graph.py:33: UserWarning:\n",
      "\n",
      "Glyph 1606 (\\N{ARABIC LETTER NOON}) missing from font(s) Roboto.\n",
      "\n",
      "c:\\Users\\Dani_\\AppData\\Local\\Programs\\Python\\Python312\\Lib\\site-packages\\sweetviz\\graph.py:33: UserWarning:\n",
      "\n",
      "Glyph 1578 (\\N{ARABIC LETTER TEH}) missing from font(s) Roboto.\n",
      "\n",
      "c:\\Users\\Dani_\\AppData\\Local\\Programs\\Python\\Python312\\Lib\\site-packages\\sweetviz\\graph.py:33: UserWarning:\n",
      "\n",
      "Glyph 1576 (\\N{ARABIC LETTER BEH}) missing from font(s) Roboto.\n",
      "\n",
      "c:\\Users\\Dani_\\AppData\\Local\\Programs\\Python\\Python312\\Lib\\site-packages\\sweetviz\\graph.py:33: UserWarning:\n",
      "\n",
      "Glyph 1603 (\\N{ARABIC LETTER KAF}) missing from font(s) Roboto.\n",
      "\n",
      "c:\\Users\\Dani_\\AppData\\Local\\Programs\\Python\\Python312\\Lib\\site-packages\\sweetviz\\graph.py:33: UserWarning:\n",
      "\n",
      "Glyph 1574 (\\N{ARABIC LETTER YEH WITH HAMZA ABOVE}) missing from font(s) Roboto.\n",
      "\n",
      "c:\\Users\\Dani_\\AppData\\Local\\Programs\\Python\\Python312\\Lib\\site-packages\\sweetviz\\graph.py:33: UserWarning:\n",
      "\n",
      "Glyph 1602 (\\N{ARABIC LETTER QAF}) missing from font(s) Roboto.\n",
      "\n",
      "c:\\Users\\Dani_\\AppData\\Local\\Programs\\Python\\Python312\\Lib\\site-packages\\sweetviz\\graph.py:33: UserWarning:\n",
      "\n",
      "Glyph 1589 (\\N{ARABIC LETTER SAD}) missing from font(s) Roboto.\n",
      "\n",
      "c:\\Users\\Dani_\\AppData\\Local\\Programs\\Python\\Python312\\Lib\\site-packages\\sweetviz\\graph.py:33: UserWarning:\n",
      "\n",
      "Glyph 1593 (\\N{ARABIC LETTER AIN}) missing from font(s) Roboto.\n",
      "\n",
      "c:\\Users\\Dani_\\AppData\\Local\\Programs\\Python\\Python312\\Lib\\site-packages\\sweetviz\\graph.py:33: UserWarning:\n",
      "\n",
      "Glyph 1587 (\\N{ARABIC LETTER SEEN}) missing from font(s) Roboto.\n",
      "\n",
      "c:\\Users\\Dani_\\AppData\\Local\\Programs\\Python\\Python312\\Lib\\site-packages\\sweetviz\\graph.py:33: UserWarning:\n",
      "\n",
      "Glyph 1591 (\\N{ARABIC LETTER TAH}) missing from font(s) Roboto.\n",
      "\n",
      "c:\\Users\\Dani_\\AppData\\Local\\Programs\\Python\\Python312\\Lib\\site-packages\\sweetviz\\graph.py:33: UserWarning:\n",
      "\n",
      "Glyph 1590 (\\N{ARABIC LETTER DAD}) missing from font(s) Roboto.\n",
      "\n",
      "c:\\Users\\Dani_\\AppData\\Local\\Programs\\Python\\Python312\\Lib\\site-packages\\sweetviz\\graph.py:33: UserWarning:\n",
      "\n",
      "Glyph 1593 (\\N{ARABIC LETTER AIN}) missing from font(s) Roboto.\n",
      "\n",
      "c:\\Users\\Dani_\\AppData\\Local\\Programs\\Python\\Python312\\Lib\\site-packages\\sweetviz\\graph.py:33: UserWarning:\n",
      "\n",
      "Matplotlib currently does not support Arabic natively.\n",
      "\n",
      "c:\\Users\\Dani_\\AppData\\Local\\Programs\\Python\\Python312\\Lib\\site-packages\\sweetviz\\graph.py:33: UserWarning:\n",
      "\n",
      "Glyph 1605 (\\N{ARABIC LETTER MEEM}) missing from font(s) Roboto.\n",
      "\n",
      "c:\\Users\\Dani_\\AppData\\Local\\Programs\\Python\\Python312\\Lib\\site-packages\\sweetviz\\graph.py:33: UserWarning:\n",
      "\n",
      "Glyph 1604 (\\N{ARABIC LETTER LAM}) missing from font(s) Roboto.\n",
      "\n",
      "c:\\Users\\Dani_\\AppData\\Local\\Programs\\Python\\Python312\\Lib\\site-packages\\sweetviz\\graph.py:33: UserWarning:\n",
      "\n",
      "Glyph 1606 (\\N{ARABIC LETTER NOON}) missing from font(s) Roboto.\n",
      "\n",
      "c:\\Users\\Dani_\\AppData\\Local\\Programs\\Python\\Python312\\Lib\\site-packages\\sweetviz\\graph.py:33: UserWarning:\n",
      "\n",
      "Glyph 1576 (\\N{ARABIC LETTER BEH}) missing from font(s) Roboto.\n",
      "\n",
      "c:\\Users\\Dani_\\AppData\\Local\\Programs\\Python\\Python312\\Lib\\site-packages\\sweetviz\\graph.py:33: UserWarning:\n",
      "\n",
      "Glyph 1583 (\\N{ARABIC LETTER DAL}) missing from font(s) Roboto.\n",
      "\n",
      "c:\\Users\\Dani_\\AppData\\Local\\Programs\\Python\\Python312\\Lib\\site-packages\\sweetviz\\graph.py:33: UserWarning:\n",
      "\n",
      "Glyph 1608 (\\N{ARABIC LETTER WAW}) missing from font(s) Roboto.\n",
      "\n",
      "c:\\Users\\Dani_\\AppData\\Local\\Programs\\Python\\Python312\\Lib\\site-packages\\sweetviz\\graph.py:33: UserWarning:\n",
      "\n",
      "Glyph 1575 (\\N{ARABIC LETTER ALEF}) missing from font(s) Roboto.\n",
      "\n",
      "c:\\Users\\Dani_\\AppData\\Local\\Programs\\Python\\Python312\\Lib\\site-packages\\sweetviz\\graph.py:33: UserWarning:\n",
      "\n",
      "Glyph 1603 (\\N{ARABIC LETTER KAF}) missing from font(s) Roboto.\n",
      "\n",
      "c:\\Users\\Dani_\\AppData\\Local\\Programs\\Python\\Python312\\Lib\\site-packages\\sweetviz\\graph.py:33: UserWarning:\n",
      "\n",
      "Glyph 1593 (\\N{ARABIC LETTER AIN}) missing from font(s) Roboto.\n",
      "\n",
      "c:\\Users\\Dani_\\AppData\\Local\\Programs\\Python\\Python312\\Lib\\site-packages\\sweetviz\\graph.py:33: UserWarning:\n",
      "\n",
      "Matplotlib currently does not support Arabic natively.\n",
      "\n",
      "c:\\Users\\Dani_\\AppData\\Local\\Programs\\Python\\Python312\\Lib\\site-packages\\sweetviz\\graph.py:33: UserWarning:\n",
      "\n",
      "Glyph 1605 (\\N{ARABIC LETTER MEEM}) missing from font(s) Roboto.\n",
      "\n",
      "c:\\Users\\Dani_\\AppData\\Local\\Programs\\Python\\Python312\\Lib\\site-packages\\sweetviz\\graph.py:33: UserWarning:\n",
      "\n",
      "Glyph 1604 (\\N{ARABIC LETTER LAM}) missing from font(s) Roboto.\n",
      "\n",
      "c:\\Users\\Dani_\\AppData\\Local\\Programs\\Python\\Python312\\Lib\\site-packages\\sweetviz\\graph.py:33: UserWarning:\n",
      "\n",
      "Glyph 1606 (\\N{ARABIC LETTER NOON}) missing from font(s) Roboto.\n",
      "\n",
      "c:\\Users\\Dani_\\AppData\\Local\\Programs\\Python\\Python312\\Lib\\site-packages\\sweetviz\\graph.py:33: UserWarning:\n",
      "\n",
      "Glyph 1576 (\\N{ARABIC LETTER BEH}) missing from font(s) Roboto.\n",
      "\n",
      "c:\\Users\\Dani_\\AppData\\Local\\Programs\\Python\\Python312\\Lib\\site-packages\\sweetviz\\graph.py:33: UserWarning:\n",
      "\n",
      "Glyph 1583 (\\N{ARABIC LETTER DAL}) missing from font(s) Roboto.\n",
      "\n",
      "c:\\Users\\Dani_\\AppData\\Local\\Programs\\Python\\Python312\\Lib\\site-packages\\sweetviz\\graph.py:33: UserWarning:\n",
      "\n",
      "Glyph 1608 (\\N{ARABIC LETTER WAW}) missing from font(s) Roboto.\n",
      "\n",
      "c:\\Users\\Dani_\\AppData\\Local\\Programs\\Python\\Python312\\Lib\\site-packages\\sweetviz\\graph.py:33: UserWarning:\n",
      "\n",
      "Glyph 1575 (\\N{ARABIC LETTER ALEF}) missing from font(s) Roboto.\n",
      "\n",
      "c:\\Users\\Dani_\\AppData\\Local\\Programs\\Python\\Python312\\Lib\\site-packages\\sweetviz\\graph.py:33: UserWarning:\n",
      "\n",
      "Glyph 1603 (\\N{ARABIC LETTER KAF}) missing from font(s) Roboto.\n",
      "\n"
     ]
    },
    {
     "name": "stdout",
     "output_type": "stream",
     "text": [
      "Report Report.html was generated! NOTEBOOK/COLAB USERS: the web browser MAY not pop up, regardless, the report IS saved in your notebook/colab files.\n"
     ]
    }
   ],
   "source": [
    "report = sv.analyze(df)\n",
    "report.show_html('Report.html')"
   ]
  },
  {
   "attachments": {},
   "cell_type": "markdown",
   "id": "4e886ec7-388c-414b-ada7-803c2fb1f2cb",
   "metadata": {},
   "source": [
    "## 2. Data Cleaning: \n",
    "\n",
    "Preliminary findings from data profiling can lead to cleaning the data by:\n",
    "- Handling missing values\n",
    "- Correcting errors.\n",
    "- Dealing with outliers.\n",
    "\n",
    "-------------------\n",
    "\n"
   ]
  },
  {
   "cell_type": "markdown",
   "id": "f7cee10f-0af8-44e5-b595-8e965294daad",
   "metadata": {},
   "source": [
    "### Correcting errors\n",
    "\n",
    "-------------------"
   ]
  },
  {
   "cell_type": "code",
   "execution_count": 75,
   "id": "a59e1528-b300-4285-8d49-425f600f2a21",
   "metadata": {},
   "outputs": [
    {
     "data": {
      "text/html": [
       "<div>\n",
       "<style scoped>\n",
       "    .dataframe tbody tr th:only-of-type {\n",
       "        vertical-align: middle;\n",
       "    }\n",
       "\n",
       "    .dataframe tbody tr th {\n",
       "        vertical-align: top;\n",
       "    }\n",
       "\n",
       "    .dataframe thead th {\n",
       "        text-align: right;\n",
       "    }\n",
       "</style>\n",
       "<table border=\"1\" class=\"dataframe\">\n",
       "  <thead>\n",
       "    <tr style=\"text-align: right;\">\n",
       "      <th></th>\n",
       "      <th>Job Title</th>\n",
       "      <th>Company Name</th>\n",
       "      <th>Company Type</th>\n",
       "      <th>Region</th>\n",
       "      <th>Benefits</th>\n",
       "      <th>Contract</th>\n",
       "      <th>Experience</th>\n",
       "      <th>Gender</th>\n",
       "    </tr>\n",
       "  </thead>\n",
       "  <tbody>\n",
       "    <tr>\n",
       "      <th>0</th>\n",
       "      <td>محاسب</td>\n",
       "      <td>شركة مقر العالم للسفريات</td>\n",
       "      <td>خاص</td>\n",
       "      <td>الرياض</td>\n",
       "      <td>['Salary', '5000.0']</td>\n",
       "      <td>دوام كامل</td>\n",
       "      <td>0 Years</td>\n",
       "      <td>both</td>\n",
       "    </tr>\n",
       "    <tr>\n",
       "      <th>1</th>\n",
       "      <td>بائع</td>\n",
       "      <td>شركة عالم الكهرباء للمقاولات</td>\n",
       "      <td>خاص</td>\n",
       "      <td>المنطقة الشرقية</td>\n",
       "      <td>['Salary', '5000.0']</td>\n",
       "      <td>دوام كامل</td>\n",
       "      <td>0 Years</td>\n",
       "      <td>both</td>\n",
       "    </tr>\n",
       "    <tr>\n",
       "      <th>2</th>\n",
       "      <td>أخصائي عمليات موارد بشرية</td>\n",
       "      <td>شركه دار السلام</td>\n",
       "      <td>خاص</td>\n",
       "      <td>الرياض</td>\n",
       "      <td>['Salary', '4000.0']</td>\n",
       "      <td>دوام كامل</td>\n",
       "      <td>2 Years</td>\n",
       "      <td>both</td>\n",
       "    </tr>\n",
       "    <tr>\n",
       "      <th>3</th>\n",
       "      <td>ميكانيكي سيارات</td>\n",
       "      <td>مؤسسة لمكو لغيار الزيوت</td>\n",
       "      <td>خاص</td>\n",
       "      <td>المنطقة الشرقية</td>\n",
       "      <td>['Salary', '5000.0']</td>\n",
       "      <td>دوام كامل</td>\n",
       "      <td>0 Years</td>\n",
       "      <td>M</td>\n",
       "    </tr>\n",
       "    <tr>\n",
       "      <th>4</th>\n",
       "      <td>محاسب</td>\n",
       "      <td>مؤسسة فكرة اليمامة للمقاولات</td>\n",
       "      <td>خاص</td>\n",
       "      <td>الرياض</td>\n",
       "      <td>['Salary', '5000.0']</td>\n",
       "      <td>دوام كامل</td>\n",
       "      <td>0 Years</td>\n",
       "      <td>both</td>\n",
       "    </tr>\n",
       "  </tbody>\n",
       "</table>\n",
       "</div>"
      ],
      "text/plain": [
       "                   Job Title                  Company Name Company Type  \\\n",
       "0                      محاسب      شركة مقر العالم للسفريات          خاص   \n",
       "1                       بائع  شركة عالم الكهرباء للمقاولات          خاص   \n",
       "2  أخصائي عمليات موارد بشرية               شركه دار السلام          خاص   \n",
       "3            ميكانيكي سيارات       مؤسسة لمكو لغيار الزيوت          خاص   \n",
       "4                      محاسب  مؤسسة فكرة اليمامة للمقاولات          خاص   \n",
       "\n",
       "            Region              Benefits   Contract Experience Gender  \n",
       "0           الرياض  ['Salary', '5000.0']  دوام كامل    0 Years   both  \n",
       "1  المنطقة الشرقية  ['Salary', '5000.0']  دوام كامل    0 Years   both  \n",
       "2           الرياض  ['Salary', '4000.0']  دوام كامل    2 Years   both  \n",
       "3  المنطقة الشرقية  ['Salary', '5000.0']  دوام كامل    0 Years      M  \n",
       "4           الرياض  ['Salary', '5000.0']  دوام كامل    0 Years   both  "
      ]
     },
     "execution_count": 75,
     "metadata": {},
     "output_type": "execute_result"
    }
   ],
   "source": [
    "df.head()"
   ]
  },
  {
   "cell_type": "code",
   "execution_count": 76,
   "id": "06273b88-a169-42e8-81f5-5d71cb3f9c21",
   "metadata": {},
   "outputs": [],
   "source": [
    "#Correcte errors in Benefits column and get the salary information \n",
    "df['Benefits'] = df['Benefits'].str.replace(\"'\", '')"
   ]
  },
  {
   "cell_type": "code",
   "execution_count": 77,
   "id": "edddd6ea-9d68-43f7-9da7-cbe8647d204a",
   "metadata": {},
   "outputs": [],
   "source": [
    "df['Benefits'] = df['Benefits'].str.replace(\"]\", '')"
   ]
  },
  {
   "cell_type": "code",
   "execution_count": 78,
   "id": "212d0261-ddb6-4f96-983a-cc90ffaace9c",
   "metadata": {},
   "outputs": [],
   "source": [
    "df['Benefits'] = df['Benefits'].map(lambda x : float(x.split(\",\")[1]) if \",\" in x else x)"
   ]
  },
  {
   "cell_type": "code",
   "execution_count": 79,
   "id": "77cebec8-f472-42c8-ab8e-a379e20c0f2e",
   "metadata": {},
   "outputs": [],
   "source": [
    "df = df.rename(columns={'Benefits': 'Salary'}) "
   ]
  },
  {
   "cell_type": "code",
   "execution_count": 80,
   "id": "1b9d8a1d-763b-4e11-809d-90e827075e76",
   "metadata": {},
   "outputs": [
    {
     "data": {
      "text/html": [
       "<div>\n",
       "<style scoped>\n",
       "    .dataframe tbody tr th:only-of-type {\n",
       "        vertical-align: middle;\n",
       "    }\n",
       "\n",
       "    .dataframe tbody tr th {\n",
       "        vertical-align: top;\n",
       "    }\n",
       "\n",
       "    .dataframe thead th {\n",
       "        text-align: right;\n",
       "    }\n",
       "</style>\n",
       "<table border=\"1\" class=\"dataframe\">\n",
       "  <thead>\n",
       "    <tr style=\"text-align: right;\">\n",
       "      <th></th>\n",
       "      <th>Job Title</th>\n",
       "      <th>Company Name</th>\n",
       "      <th>Company Type</th>\n",
       "      <th>Region</th>\n",
       "      <th>Salary</th>\n",
       "      <th>Contract</th>\n",
       "      <th>Experience</th>\n",
       "      <th>Gender</th>\n",
       "    </tr>\n",
       "  </thead>\n",
       "  <tbody>\n",
       "    <tr>\n",
       "      <th>0</th>\n",
       "      <td>محاسب</td>\n",
       "      <td>شركة مقر العالم للسفريات</td>\n",
       "      <td>خاص</td>\n",
       "      <td>الرياض</td>\n",
       "      <td>5000.0</td>\n",
       "      <td>دوام كامل</td>\n",
       "      <td>0 Years</td>\n",
       "      <td>both</td>\n",
       "    </tr>\n",
       "    <tr>\n",
       "      <th>1</th>\n",
       "      <td>بائع</td>\n",
       "      <td>شركة عالم الكهرباء للمقاولات</td>\n",
       "      <td>خاص</td>\n",
       "      <td>المنطقة الشرقية</td>\n",
       "      <td>5000.0</td>\n",
       "      <td>دوام كامل</td>\n",
       "      <td>0 Years</td>\n",
       "      <td>both</td>\n",
       "    </tr>\n",
       "    <tr>\n",
       "      <th>2</th>\n",
       "      <td>أخصائي عمليات موارد بشرية</td>\n",
       "      <td>شركه دار السلام</td>\n",
       "      <td>خاص</td>\n",
       "      <td>الرياض</td>\n",
       "      <td>4000.0</td>\n",
       "      <td>دوام كامل</td>\n",
       "      <td>2 Years</td>\n",
       "      <td>both</td>\n",
       "    </tr>\n",
       "    <tr>\n",
       "      <th>3</th>\n",
       "      <td>ميكانيكي سيارات</td>\n",
       "      <td>مؤسسة لمكو لغيار الزيوت</td>\n",
       "      <td>خاص</td>\n",
       "      <td>المنطقة الشرقية</td>\n",
       "      <td>5000.0</td>\n",
       "      <td>دوام كامل</td>\n",
       "      <td>0 Years</td>\n",
       "      <td>M</td>\n",
       "    </tr>\n",
       "    <tr>\n",
       "      <th>4</th>\n",
       "      <td>محاسب</td>\n",
       "      <td>مؤسسة فكرة اليمامة للمقاولات</td>\n",
       "      <td>خاص</td>\n",
       "      <td>الرياض</td>\n",
       "      <td>5000.0</td>\n",
       "      <td>دوام كامل</td>\n",
       "      <td>0 Years</td>\n",
       "      <td>both</td>\n",
       "    </tr>\n",
       "  </tbody>\n",
       "</table>\n",
       "</div>"
      ],
      "text/plain": [
       "                   Job Title                  Company Name Company Type  \\\n",
       "0                      محاسب      شركة مقر العالم للسفريات          خاص   \n",
       "1                       بائع  شركة عالم الكهرباء للمقاولات          خاص   \n",
       "2  أخصائي عمليات موارد بشرية               شركه دار السلام          خاص   \n",
       "3            ميكانيكي سيارات       مؤسسة لمكو لغيار الزيوت          خاص   \n",
       "4                      محاسب  مؤسسة فكرة اليمامة للمقاولات          خاص   \n",
       "\n",
       "            Region  Salary   Contract Experience Gender  \n",
       "0           الرياض  5000.0  دوام كامل    0 Years   both  \n",
       "1  المنطقة الشرقية  5000.0  دوام كامل    0 Years   both  \n",
       "2           الرياض  4000.0  دوام كامل    2 Years   both  \n",
       "3  المنطقة الشرقية  5000.0  دوام كامل    0 Years      M  \n",
       "4           الرياض  5000.0  دوام كامل    0 Years   both  "
      ]
     },
     "execution_count": 80,
     "metadata": {},
     "output_type": "execute_result"
    }
   ],
   "source": [
    "df.head()"
   ]
  },
  {
   "cell_type": "code",
   "execution_count": 81,
   "id": "f1d95da5-a3ba-473a-8243-aa177cadae20",
   "metadata": {},
   "outputs": [],
   "source": [
    "#The word years from the column\n",
    "df['Experience'] = df['Experience'].map(lambda x : int(x.split(\" \")[0]) if \" \" in x else x)"
   ]
  },
  {
   "cell_type": "code",
   "execution_count": 82,
   "id": "d14f5796-6070-4b4e-a4a2-a628d7b109a8",
   "metadata": {},
   "outputs": [
    {
     "data": {
      "text/html": [
       "<div>\n",
       "<style scoped>\n",
       "    .dataframe tbody tr th:only-of-type {\n",
       "        vertical-align: middle;\n",
       "    }\n",
       "\n",
       "    .dataframe tbody tr th {\n",
       "        vertical-align: top;\n",
       "    }\n",
       "\n",
       "    .dataframe thead th {\n",
       "        text-align: right;\n",
       "    }\n",
       "</style>\n",
       "<table border=\"1\" class=\"dataframe\">\n",
       "  <thead>\n",
       "    <tr style=\"text-align: right;\">\n",
       "      <th></th>\n",
       "      <th>Job Title</th>\n",
       "      <th>Company Name</th>\n",
       "      <th>Company Type</th>\n",
       "      <th>Region</th>\n",
       "      <th>Salary</th>\n",
       "      <th>Contract</th>\n",
       "      <th>Experience</th>\n",
       "      <th>Gender</th>\n",
       "    </tr>\n",
       "  </thead>\n",
       "  <tbody>\n",
       "    <tr>\n",
       "      <th>0</th>\n",
       "      <td>محاسب</td>\n",
       "      <td>شركة مقر العالم للسفريات</td>\n",
       "      <td>خاص</td>\n",
       "      <td>الرياض</td>\n",
       "      <td>5000.0</td>\n",
       "      <td>دوام كامل</td>\n",
       "      <td>0</td>\n",
       "      <td>both</td>\n",
       "    </tr>\n",
       "    <tr>\n",
       "      <th>1</th>\n",
       "      <td>بائع</td>\n",
       "      <td>شركة عالم الكهرباء للمقاولات</td>\n",
       "      <td>خاص</td>\n",
       "      <td>المنطقة الشرقية</td>\n",
       "      <td>5000.0</td>\n",
       "      <td>دوام كامل</td>\n",
       "      <td>0</td>\n",
       "      <td>both</td>\n",
       "    </tr>\n",
       "    <tr>\n",
       "      <th>2</th>\n",
       "      <td>أخصائي عمليات موارد بشرية</td>\n",
       "      <td>شركه دار السلام</td>\n",
       "      <td>خاص</td>\n",
       "      <td>الرياض</td>\n",
       "      <td>4000.0</td>\n",
       "      <td>دوام كامل</td>\n",
       "      <td>2</td>\n",
       "      <td>both</td>\n",
       "    </tr>\n",
       "    <tr>\n",
       "      <th>3</th>\n",
       "      <td>ميكانيكي سيارات</td>\n",
       "      <td>مؤسسة لمكو لغيار الزيوت</td>\n",
       "      <td>خاص</td>\n",
       "      <td>المنطقة الشرقية</td>\n",
       "      <td>5000.0</td>\n",
       "      <td>دوام كامل</td>\n",
       "      <td>0</td>\n",
       "      <td>M</td>\n",
       "    </tr>\n",
       "    <tr>\n",
       "      <th>4</th>\n",
       "      <td>محاسب</td>\n",
       "      <td>مؤسسة فكرة اليمامة للمقاولات</td>\n",
       "      <td>خاص</td>\n",
       "      <td>الرياض</td>\n",
       "      <td>5000.0</td>\n",
       "      <td>دوام كامل</td>\n",
       "      <td>0</td>\n",
       "      <td>both</td>\n",
       "    </tr>\n",
       "  </tbody>\n",
       "</table>\n",
       "</div>"
      ],
      "text/plain": [
       "                   Job Title                  Company Name Company Type  \\\n",
       "0                      محاسب      شركة مقر العالم للسفريات          خاص   \n",
       "1                       بائع  شركة عالم الكهرباء للمقاولات          خاص   \n",
       "2  أخصائي عمليات موارد بشرية               شركه دار السلام          خاص   \n",
       "3            ميكانيكي سيارات       مؤسسة لمكو لغيار الزيوت          خاص   \n",
       "4                      محاسب  مؤسسة فكرة اليمامة للمقاولات          خاص   \n",
       "\n",
       "            Region  Salary   Contract  Experience Gender  \n",
       "0           الرياض  5000.0  دوام كامل           0   both  \n",
       "1  المنطقة الشرقية  5000.0  دوام كامل           0   both  \n",
       "2           الرياض  4000.0  دوام كامل           2   both  \n",
       "3  المنطقة الشرقية  5000.0  دوام كامل           0      M  \n",
       "4           الرياض  5000.0  دوام كامل           0   both  "
      ]
     },
     "execution_count": 82,
     "metadata": {},
     "output_type": "execute_result"
    }
   ],
   "source": [
    "df.head()"
   ]
  },
  {
   "cell_type": "code",
   "execution_count": 83,
   "id": "80d494c8-d147-4aca-a93e-d76788b85452",
   "metadata": {},
   "outputs": [
    {
     "name": "stdout",
     "output_type": "stream",
     "text": [
      "<class 'pandas.core.frame.DataFrame'>\n",
      "RangeIndex: 1470 entries, 0 to 1469\n",
      "Data columns (total 8 columns):\n",
      " #   Column        Non-Null Count  Dtype  \n",
      "---  ------        --------------  -----  \n",
      " 0   Job Title     1470 non-null   object \n",
      " 1   Company Name  1470 non-null   object \n",
      " 2   Company Type  1470 non-null   object \n",
      " 3   Region        1470 non-null   object \n",
      " 4   Salary        1470 non-null   float64\n",
      " 5   Contract      1470 non-null   object \n",
      " 6   Experience    1470 non-null   int64  \n",
      " 7   Gender        1470 non-null   object \n",
      "dtypes: float64(1), int64(1), object(6)\n",
      "memory usage: 92.0+ KB\n"
     ]
    }
   ],
   "source": [
    "#Change the data type\n",
    "df['Salary'].astype(float)\n",
    "df['Experience'].astype(int)\n",
    "df.info()"
   ]
  },
  {
   "cell_type": "markdown",
   "id": "21e16dbc-02c4-4f2d-8e09-942afece7958",
   "metadata": {},
   "source": [
    "## check outliers "
   ]
  },
  {
   "cell_type": "code",
   "execution_count": 84,
   "id": "25a585f0-2b9c-42fa-bf21-cacc6aa3be3f",
   "metadata": {},
   "outputs": [
    {
     "data": {
      "application/vnd.plotly.v1+json": {
       "config": {
        "plotlyServerURL": "https://plot.ly"
       },
       "data": [
        {
         "alignmentgroup": "True",
         "bingroup": "x",
         "hovertemplate": "Salary=%{x}<br>count=%{y}<extra></extra>",
         "legendgroup": "",
         "marker": {
          "color": "#636efa",
          "pattern": {
           "shape": ""
          }
         },
         "name": "",
         "offsetgroup": "",
         "orientation": "v",
         "showlegend": false,
         "type": "histogram",
         "x": [
          5000,
          5000,
          4000,
          5000,
          5000,
          4500,
          6000,
          8000,
          10000,
          5000,
          7200,
          4000,
          7200,
          6000,
          7000,
          3000,
          9000,
          12000,
          4000,
          5500,
          5000,
          8400,
          4000,
          4000,
          4000,
          4000,
          4000,
          6000,
          4500,
          5500,
          4000,
          3200,
          5000,
          7000,
          7000,
          7000,
          4500,
          4500,
          4000,
          4500,
          4500,
          4000,
          4500,
          5000,
          5500,
          4500,
          4500,
          4000,
          4000,
          5000,
          6000,
          4000,
          4170,
          4000,
          4500,
          5500,
          6000,
          4000,
          4000,
          4500,
          4500,
          4000,
          4000,
          5500,
          4000,
          4000,
          4000,
          4000,
          4000,
          4000,
          4000,
          4000,
          7000,
          6000,
          4000,
          4000,
          4000,
          7000,
          5000,
          5500,
          3640,
          8000,
          8000,
          5000,
          4000,
          5000,
          4000,
          5500,
          4000,
          7000,
          4000,
          5250,
          5000,
          4000,
          7000,
          7000,
          5000,
          4000,
          4000,
          8000,
          4000,
          4000,
          4000,
          4000,
          4000,
          5000,
          4500,
          5500,
          4000,
          6000,
          3000,
          4400,
          4000,
          4000,
          4000,
          4000,
          3200,
          4082,
          4000,
          4000,
          4000,
          4000,
          4000,
          4500,
          4000,
          7000,
          5000,
          4000,
          4082,
          4082,
          6000,
          6000,
          6000,
          7000,
          7000,
          5000,
          8000,
          4000,
          4000,
          4000,
          5000,
          5000,
          5000,
          5000,
          8400,
          8400,
          8400,
          8400,
          6150,
          6500,
          6000,
          4400,
          4500,
          7000,
          4000,
          4000,
          5000,
          4000,
          6000,
          5000,
          4000,
          4000,
          4000,
          5000,
          4500,
          4500,
          4500,
          5000,
          4000,
          5000,
          15000,
          16000,
          10000,
          6000,
          15000,
          4000,
          4500,
          5000,
          5000,
          4000,
          5000,
          4500,
          7000,
          4500,
          4000,
          4000,
          7000,
          4000,
          4000,
          4000,
          4000,
          4000,
          6000,
          5000,
          6500,
          5000,
          6000,
          3000,
          4000,
          5700,
          5500,
          4500,
          5000,
          4000,
          4000,
          4000,
          4000,
          4000,
          5000,
          4000,
          4000,
          4000,
          4000,
          4000,
          6000,
          4000,
          4000,
          10000,
          5000,
          4000,
          4000,
          4782,
          3200,
          7000,
          5000,
          6000,
          4000,
          10000,
          4500,
          15000,
          4500,
          7000,
          5000,
          5000,
          5500,
          5000,
          4000,
          4000,
          4500,
          4000,
          4000,
          8400,
          4500,
          6000,
          4000,
          4000,
          10000,
          4000,
          4000,
          4000,
          5000,
          4000,
          6000,
          4000,
          4000,
          4000,
          4000,
          5000,
          4000,
          5000,
          4000,
          7000,
          5000,
          4000,
          4000,
          4000,
          4000,
          5000,
          5000,
          5000,
          4000,
          5000,
          4375,
          6000,
          4000,
          5000,
          5000,
          5000,
          5000,
          6500,
          4000,
          4500,
          5500,
          4000,
          5700,
          4434,
          4000,
          4000,
          6000,
          6000,
          4000,
          10000,
          6000,
          6000,
          5000,
          4000,
          4000,
          8000,
          10000,
          6500,
          5000,
          4000,
          4000,
          6000,
          6000,
          4000,
          4000,
          4000,
          4000,
          13889,
          4000,
          4444,
          4800,
          4000,
          5000,
          4000,
          6000,
          6000,
          6000,
          6000,
          6000,
          6000,
          5000,
          7000,
          5000,
          4000,
          4000,
          4000,
          4000,
          5000,
          4500,
          5000,
          4500,
          4500,
          4000,
          4000,
          4000,
          4000,
          4000,
          4000,
          5000,
          4000,
          4000,
          5625,
          9200,
          3000,
          4000,
          5000,
          4000,
          5600,
          5600,
          5600,
          5600,
          4000,
          4000,
          4000,
          4500,
          5500,
          4800,
          8803,
          4000,
          8803,
          4000,
          4000,
          7000,
          5000,
          4000,
          4000,
          4000,
          4000,
          6000,
          7000,
          4000,
          4000,
          8000,
          4000,
          4000,
          4500,
          4000,
          4000,
          5700,
          5700,
          5700,
          5700,
          8400,
          5000,
          5000,
          6000,
          5000,
          5000,
          4500,
          4000,
          4000,
          3200,
          4000,
          4000,
          4000,
          4000,
          5000,
          6000,
          6000,
          5700,
          10000,
          8000,
          6000,
          6000,
          3500,
          6000,
          4500,
          4000,
          6000,
          6000,
          5093,
          5000,
          7000,
          7000,
          7000,
          4000,
          4000,
          4000,
          5800,
          5000,
          4000,
          9000,
          4000,
          4000,
          4000,
          5000,
          4000,
          4000,
          5625,
          6000,
          6000,
          5000,
          4000,
          5000,
          5000,
          5000,
          5000,
          5000,
          6000,
          5200,
          8000,
          7000,
          4000,
          8500,
          4000,
          4500,
          4000,
          3600,
          6000,
          4000,
          4000,
          4000,
          4000,
          6000,
          7000,
          4000,
          7500,
          4408,
          4000,
          5000,
          5500,
          4000,
          4000,
          4000,
          5000,
          4000,
          6000,
          4000,
          27000,
          4000,
          5000,
          7500,
          4083,
          7000,
          4000,
          4500,
          4000,
          6500,
          7000,
          12000,
          5000,
          4000,
          5500,
          5500,
          5000,
          5500,
          10000,
          4000,
          5000,
          4600,
          8496,
          4000,
          5000,
          6000,
          4000,
          8000,
          6000,
          4000,
          4500,
          5000,
          5000,
          5000,
          4000,
          6000,
          6000,
          4000,
          4000,
          4500,
          5000,
          8000,
          6500,
          4000,
          5500,
          4000,
          6000,
          6250,
          4000,
          8333,
          4000,
          4000,
          5000,
          4000,
          4000,
          4000,
          4000,
          5000,
          5500,
          7000,
          32000,
          4000,
          4000,
          12325,
          4000,
          4500,
          5625,
          4000,
          7000,
          3500,
          6583,
          6583,
          4000,
          6583,
          4000,
          4000,
          4000,
          4000,
          4000,
          4000,
          4000,
          4000,
          4000,
          4000,
          4000,
          4000,
          4000,
          4000,
          10000,
          15000,
          4000,
          5500,
          5000,
          4000,
          4000,
          5000,
          4000,
          4500,
          4000,
          4000,
          4500,
          7000,
          5500,
          6000,
          4800,
          6500,
          6000,
          7500,
          8500,
          6000,
          5599,
          4500,
          4000,
          4000,
          3500,
          4000,
          8000,
          4000,
          5000,
          5000,
          7500,
          4500,
          7500,
          4000,
          4000,
          5700,
          5700,
          4000,
          5500,
          6000,
          5000,
          4000,
          8000,
          4000,
          4000,
          5000,
          4000,
          5500,
          4500,
          4000,
          4000,
          8500,
          8500,
          5500,
          10000,
          4500,
          10000,
          4500,
          4500,
          10000,
          7000,
          4500,
          4500,
          9500,
          9500,
          10000,
          4500,
          11000,
          11000,
          4500,
          6000,
          4000,
          4000,
          4750,
          5500,
          5500,
          7000,
          5000,
          5000,
          4000,
          4000,
          4500,
          4000,
          5000,
          5000,
          4000,
          4000,
          4000,
          5000,
          4000,
          3500,
          4000,
          4500,
          4000,
          4000,
          6500,
          4000,
          5000,
          6000,
          4000,
          8000,
          4000,
          4400,
          5000,
          5000,
          5000,
          5000,
          8000,
          5000,
          4000,
          4000,
          4000,
          4000,
          4000,
          4000,
          4320,
          4630,
          4375,
          4500,
          5066,
          4500,
          4500,
          4000,
          4500,
          4500,
          4500,
          4000,
          4630,
          4630,
          5000,
          4000,
          7000,
          4000,
          6000,
          4000,
          6000,
          5000,
          6000,
          5000,
          5000,
          7000,
          8500,
          5500,
          7500,
          4000,
          4000,
          5000,
          5200,
          4000,
          6000,
          4687,
          5000,
          4625,
          4000,
          6000,
          6000,
          5000,
          5000,
          4500,
          4000,
          4500,
          4500,
          8000,
          8000,
          6500,
          6500,
          6000,
          5000,
          4500,
          5000,
          5000,
          7500,
          7000,
          4500,
          4500,
          5500,
          4000,
          3200,
          5500,
          4500,
          4000,
          5700,
          10250,
          5000,
          4500,
          4500,
          5000,
          4500,
          4000,
          15000,
          4000,
          4000,
          8000,
          5000,
          5000,
          4000,
          4000,
          4000,
          4000,
          4000,
          4000,
          4000,
          5500,
          4000,
          7000,
          5000,
          4000,
          5040,
          4170,
          5000,
          3198,
          4500,
          4000,
          6000,
          5000,
          6000,
          6000,
          4000,
          4500,
          4000,
          4000,
          4000,
          4000,
          4000,
          7000,
          4050,
          4000,
          4000,
          4000,
          4000,
          6000,
          5700,
          5700,
          5700,
          5700,
          7000,
          8400,
          7000,
          8400,
          9600,
          6000,
          4000,
          4000,
          4000,
          8000,
          5000,
          3500,
          4000,
          5000,
          6000,
          4000,
          6500,
          4000,
          7000,
          8500,
          4000,
          5600,
          8000,
          6000,
          7000,
          4000,
          3500,
          7000,
          5000,
          5000,
          5000,
          4000,
          4500,
          4500,
          4500,
          4000,
          6000,
          6000,
          4000,
          4000,
          4000,
          4000,
          5000,
          4000,
          5000,
          4000,
          15000,
          5000,
          5000,
          7000,
          4500,
          4000,
          4000,
          5000,
          6000,
          4000,
          4000,
          6500,
          6000,
          4500,
          6000,
          5000,
          7000,
          6000,
          5000,
          4200,
          3200,
          4800,
          4000,
          4000,
          4000,
          4000,
          5000,
          5000,
          8000,
          4000,
          4000,
          4000,
          4000,
          4000,
          4200,
          4000,
          4000,
          4000,
          4000,
          4000,
          4082,
          4000,
          4000,
          6000,
          6000,
          4000,
          4000,
          35000,
          5500,
          6000,
          4000,
          3200,
          4000,
          4000,
          3200,
          7000,
          5700,
          6000,
          4000,
          7000,
          13200,
          4000,
          4000,
          5700,
          4000,
          6000,
          5500,
          4000,
          4000,
          4000,
          5000,
          5000,
          8000,
          4000,
          4000,
          3000,
          4200,
          4000,
          4000,
          6000,
          5000,
          4000,
          4000,
          4000,
          7000,
          4000,
          4000,
          4000,
          4000,
          4000,
          7500,
          6000,
          3200,
          4000,
          4000,
          6000,
          4000,
          5000,
          8000,
          10000,
          4000,
          5271,
          5000,
          5500,
          4500,
          5000,
          15532,
          4000,
          4667,
          4000,
          3200,
          4082,
          4000,
          4000,
          6000,
          6000,
          4000,
          5500,
          4000,
          4000,
          5500,
          4000,
          5000,
          4000,
          4500,
          5000,
          4500,
          5500,
          4300,
          4000,
          7000,
          4500,
          4000,
          4000,
          12000,
          4000,
          4000,
          4000,
          4000,
          3640,
          4500,
          4000,
          4000,
          4000,
          4000,
          4001,
          5000,
          4500,
          4500,
          5000,
          5500,
          5000,
          6000,
          4000,
          4000,
          3300,
          4000,
          4000,
          4000,
          5500,
          4000,
          4000,
          4000,
          5200,
          5500,
          4000,
          4000,
          4000,
          4000,
          6000,
          5000,
          5483,
          4000,
          5700,
          5700,
          5700,
          5625,
          6250,
          7200,
          5500,
          5000,
          5000,
          4000,
          5000,
          5000,
          5500,
          6000,
          7000,
          6000,
          4500,
          7000,
          5500,
          6000,
          5500,
          6000,
          4000,
          4000,
          5000,
          8000,
          8000,
          4000,
          4000,
          4000,
          6000,
          3200,
          4000,
          5000,
          5000,
          5000,
          4000,
          6000,
          6000,
          4000,
          4000,
          5000,
          6000,
          4000,
          4000,
          4000,
          5500,
          5000,
          5000,
          5000,
          5000,
          7000,
          7000,
          7000,
          7000,
          7000,
          4000,
          4000,
          4500,
          6000,
          6000,
          4000,
          4000,
          4000,
          4000,
          7000,
          5000,
          7000,
          6500,
          5700,
          4000,
          6000,
          8000,
          12000,
          6000,
          8000,
          12000,
          12000,
          8000,
          8000,
          12000,
          8000,
          6000,
          6000,
          6000,
          3500,
          8000,
          4000,
          6000,
          6000,
          3500,
          8000,
          7000,
          4000,
          5000,
          5000,
          5000,
          5000,
          5000,
          5000,
          5000,
          5000,
          7000,
          7000,
          5000,
          7000,
          6000,
          5000,
          5000,
          5000,
          5000,
          5000,
          4000,
          7000,
          4000,
          4000,
          6000,
          4000,
          35000,
          6000,
          4000,
          3200,
          4000,
          3200,
          5700,
          7000,
          5700,
          6000,
          4000,
          7000,
          13200,
          4000,
          5700,
          4000,
          6000,
          5500,
          4000,
          4000,
          5000,
          5000,
          3000,
          6000,
          5000,
          4000,
          4000,
          7757,
          5700,
          7000,
          4000,
          4000,
          4000,
          4500,
          3200,
          4500,
          4000,
          18000,
          4500,
          8000,
          6250,
          5500,
          3500,
          6000,
          4000,
          4000,
          4000,
          6000,
          10000,
          7500,
          7500,
          7500,
          10000,
          7500,
          4000,
          4500,
          4500,
          4000,
          7000,
          5000,
          4000,
          4000,
          4000,
          4000,
          4500,
          4500,
          4000,
          4000,
          4500,
          4500,
          3500,
          7000,
          7000,
          4000,
          5000,
          4000,
          3600,
          3600,
          3600,
          4000,
          6000,
          6000,
          4000,
          4000,
          4000,
          4000,
          6000,
          5500,
          5000,
          4000,
          6000,
          4000,
          4200,
          8000,
          8000,
          8000,
          6000,
          4500,
          10000,
          10000,
          5000,
          8000,
          6999,
          7000,
          7000,
          7000,
          6000,
          15000,
          4000,
          4082,
          10000,
          4000,
          4000,
          4000,
          4000,
          9900,
          5000,
          9900,
          9900,
          9900,
          9900,
          5500,
          9900,
          9900,
          4000,
          6500,
          4000,
          4000,
          4000,
          6000,
          4082,
          7000,
          5000,
          5000,
          4000,
          6000,
          6500,
          4000,
          7500,
          4000,
          4000,
          4000,
          4000,
          6000,
          6000,
          4000,
          4000,
          4000,
          4000,
          4900,
          5000,
          5000,
          4500,
          5500,
          7000,
          5500,
          6000,
          4000,
          3000,
          6000,
          4000,
          4000,
          4000,
          4000,
          12400,
          6000,
          4200,
          4000,
          5000,
          4000,
          4000,
          3500,
          6000,
          7000,
          4500,
          6000,
          5000,
          5500,
          5000,
          7500,
          4000,
          4000,
          4000,
          9259,
          4000,
          12000,
          4000,
          4000,
          5000,
          4000,
          4000,
          4000,
          4000,
          4000,
          4000,
          5000,
          5000,
          4000,
          4000,
          4000,
          4000,
          4000,
          4000,
          4000,
          6000,
          6000,
          4000,
          5500,
          5500,
          5500,
          5500,
          4000,
          4000,
          4000,
          4000,
          7000,
          6000,
          5000,
          4000,
          5000,
          4000,
          6000,
          7000,
          7000,
          4000,
          4500,
          4500,
          5500,
          4000,
          5000,
          5500,
          5000,
          8000,
          4000,
          5000,
          6000,
          4000,
          4000,
          4000,
          7000,
          5000,
          4000,
          4000,
          12000,
          4900,
          7000,
          4000,
          5000,
          7000,
          6000,
          4000,
          4000,
          4000,
          4000,
          7000,
          4000,
          4000,
          4000,
          4000,
          4500,
          4000,
          4000,
          4000,
          4200,
          4000,
          5000,
          4500,
          4000,
          4000,
          4000,
          6500,
          4000,
          5000,
          8000,
          6500,
          4000,
          8500,
          5000,
          4000,
          4000,
          4000,
          4000,
          4000,
          4000,
          7000,
          4000,
          4000,
          4000,
          5000,
          14000,
          7000,
          7000,
          7000,
          5000,
          4000,
          4000,
          4000,
          4100,
          5000,
          8000,
          4000,
          4000,
          4000,
          4000,
          4000,
          4000,
          4500,
          5000,
          4500,
          4000,
          5500,
          4500,
          4500,
          4000,
          4000,
          4500,
          6500,
          4500,
          7000,
          5000,
          4200,
          5000,
          5556,
          5000,
          4000,
          5000,
          4000,
          4000,
          5000,
          4000,
          4000,
          4000,
          4000,
          5500,
          4000,
          7000,
          4000,
          7000
         ],
         "xaxis": "x",
         "yaxis": "y"
        }
       ],
       "layout": {
        "barmode": "relative",
        "legend": {
         "tracegroupgap": 0
        },
        "template": {
         "data": {
          "bar": [
           {
            "error_x": {
             "color": "#2a3f5f"
            },
            "error_y": {
             "color": "#2a3f5f"
            },
            "marker": {
             "line": {
              "color": "#E5ECF6",
              "width": 0.5
             },
             "pattern": {
              "fillmode": "overlay",
              "size": 10,
              "solidity": 0.2
             }
            },
            "type": "bar"
           }
          ],
          "barpolar": [
           {
            "marker": {
             "line": {
              "color": "#E5ECF6",
              "width": 0.5
             },
             "pattern": {
              "fillmode": "overlay",
              "size": 10,
              "solidity": 0.2
             }
            },
            "type": "barpolar"
           }
          ],
          "carpet": [
           {
            "aaxis": {
             "endlinecolor": "#2a3f5f",
             "gridcolor": "white",
             "linecolor": "white",
             "minorgridcolor": "white",
             "startlinecolor": "#2a3f5f"
            },
            "baxis": {
             "endlinecolor": "#2a3f5f",
             "gridcolor": "white",
             "linecolor": "white",
             "minorgridcolor": "white",
             "startlinecolor": "#2a3f5f"
            },
            "type": "carpet"
           }
          ],
          "choropleth": [
           {
            "colorbar": {
             "outlinewidth": 0,
             "ticks": ""
            },
            "type": "choropleth"
           }
          ],
          "contour": [
           {
            "colorbar": {
             "outlinewidth": 0,
             "ticks": ""
            },
            "colorscale": [
             [
              0,
              "#0d0887"
             ],
             [
              0.1111111111111111,
              "#46039f"
             ],
             [
              0.2222222222222222,
              "#7201a8"
             ],
             [
              0.3333333333333333,
              "#9c179e"
             ],
             [
              0.4444444444444444,
              "#bd3786"
             ],
             [
              0.5555555555555556,
              "#d8576b"
             ],
             [
              0.6666666666666666,
              "#ed7953"
             ],
             [
              0.7777777777777778,
              "#fb9f3a"
             ],
             [
              0.8888888888888888,
              "#fdca26"
             ],
             [
              1,
              "#f0f921"
             ]
            ],
            "type": "contour"
           }
          ],
          "contourcarpet": [
           {
            "colorbar": {
             "outlinewidth": 0,
             "ticks": ""
            },
            "type": "contourcarpet"
           }
          ],
          "heatmap": [
           {
            "colorbar": {
             "outlinewidth": 0,
             "ticks": ""
            },
            "colorscale": [
             [
              0,
              "#0d0887"
             ],
             [
              0.1111111111111111,
              "#46039f"
             ],
             [
              0.2222222222222222,
              "#7201a8"
             ],
             [
              0.3333333333333333,
              "#9c179e"
             ],
             [
              0.4444444444444444,
              "#bd3786"
             ],
             [
              0.5555555555555556,
              "#d8576b"
             ],
             [
              0.6666666666666666,
              "#ed7953"
             ],
             [
              0.7777777777777778,
              "#fb9f3a"
             ],
             [
              0.8888888888888888,
              "#fdca26"
             ],
             [
              1,
              "#f0f921"
             ]
            ],
            "type": "heatmap"
           }
          ],
          "heatmapgl": [
           {
            "colorbar": {
             "outlinewidth": 0,
             "ticks": ""
            },
            "colorscale": [
             [
              0,
              "#0d0887"
             ],
             [
              0.1111111111111111,
              "#46039f"
             ],
             [
              0.2222222222222222,
              "#7201a8"
             ],
             [
              0.3333333333333333,
              "#9c179e"
             ],
             [
              0.4444444444444444,
              "#bd3786"
             ],
             [
              0.5555555555555556,
              "#d8576b"
             ],
             [
              0.6666666666666666,
              "#ed7953"
             ],
             [
              0.7777777777777778,
              "#fb9f3a"
             ],
             [
              0.8888888888888888,
              "#fdca26"
             ],
             [
              1,
              "#f0f921"
             ]
            ],
            "type": "heatmapgl"
           }
          ],
          "histogram": [
           {
            "marker": {
             "pattern": {
              "fillmode": "overlay",
              "size": 10,
              "solidity": 0.2
             }
            },
            "type": "histogram"
           }
          ],
          "histogram2d": [
           {
            "colorbar": {
             "outlinewidth": 0,
             "ticks": ""
            },
            "colorscale": [
             [
              0,
              "#0d0887"
             ],
             [
              0.1111111111111111,
              "#46039f"
             ],
             [
              0.2222222222222222,
              "#7201a8"
             ],
             [
              0.3333333333333333,
              "#9c179e"
             ],
             [
              0.4444444444444444,
              "#bd3786"
             ],
             [
              0.5555555555555556,
              "#d8576b"
             ],
             [
              0.6666666666666666,
              "#ed7953"
             ],
             [
              0.7777777777777778,
              "#fb9f3a"
             ],
             [
              0.8888888888888888,
              "#fdca26"
             ],
             [
              1,
              "#f0f921"
             ]
            ],
            "type": "histogram2d"
           }
          ],
          "histogram2dcontour": [
           {
            "colorbar": {
             "outlinewidth": 0,
             "ticks": ""
            },
            "colorscale": [
             [
              0,
              "#0d0887"
             ],
             [
              0.1111111111111111,
              "#46039f"
             ],
             [
              0.2222222222222222,
              "#7201a8"
             ],
             [
              0.3333333333333333,
              "#9c179e"
             ],
             [
              0.4444444444444444,
              "#bd3786"
             ],
             [
              0.5555555555555556,
              "#d8576b"
             ],
             [
              0.6666666666666666,
              "#ed7953"
             ],
             [
              0.7777777777777778,
              "#fb9f3a"
             ],
             [
              0.8888888888888888,
              "#fdca26"
             ],
             [
              1,
              "#f0f921"
             ]
            ],
            "type": "histogram2dcontour"
           }
          ],
          "mesh3d": [
           {
            "colorbar": {
             "outlinewidth": 0,
             "ticks": ""
            },
            "type": "mesh3d"
           }
          ],
          "parcoords": [
           {
            "line": {
             "colorbar": {
              "outlinewidth": 0,
              "ticks": ""
             }
            },
            "type": "parcoords"
           }
          ],
          "pie": [
           {
            "automargin": true,
            "type": "pie"
           }
          ],
          "scatter": [
           {
            "fillpattern": {
             "fillmode": "overlay",
             "size": 10,
             "solidity": 0.2
            },
            "type": "scatter"
           }
          ],
          "scatter3d": [
           {
            "line": {
             "colorbar": {
              "outlinewidth": 0,
              "ticks": ""
             }
            },
            "marker": {
             "colorbar": {
              "outlinewidth": 0,
              "ticks": ""
             }
            },
            "type": "scatter3d"
           }
          ],
          "scattercarpet": [
           {
            "marker": {
             "colorbar": {
              "outlinewidth": 0,
              "ticks": ""
             }
            },
            "type": "scattercarpet"
           }
          ],
          "scattergeo": [
           {
            "marker": {
             "colorbar": {
              "outlinewidth": 0,
              "ticks": ""
             }
            },
            "type": "scattergeo"
           }
          ],
          "scattergl": [
           {
            "marker": {
             "colorbar": {
              "outlinewidth": 0,
              "ticks": ""
             }
            },
            "type": "scattergl"
           }
          ],
          "scattermapbox": [
           {
            "marker": {
             "colorbar": {
              "outlinewidth": 0,
              "ticks": ""
             }
            },
            "type": "scattermapbox"
           }
          ],
          "scatterpolar": [
           {
            "marker": {
             "colorbar": {
              "outlinewidth": 0,
              "ticks": ""
             }
            },
            "type": "scatterpolar"
           }
          ],
          "scatterpolargl": [
           {
            "marker": {
             "colorbar": {
              "outlinewidth": 0,
              "ticks": ""
             }
            },
            "type": "scatterpolargl"
           }
          ],
          "scatterternary": [
           {
            "marker": {
             "colorbar": {
              "outlinewidth": 0,
              "ticks": ""
             }
            },
            "type": "scatterternary"
           }
          ],
          "surface": [
           {
            "colorbar": {
             "outlinewidth": 0,
             "ticks": ""
            },
            "colorscale": [
             [
              0,
              "#0d0887"
             ],
             [
              0.1111111111111111,
              "#46039f"
             ],
             [
              0.2222222222222222,
              "#7201a8"
             ],
             [
              0.3333333333333333,
              "#9c179e"
             ],
             [
              0.4444444444444444,
              "#bd3786"
             ],
             [
              0.5555555555555556,
              "#d8576b"
             ],
             [
              0.6666666666666666,
              "#ed7953"
             ],
             [
              0.7777777777777778,
              "#fb9f3a"
             ],
             [
              0.8888888888888888,
              "#fdca26"
             ],
             [
              1,
              "#f0f921"
             ]
            ],
            "type": "surface"
           }
          ],
          "table": [
           {
            "cells": {
             "fill": {
              "color": "#EBF0F8"
             },
             "line": {
              "color": "white"
             }
            },
            "header": {
             "fill": {
              "color": "#C8D4E3"
             },
             "line": {
              "color": "white"
             }
            },
            "type": "table"
           }
          ]
         },
         "layout": {
          "annotationdefaults": {
           "arrowcolor": "#2a3f5f",
           "arrowhead": 0,
           "arrowwidth": 1
          },
          "autotypenumbers": "strict",
          "coloraxis": {
           "colorbar": {
            "outlinewidth": 0,
            "ticks": ""
           }
          },
          "colorscale": {
           "diverging": [
            [
             0,
             "#8e0152"
            ],
            [
             0.1,
             "#c51b7d"
            ],
            [
             0.2,
             "#de77ae"
            ],
            [
             0.3,
             "#f1b6da"
            ],
            [
             0.4,
             "#fde0ef"
            ],
            [
             0.5,
             "#f7f7f7"
            ],
            [
             0.6,
             "#e6f5d0"
            ],
            [
             0.7,
             "#b8e186"
            ],
            [
             0.8,
             "#7fbc41"
            ],
            [
             0.9,
             "#4d9221"
            ],
            [
             1,
             "#276419"
            ]
           ],
           "sequential": [
            [
             0,
             "#0d0887"
            ],
            [
             0.1111111111111111,
             "#46039f"
            ],
            [
             0.2222222222222222,
             "#7201a8"
            ],
            [
             0.3333333333333333,
             "#9c179e"
            ],
            [
             0.4444444444444444,
             "#bd3786"
            ],
            [
             0.5555555555555556,
             "#d8576b"
            ],
            [
             0.6666666666666666,
             "#ed7953"
            ],
            [
             0.7777777777777778,
             "#fb9f3a"
            ],
            [
             0.8888888888888888,
             "#fdca26"
            ],
            [
             1,
             "#f0f921"
            ]
           ],
           "sequentialminus": [
            [
             0,
             "#0d0887"
            ],
            [
             0.1111111111111111,
             "#46039f"
            ],
            [
             0.2222222222222222,
             "#7201a8"
            ],
            [
             0.3333333333333333,
             "#9c179e"
            ],
            [
             0.4444444444444444,
             "#bd3786"
            ],
            [
             0.5555555555555556,
             "#d8576b"
            ],
            [
             0.6666666666666666,
             "#ed7953"
            ],
            [
             0.7777777777777778,
             "#fb9f3a"
            ],
            [
             0.8888888888888888,
             "#fdca26"
            ],
            [
             1,
             "#f0f921"
            ]
           ]
          },
          "colorway": [
           "#636efa",
           "#EF553B",
           "#00cc96",
           "#ab63fa",
           "#FFA15A",
           "#19d3f3",
           "#FF6692",
           "#B6E880",
           "#FF97FF",
           "#FECB52"
          ],
          "font": {
           "color": "#2a3f5f"
          },
          "geo": {
           "bgcolor": "white",
           "lakecolor": "white",
           "landcolor": "#E5ECF6",
           "showlakes": true,
           "showland": true,
           "subunitcolor": "white"
          },
          "hoverlabel": {
           "align": "left"
          },
          "hovermode": "closest",
          "mapbox": {
           "style": "light"
          },
          "paper_bgcolor": "white",
          "plot_bgcolor": "#E5ECF6",
          "polar": {
           "angularaxis": {
            "gridcolor": "white",
            "linecolor": "white",
            "ticks": ""
           },
           "bgcolor": "#E5ECF6",
           "radialaxis": {
            "gridcolor": "white",
            "linecolor": "white",
            "ticks": ""
           }
          },
          "scene": {
           "xaxis": {
            "backgroundcolor": "#E5ECF6",
            "gridcolor": "white",
            "gridwidth": 2,
            "linecolor": "white",
            "showbackground": true,
            "ticks": "",
            "zerolinecolor": "white"
           },
           "yaxis": {
            "backgroundcolor": "#E5ECF6",
            "gridcolor": "white",
            "gridwidth": 2,
            "linecolor": "white",
            "showbackground": true,
            "ticks": "",
            "zerolinecolor": "white"
           },
           "zaxis": {
            "backgroundcolor": "#E5ECF6",
            "gridcolor": "white",
            "gridwidth": 2,
            "linecolor": "white",
            "showbackground": true,
            "ticks": "",
            "zerolinecolor": "white"
           }
          },
          "shapedefaults": {
           "line": {
            "color": "#2a3f5f"
           }
          },
          "ternary": {
           "aaxis": {
            "gridcolor": "white",
            "linecolor": "white",
            "ticks": ""
           },
           "baxis": {
            "gridcolor": "white",
            "linecolor": "white",
            "ticks": ""
           },
           "bgcolor": "#E5ECF6",
           "caxis": {
            "gridcolor": "white",
            "linecolor": "white",
            "ticks": ""
           }
          },
          "title": {
           "x": 0.05
          },
          "xaxis": {
           "automargin": true,
           "gridcolor": "white",
           "linecolor": "white",
           "ticks": "",
           "title": {
            "standoff": 15
           },
           "zerolinecolor": "white",
           "zerolinewidth": 2
          },
          "yaxis": {
           "automargin": true,
           "gridcolor": "white",
           "linecolor": "white",
           "ticks": "",
           "title": {
            "standoff": 15
           },
           "zerolinecolor": "white",
           "zerolinewidth": 2
          }
         }
        },
        "title": {
         "text": "Histogram of Salary"
        },
        "xaxis": {
         "anchor": "y",
         "domain": [
          0,
          1
         ],
         "title": {
          "text": "Salary"
         }
        },
        "yaxis": {
         "anchor": "x",
         "domain": [
          0,
          1
         ],
         "title": {
          "text": "count"
         }
        }
       }
      }
     },
     "metadata": {},
     "output_type": "display_data"
    }
   ],
   "source": [
    "fig = px.histogram(df, x=\"Salary\",title=\"Histogram of Salary\" )\n",
    "fig.show()"
   ]
  },
  {
   "cell_type": "code",
   "execution_count": 130,
   "id": "cca75e83-29b2-4b40-9891-ebb159e04531",
   "metadata": {},
   "outputs": [
    {
     "data": {
      "text/html": [
       "<div>\n",
       "<style scoped>\n",
       "    .dataframe tbody tr th:only-of-type {\n",
       "        vertical-align: middle;\n",
       "    }\n",
       "\n",
       "    .dataframe tbody tr th {\n",
       "        vertical-align: top;\n",
       "    }\n",
       "\n",
       "    .dataframe thead th {\n",
       "        text-align: right;\n",
       "    }\n",
       "</style>\n",
       "<table border=\"1\" class=\"dataframe\">\n",
       "  <thead>\n",
       "    <tr style=\"text-align: right;\">\n",
       "      <th></th>\n",
       "      <th>Job Title</th>\n",
       "      <th>Company Name</th>\n",
       "      <th>Company Type</th>\n",
       "      <th>Region</th>\n",
       "      <th>Salary</th>\n",
       "      <th>Contract</th>\n",
       "      <th>Experience</th>\n",
       "      <th>Gender</th>\n",
       "    </tr>\n",
       "  </thead>\n",
       "  <tbody>\n",
       "    <tr>\n",
       "      <th>888</th>\n",
       "      <td>طيار جناح ثابت</td>\n",
       "      <td>شركة طيران اديل</td>\n",
       "      <td>خاص</td>\n",
       "      <td>مكة المكرمة</td>\n",
       "      <td>35000.0</td>\n",
       "      <td>دوام كامل</td>\n",
       "      <td>10</td>\n",
       "      <td>both</td>\n",
       "    </tr>\n",
       "    <tr>\n",
       "      <th>530</th>\n",
       "      <td>مدير عمليات موارد بشرية</td>\n",
       "      <td>شركة انكر اليابان</td>\n",
       "      <td>خاص</td>\n",
       "      <td>الرياض</td>\n",
       "      <td>32000.0</td>\n",
       "      <td>دوام كامل</td>\n",
       "      <td>7</td>\n",
       "      <td>both</td>\n",
       "    </tr>\n",
       "    <tr>\n",
       "      <th>470</th>\n",
       "      <td>مدير عمليات موارد بشرية</td>\n",
       "      <td>شركة ال جي شاكر المحدوده</td>\n",
       "      <td>خاص</td>\n",
       "      <td>الرياض</td>\n",
       "      <td>27000.0</td>\n",
       "      <td>دوام كامل</td>\n",
       "      <td>4</td>\n",
       "      <td>both</td>\n",
       "    </tr>\n",
       "    <tr>\n",
       "      <th>1169</th>\n",
       "      <td>مدير فرع</td>\n",
       "      <td>شركة إختبار التربة للقياس</td>\n",
       "      <td>خاص</td>\n",
       "      <td>الحدود الشمالية</td>\n",
       "      <td>18000.0</td>\n",
       "      <td>دوام كامل</td>\n",
       "      <td>10</td>\n",
       "      <td>M</td>\n",
       "    </tr>\n",
       "    <tr>\n",
       "      <th>171</th>\n",
       "      <td>مدير برمجيات</td>\n",
       "      <td>شركه العرض المتقن للخدمات التجارية شركة مساهمة...</td>\n",
       "      <td>خاص</td>\n",
       "      <td>الرياض</td>\n",
       "      <td>16000.0</td>\n",
       "      <td>دوام كامل</td>\n",
       "      <td>4</td>\n",
       "      <td>both</td>\n",
       "    </tr>\n",
       "    <tr>\n",
       "      <th>...</th>\n",
       "      <td>...</td>\n",
       "      <td>...</td>\n",
       "      <td>...</td>\n",
       "      <td>...</td>\n",
       "      <td>...</td>\n",
       "      <td>...</td>\n",
       "      <td>...</td>\n",
       "      <td>...</td>\n",
       "    </tr>\n",
       "    <tr>\n",
       "      <th>1290</th>\n",
       "      <td>سائق حافلة</td>\n",
       "      <td>مدارس سفراء المستقبل الاهلية</td>\n",
       "      <td>خاص</td>\n",
       "      <td>مكة المكرمة</td>\n",
       "      <td>3000.0</td>\n",
       "      <td>دوام كامل</td>\n",
       "      <td>0</td>\n",
       "      <td>M</td>\n",
       "    </tr>\n",
       "    <tr>\n",
       "      <th>345</th>\n",
       "      <td>محاسب</td>\n",
       "      <td>مؤسسة شريان حائل للمقاولات العامة</td>\n",
       "      <td>خاص</td>\n",
       "      <td>حائل</td>\n",
       "      <td>3000.0</td>\n",
       "      <td>دوام كامل</td>\n",
       "      <td>4</td>\n",
       "      <td>both</td>\n",
       "    </tr>\n",
       "    <tr>\n",
       "      <th>110</th>\n",
       "      <td>سكرتير</td>\n",
       "      <td>المكتب التعاوني للدعوة والارشاد وتوعية الجاليا...</td>\n",
       "      <td>خاص</td>\n",
       "      <td>الرياض</td>\n",
       "      <td>3000.0</td>\n",
       "      <td>دوام كامل</td>\n",
       "      <td>0</td>\n",
       "      <td>both</td>\n",
       "    </tr>\n",
       "    <tr>\n",
       "      <th>15</th>\n",
       "      <td>مدخل بيانات</td>\n",
       "      <td>مكتب مدارات للاستشارات الهندسية</td>\n",
       "      <td>خاص</td>\n",
       "      <td>حائل</td>\n",
       "      <td>3000.0</td>\n",
       "      <td>دوام كامل</td>\n",
       "      <td>2</td>\n",
       "      <td>M</td>\n",
       "    </tr>\n",
       "    <tr>\n",
       "      <th>916</th>\n",
       "      <td>بائع</td>\n",
       "      <td>أسواق المسارات الرائعة للتجارة</td>\n",
       "      <td>خاص</td>\n",
       "      <td>عسير</td>\n",
       "      <td>3000.0</td>\n",
       "      <td>دوام كامل</td>\n",
       "      <td>0</td>\n",
       "      <td>both</td>\n",
       "    </tr>\n",
       "  </tbody>\n",
       "</table>\n",
       "<p>1346 rows × 8 columns</p>\n",
       "</div>"
      ],
      "text/plain": [
       "                    Job Title  \\\n",
       "888            طيار جناح ثابت   \n",
       "530   مدير عمليات موارد بشرية   \n",
       "470   مدير عمليات موارد بشرية   \n",
       "1169                 مدير فرع   \n",
       "171              مدير برمجيات   \n",
       "...                       ...   \n",
       "1290               سائق حافلة   \n",
       "345                     محاسب   \n",
       "110                    سكرتير   \n",
       "15                مدخل بيانات   \n",
       "916                      بائع   \n",
       "\n",
       "                                           Company Name Company Type  \\\n",
       "888                                     شركة طيران اديل          خاص   \n",
       "530                                   شركة انكر اليابان          خاص   \n",
       "470                            شركة ال جي شاكر المحدوده          خاص   \n",
       "1169                          شركة إختبار التربة للقياس          خاص   \n",
       "171   شركه العرض المتقن للخدمات التجارية شركة مساهمة...          خاص   \n",
       "...                                                 ...          ...   \n",
       "1290                       مدارس سفراء المستقبل الاهلية          خاص   \n",
       "345                   مؤسسة شريان حائل للمقاولات العامة          خاص   \n",
       "110   المكتب التعاوني للدعوة والارشاد وتوعية الجاليا...          خاص   \n",
       "15                      مكتب مدارات للاستشارات الهندسية          خاص   \n",
       "916                      أسواق المسارات الرائعة للتجارة          خاص   \n",
       "\n",
       "               Region   Salary   Contract  Experience Gender  \n",
       "888       مكة المكرمة  35000.0  دوام كامل          10   both  \n",
       "530            الرياض  32000.0  دوام كامل           7   both  \n",
       "470            الرياض  27000.0  دوام كامل           4   both  \n",
       "1169  الحدود الشمالية  18000.0  دوام كامل          10      M  \n",
       "171            الرياض  16000.0  دوام كامل           4   both  \n",
       "...               ...      ...        ...         ...    ...  \n",
       "1290      مكة المكرمة   3000.0  دوام كامل           0      M  \n",
       "345              حائل   3000.0  دوام كامل           4   both  \n",
       "110            الرياض   3000.0  دوام كامل           0   both  \n",
       "15               حائل   3000.0  دوام كامل           2      M  \n",
       "916              عسير   3000.0  دوام كامل           0   both  \n",
       "\n",
       "[1346 rows x 8 columns]"
      ]
     },
     "execution_count": 130,
     "metadata": {},
     "output_type": "execute_result"
    }
   ],
   "source": [
    "df.sort_values(by='Salary', ascending=False)"
   ]
  },
  {
   "cell_type": "code",
   "execution_count": 16,
   "id": "bd9639ff-0993-4cdb-b5c5-dcd65c94a6f3",
   "metadata": {},
   "outputs": [
    {
     "data": {
      "text/html": [
       "<div>\n",
       "<style scoped>\n",
       "    .dataframe tbody tr th:only-of-type {\n",
       "        vertical-align: middle;\n",
       "    }\n",
       "\n",
       "    .dataframe tbody tr th {\n",
       "        vertical-align: top;\n",
       "    }\n",
       "\n",
       "    .dataframe thead th {\n",
       "        text-align: right;\n",
       "    }\n",
       "</style>\n",
       "<table border=\"1\" class=\"dataframe\">\n",
       "  <thead>\n",
       "    <tr style=\"text-align: right;\">\n",
       "      <th></th>\n",
       "      <th>Job Title</th>\n",
       "      <th>Company Name</th>\n",
       "      <th>Company Type</th>\n",
       "      <th>Region</th>\n",
       "      <th>Salary</th>\n",
       "      <th>Contract</th>\n",
       "      <th>Experience</th>\n",
       "      <th>Gender</th>\n",
       "    </tr>\n",
       "  </thead>\n",
       "  <tbody>\n",
       "    <tr>\n",
       "      <th>1169</th>\n",
       "      <td>مدير فرع</td>\n",
       "      <td>شركة إختبار التربة للقياس</td>\n",
       "      <td>خاص</td>\n",
       "      <td>الحدود الشمالية</td>\n",
       "      <td>18000.0</td>\n",
       "      <td>دوام كامل</td>\n",
       "      <td>10</td>\n",
       "      <td>M</td>\n",
       "    </tr>\n",
       "    <tr>\n",
       "      <th>171</th>\n",
       "      <td>مدير برمجيات</td>\n",
       "      <td>شركه العرض المتقن للخدمات التجارية شركة مساهمة...</td>\n",
       "      <td>خاص</td>\n",
       "      <td>الرياض</td>\n",
       "      <td>16000.0</td>\n",
       "      <td>دوام كامل</td>\n",
       "      <td>4</td>\n",
       "      <td>both</td>\n",
       "    </tr>\n",
       "    <tr>\n",
       "      <th>947</th>\n",
       "      <td>أخصائي استشارات أعمال</td>\n",
       "      <td>برنامج مستشفى الملك فهدللحرس الوطني</td>\n",
       "      <td>شبه حكومية</td>\n",
       "      <td>الرياض</td>\n",
       "      <td>15532.0</td>\n",
       "      <td>دوام كامل</td>\n",
       "      <td>10</td>\n",
       "      <td>both</td>\n",
       "    </tr>\n",
       "    <tr>\n",
       "      <th>1239</th>\n",
       "      <td>مهندس معماري</td>\n",
       "      <td>شركة المساحون العرب نصر أحمد اسحاق الحسيني للا...</td>\n",
       "      <td>خاص</td>\n",
       "      <td>الرياض</td>\n",
       "      <td>15000.0</td>\n",
       "      <td>دوام كامل</td>\n",
       "      <td>7</td>\n",
       "      <td>both</td>\n",
       "    </tr>\n",
       "    <tr>\n",
       "      <th>841</th>\n",
       "      <td>مهندس مدني</td>\n",
       "      <td>مكتب مدارات للاستشارات الهندسية</td>\n",
       "      <td>خاص</td>\n",
       "      <td>حائل</td>\n",
       "      <td>15000.0</td>\n",
       "      <td>دوام كامل</td>\n",
       "      <td>10</td>\n",
       "      <td>M</td>\n",
       "    </tr>\n",
       "    <tr>\n",
       "      <th>...</th>\n",
       "      <td>...</td>\n",
       "      <td>...</td>\n",
       "      <td>...</td>\n",
       "      <td>...</td>\n",
       "      <td>...</td>\n",
       "      <td>...</td>\n",
       "      <td>...</td>\n",
       "      <td>...</td>\n",
       "    </tr>\n",
       "    <tr>\n",
       "      <th>110</th>\n",
       "      <td>سكرتير</td>\n",
       "      <td>المكتب التعاوني للدعوة والارشاد وتوعية الجاليا...</td>\n",
       "      <td>خاص</td>\n",
       "      <td>الرياض</td>\n",
       "      <td>3000.0</td>\n",
       "      <td>دوام كامل</td>\n",
       "      <td>0</td>\n",
       "      <td>both</td>\n",
       "    </tr>\n",
       "    <tr>\n",
       "      <th>916</th>\n",
       "      <td>بائع</td>\n",
       "      <td>أسواق المسارات الرائعة للتجارة</td>\n",
       "      <td>خاص</td>\n",
       "      <td>عسير</td>\n",
       "      <td>3000.0</td>\n",
       "      <td>دوام كامل</td>\n",
       "      <td>0</td>\n",
       "      <td>both</td>\n",
       "    </tr>\n",
       "    <tr>\n",
       "      <th>15</th>\n",
       "      <td>مدخل بيانات</td>\n",
       "      <td>مكتب مدارات للاستشارات الهندسية</td>\n",
       "      <td>خاص</td>\n",
       "      <td>حائل</td>\n",
       "      <td>3000.0</td>\n",
       "      <td>دوام كامل</td>\n",
       "      <td>2</td>\n",
       "      <td>M</td>\n",
       "    </tr>\n",
       "    <tr>\n",
       "      <th>345</th>\n",
       "      <td>محاسب</td>\n",
       "      <td>مؤسسة شريان حائل للمقاولات العامة</td>\n",
       "      <td>خاص</td>\n",
       "      <td>حائل</td>\n",
       "      <td>3000.0</td>\n",
       "      <td>دوام كامل</td>\n",
       "      <td>4</td>\n",
       "      <td>both</td>\n",
       "    </tr>\n",
       "    <tr>\n",
       "      <th>197</th>\n",
       "      <td>مدخل بيانات</td>\n",
       "      <td>مؤسسة عندليب للمقاولات العامة</td>\n",
       "      <td>خاص</td>\n",
       "      <td>المدينة المنورة</td>\n",
       "      <td>3000.0</td>\n",
       "      <td>دوام كامل</td>\n",
       "      <td>0</td>\n",
       "      <td>F</td>\n",
       "    </tr>\n",
       "  </tbody>\n",
       "</table>\n",
       "<p>1465 rows × 8 columns</p>\n",
       "</div>"
      ],
      "text/plain": [
       "                  Job Title  \\\n",
       "1169               مدير فرع   \n",
       "171            مدير برمجيات   \n",
       "947   أخصائي استشارات أعمال   \n",
       "1239           مهندس معماري   \n",
       "841              مهندس مدني   \n",
       "...                     ...   \n",
       "110                  سكرتير   \n",
       "916                    بائع   \n",
       "15              مدخل بيانات   \n",
       "345                   محاسب   \n",
       "197             مدخل بيانات   \n",
       "\n",
       "                                           Company Name Company Type  \\\n",
       "1169                          شركة إختبار التربة للقياس          خاص   \n",
       "171   شركه العرض المتقن للخدمات التجارية شركة مساهمة...          خاص   \n",
       "947                 برنامج مستشفى الملك فهدللحرس الوطني   شبه حكومية   \n",
       "1239  شركة المساحون العرب نصر أحمد اسحاق الحسيني للا...          خاص   \n",
       "841                     مكتب مدارات للاستشارات الهندسية          خاص   \n",
       "...                                                 ...          ...   \n",
       "110   المكتب التعاوني للدعوة والارشاد وتوعية الجاليا...          خاص   \n",
       "916                      أسواق المسارات الرائعة للتجارة          خاص   \n",
       "15                      مكتب مدارات للاستشارات الهندسية          خاص   \n",
       "345                   مؤسسة شريان حائل للمقاولات العامة          خاص   \n",
       "197                       مؤسسة عندليب للمقاولات العامة          خاص   \n",
       "\n",
       "               Region   Salary   Contract  Experience Gender  \n",
       "1169  الحدود الشمالية  18000.0  دوام كامل          10      M  \n",
       "171            الرياض  16000.0  دوام كامل           4   both  \n",
       "947            الرياض  15532.0  دوام كامل          10   both  \n",
       "1239           الرياض  15000.0  دوام كامل           7   both  \n",
       "841              حائل  15000.0  دوام كامل          10      M  \n",
       "...               ...      ...        ...         ...    ...  \n",
       "110            الرياض   3000.0  دوام كامل           0   both  \n",
       "916              عسير   3000.0  دوام كامل           0   both  \n",
       "15               حائل   3000.0  دوام كامل           2      M  \n",
       "345              حائل   3000.0  دوام كامل           4   both  \n",
       "197   المدينة المنورة   3000.0  دوام كامل           0      F  \n",
       "\n",
       "[1465 rows x 8 columns]"
      ]
     },
     "execution_count": 16,
     "metadata": {},
     "output_type": "execute_result"
    }
   ],
   "source": [
    "#I will consider any value greater than 27000.0 as an outlier to make the chart more understandable\n",
    "df= df[(df['Salary'] < 27000.0)]\n",
    "df.sort_values(by='Salary', ascending=False)"
   ]
  },
  {
   "cell_type": "code",
   "execution_count": 17,
   "id": "a7cc58b5",
   "metadata": {},
   "outputs": [
    {
     "data": {
      "application/vnd.plotly.v1+json": {
       "config": {
        "plotlyServerURL": "https://plot.ly"
       },
       "data": [
        {
         "alignmentgroup": "True",
         "bingroup": "x",
         "hovertemplate": "Salary=%{x}<br>count=%{y}<extra></extra>",
         "legendgroup": "",
         "marker": {
          "color": "#636efa",
          "pattern": {
           "shape": ""
          }
         },
         "name": "",
         "offsetgroup": "",
         "orientation": "v",
         "showlegend": false,
         "type": "histogram",
         "x": [
          5000,
          5000,
          4000,
          5000,
          5000,
          4500,
          6000,
          8000,
          10000,
          5000,
          7200,
          4000,
          7200,
          6000,
          7000,
          3000,
          9000,
          12000,
          4000,
          5500,
          5000,
          8400,
          4000,
          4000,
          4000,
          4000,
          4000,
          6000,
          4500,
          5500,
          4000,
          3200,
          5000,
          7000,
          7000,
          7000,
          4500,
          4500,
          4000,
          4500,
          4500,
          4000,
          4500,
          5000,
          5500,
          4500,
          4500,
          4000,
          4000,
          5000,
          6000,
          4000,
          4170,
          4000,
          4500,
          5500,
          6000,
          4000,
          4000,
          4500,
          4500,
          4000,
          4000,
          5500,
          4000,
          4000,
          4000,
          4000,
          4000,
          4000,
          4000,
          4000,
          7000,
          6000,
          4000,
          4000,
          4000,
          7000,
          5000,
          5500,
          3640,
          8000,
          8000,
          5000,
          4000,
          5000,
          4000,
          5500,
          4000,
          7000,
          4000,
          5250,
          5000,
          4000,
          7000,
          7000,
          5000,
          4000,
          4000,
          8000,
          4000,
          4000,
          4000,
          4000,
          4000,
          5000,
          4500,
          5500,
          4000,
          6000,
          3000,
          4400,
          4000,
          4000,
          4000,
          4000,
          3200,
          4082,
          4000,
          4000,
          4000,
          4000,
          4000,
          4500,
          4000,
          7000,
          5000,
          4000,
          4082,
          4082,
          6000,
          6000,
          6000,
          7000,
          7000,
          5000,
          8000,
          4000,
          4000,
          4000,
          5000,
          5000,
          5000,
          5000,
          8400,
          8400,
          8400,
          8400,
          6150,
          6500,
          6000,
          4400,
          4500,
          7000,
          4000,
          4000,
          5000,
          4000,
          6000,
          5000,
          4000,
          4000,
          4000,
          5000,
          4500,
          4500,
          4500,
          5000,
          4000,
          5000,
          15000,
          16000,
          10000,
          6000,
          15000,
          4000,
          4500,
          5000,
          5000,
          4000,
          5000,
          4500,
          7000,
          4500,
          4000,
          4000,
          7000,
          4000,
          4000,
          4000,
          4000,
          4000,
          6000,
          5000,
          6500,
          5000,
          6000,
          3000,
          4000,
          5700,
          5500,
          4500,
          5000,
          4000,
          4000,
          4000,
          4000,
          4000,
          5000,
          4000,
          4000,
          4000,
          4000,
          4000,
          6000,
          4000,
          4000,
          10000,
          5000,
          4000,
          4000,
          4782,
          3200,
          7000,
          5000,
          6000,
          4000,
          10000,
          4500,
          15000,
          4500,
          7000,
          5000,
          5000,
          5500,
          5000,
          4000,
          4000,
          4500,
          4000,
          4000,
          8400,
          4500,
          6000,
          4000,
          4000,
          10000,
          4000,
          4000,
          4000,
          5000,
          4000,
          6000,
          4000,
          4000,
          4000,
          4000,
          5000,
          4000,
          5000,
          4000,
          7000,
          5000,
          4000,
          4000,
          4000,
          4000,
          5000,
          5000,
          5000,
          4000,
          5000,
          4375,
          6000,
          4000,
          5000,
          5000,
          5000,
          5000,
          6500,
          4000,
          4500,
          5500,
          4000,
          5700,
          4434,
          4000,
          4000,
          6000,
          6000,
          4000,
          10000,
          6000,
          6000,
          5000,
          4000,
          4000,
          8000,
          10000,
          6500,
          5000,
          4000,
          4000,
          6000,
          6000,
          4000,
          4000,
          4000,
          4000,
          13889,
          4000,
          4444,
          4800,
          4000,
          5000,
          4000,
          6000,
          6000,
          6000,
          6000,
          6000,
          6000,
          5000,
          7000,
          5000,
          4000,
          4000,
          4000,
          4000,
          5000,
          4500,
          5000,
          4500,
          4500,
          4000,
          4000,
          4000,
          4000,
          4000,
          4000,
          5000,
          4000,
          4000,
          5625,
          9200,
          3000,
          4000,
          5000,
          4000,
          5600,
          5600,
          5600,
          5600,
          4000,
          4000,
          4000,
          4500,
          5500,
          4800,
          8803,
          4000,
          8803,
          4000,
          4000,
          7000,
          5000,
          4000,
          4000,
          4000,
          4000,
          6000,
          7000,
          4000,
          4000,
          8000,
          4000,
          4000,
          4500,
          4000,
          4000,
          5700,
          5700,
          5700,
          5700,
          8400,
          5000,
          5000,
          6000,
          5000,
          5000,
          4500,
          4000,
          4000,
          3200,
          4000,
          4000,
          4000,
          4000,
          5000,
          6000,
          6000,
          5700,
          10000,
          8000,
          6000,
          6000,
          3500,
          6000,
          4500,
          4000,
          6000,
          6000,
          5093,
          5000,
          7000,
          7000,
          7000,
          4000,
          4000,
          4000,
          5800,
          5000,
          4000,
          9000,
          4000,
          4000,
          4000,
          5000,
          4000,
          4000,
          5625,
          6000,
          6000,
          5000,
          4000,
          5000,
          5000,
          5000,
          5000,
          5000,
          6000,
          5200,
          8000,
          7000,
          4000,
          8500,
          4000,
          4500,
          4000,
          3600,
          6000,
          4000,
          4000,
          4000,
          4000,
          6000,
          7000,
          4000,
          7500,
          4408,
          4000,
          5000,
          5500,
          4000,
          4000,
          4000,
          5000,
          4000,
          6000,
          4000,
          4000,
          5000,
          7500,
          4083,
          7000,
          4000,
          4500,
          4000,
          6500,
          7000,
          12000,
          5000,
          4000,
          5500,
          5500,
          5000,
          5500,
          10000,
          4000,
          5000,
          4600,
          8496,
          4000,
          5000,
          6000,
          4000,
          8000,
          6000,
          4000,
          4500,
          5000,
          5000,
          5000,
          4000,
          6000,
          6000,
          4000,
          4000,
          4500,
          5000,
          8000,
          6500,
          4000,
          5500,
          4000,
          6000,
          6250,
          4000,
          8333,
          4000,
          4000,
          5000,
          4000,
          4000,
          4000,
          4000,
          5000,
          5500,
          7000,
          4000,
          4000,
          12325,
          4000,
          4500,
          5625,
          4000,
          7000,
          3500,
          6583,
          6583,
          4000,
          6583,
          4000,
          4000,
          4000,
          4000,
          4000,
          4000,
          4000,
          4000,
          4000,
          4000,
          4000,
          4000,
          4000,
          4000,
          10000,
          15000,
          4000,
          5500,
          5000,
          4000,
          4000,
          5000,
          4000,
          4500,
          4000,
          4000,
          4500,
          7000,
          5500,
          6000,
          4800,
          6500,
          6000,
          7500,
          8500,
          6000,
          5599,
          4500,
          4000,
          4000,
          3500,
          4000,
          8000,
          4000,
          5000,
          5000,
          7500,
          4500,
          7500,
          4000,
          4000,
          5700,
          5700,
          4000,
          5500,
          6000,
          5000,
          4000,
          8000,
          4000,
          4000,
          5000,
          4000,
          5500,
          4500,
          4000,
          4000,
          8500,
          8500,
          5500,
          10000,
          4500,
          10000,
          4500,
          4500,
          10000,
          7000,
          4500,
          4500,
          9500,
          9500,
          10000,
          4500,
          11000,
          11000,
          4500,
          6000,
          4000,
          4000,
          4750,
          5500,
          5500,
          7000,
          5000,
          5000,
          4000,
          4000,
          4500,
          4000,
          5000,
          5000,
          4000,
          4000,
          4000,
          5000,
          4000,
          3500,
          4000,
          4500,
          4000,
          4000,
          6500,
          4000,
          5000,
          6000,
          4000,
          8000,
          4000,
          4400,
          5000,
          5000,
          5000,
          5000,
          8000,
          5000,
          4000,
          4000,
          4000,
          4000,
          4000,
          4000,
          4320,
          4630,
          4375,
          4500,
          5066,
          4500,
          4500,
          4000,
          4500,
          4500,
          4500,
          4000,
          4630,
          4630,
          5000,
          4000,
          7000,
          4000,
          6000,
          4000,
          6000,
          5000,
          6000,
          5000,
          5000,
          7000,
          8500,
          5500,
          7500,
          4000,
          4000,
          5000,
          5200,
          4000,
          6000,
          4687,
          5000,
          4625,
          4000,
          6000,
          6000,
          5000,
          5000,
          4500,
          4000,
          4500,
          4500,
          8000,
          8000,
          6500,
          6500,
          6000,
          5000,
          4500,
          5000,
          5000,
          7500,
          7000,
          4500,
          4500,
          5500,
          4000,
          3200,
          5500,
          4500,
          4000,
          5700,
          10250,
          5000,
          4500,
          4500,
          5000,
          4500,
          4000,
          15000,
          4000,
          4000,
          8000,
          5000,
          5000,
          4000,
          4000,
          4000,
          4000,
          4000,
          4000,
          4000,
          5500,
          4000,
          7000,
          5000,
          4000,
          5040,
          4170,
          5000,
          3198,
          4500,
          4000,
          6000,
          5000,
          6000,
          6000,
          4000,
          4500,
          4000,
          4000,
          4000,
          4000,
          4000,
          7000,
          4050,
          4000,
          4000,
          4000,
          4000,
          6000,
          5700,
          5700,
          5700,
          5700,
          7000,
          8400,
          7000,
          8400,
          9600,
          6000,
          4000,
          4000,
          4000,
          8000,
          5000,
          3500,
          4000,
          5000,
          6000,
          4000,
          6500,
          4000,
          7000,
          8500,
          4000,
          5600,
          8000,
          6000,
          7000,
          4000,
          3500,
          7000,
          5000,
          5000,
          5000,
          4000,
          4500,
          4500,
          4500,
          4000,
          6000,
          6000,
          4000,
          4000,
          4000,
          4000,
          5000,
          4000,
          5000,
          4000,
          15000,
          5000,
          5000,
          7000,
          4500,
          4000,
          4000,
          5000,
          6000,
          4000,
          4000,
          6500,
          6000,
          4500,
          6000,
          5000,
          7000,
          6000,
          5000,
          4200,
          3200,
          4800,
          4000,
          4000,
          4000,
          4000,
          5000,
          5000,
          8000,
          4000,
          4000,
          4000,
          4000,
          4000,
          4200,
          4000,
          4000,
          4000,
          4000,
          4000,
          4082,
          4000,
          4000,
          6000,
          6000,
          4000,
          4000,
          5500,
          6000,
          4000,
          3200,
          4000,
          4000,
          3200,
          7000,
          5700,
          6000,
          4000,
          7000,
          13200,
          4000,
          4000,
          5700,
          4000,
          6000,
          5500,
          4000,
          4000,
          4000,
          5000,
          5000,
          8000,
          4000,
          4000,
          3000,
          4200,
          4000,
          4000,
          6000,
          5000,
          4000,
          4000,
          4000,
          7000,
          4000,
          4000,
          4000,
          4000,
          4000,
          7500,
          6000,
          3200,
          4000,
          4000,
          6000,
          4000,
          5000,
          8000,
          10000,
          4000,
          5271,
          5000,
          5500,
          4500,
          5000,
          15532,
          4000,
          4667,
          4000,
          3200,
          4082,
          4000,
          4000,
          6000,
          6000,
          4000,
          5500,
          4000,
          4000,
          5500,
          4000,
          5000,
          4000,
          4500,
          5000,
          4500,
          5500,
          4300,
          4000,
          7000,
          4500,
          4000,
          4000,
          12000,
          4000,
          4000,
          4000,
          4000,
          3640,
          4500,
          4000,
          4000,
          4000,
          4000,
          4001,
          5000,
          4500,
          4500,
          5000,
          5500,
          5000,
          6000,
          4000,
          4000,
          3300,
          4000,
          4000,
          4000,
          5500,
          4000,
          4000,
          4000,
          5200,
          5500,
          4000,
          4000,
          4000,
          4000,
          6000,
          5000,
          5483,
          4000,
          5700,
          5700,
          5700,
          5625,
          6250,
          7200,
          5500,
          5000,
          5000,
          4000,
          5000,
          5000,
          5500,
          6000,
          7000,
          6000,
          4500,
          7000,
          5500,
          6000,
          5500,
          6000,
          4000,
          4000,
          5000,
          8000,
          8000,
          4000,
          4000,
          4000,
          6000,
          3200,
          4000,
          5000,
          5000,
          5000,
          4000,
          6000,
          6000,
          4000,
          4000,
          5000,
          6000,
          4000,
          4000,
          4000,
          5500,
          5000,
          5000,
          5000,
          5000,
          7000,
          7000,
          7000,
          7000,
          7000,
          4000,
          4000,
          4500,
          6000,
          6000,
          4000,
          4000,
          4000,
          4000,
          7000,
          5000,
          7000,
          6500,
          5700,
          4000,
          6000,
          8000,
          12000,
          6000,
          8000,
          12000,
          12000,
          8000,
          8000,
          12000,
          8000,
          6000,
          6000,
          6000,
          3500,
          8000,
          4000,
          6000,
          6000,
          3500,
          8000,
          7000,
          4000,
          5000,
          5000,
          5000,
          5000,
          5000,
          5000,
          5000,
          5000,
          7000,
          7000,
          5000,
          7000,
          6000,
          5000,
          5000,
          5000,
          5000,
          5000,
          4000,
          7000,
          4000,
          4000,
          6000,
          4000,
          6000,
          4000,
          3200,
          4000,
          3200,
          5700,
          7000,
          5700,
          6000,
          4000,
          7000,
          13200,
          4000,
          5700,
          4000,
          6000,
          5500,
          4000,
          4000,
          5000,
          5000,
          3000,
          6000,
          5000,
          4000,
          4000,
          7757,
          5700,
          7000,
          4000,
          4000,
          4000,
          4500,
          3200,
          4500,
          4000,
          18000,
          4500,
          8000,
          6250,
          5500,
          3500,
          6000,
          4000,
          4000,
          4000,
          6000,
          10000,
          7500,
          7500,
          7500,
          10000,
          7500,
          4000,
          4500,
          4500,
          4000,
          7000,
          5000,
          4000,
          4000,
          4000,
          4000,
          4500,
          4500,
          4000,
          4000,
          4500,
          4500,
          3500,
          7000,
          7000,
          4000,
          5000,
          4000,
          3600,
          3600,
          3600,
          4000,
          6000,
          6000,
          4000,
          4000,
          4000,
          4000,
          6000,
          5500,
          5000,
          4000,
          6000,
          4000,
          4200,
          8000,
          8000,
          8000,
          6000,
          4500,
          10000,
          10000,
          5000,
          8000,
          6999,
          7000,
          7000,
          7000,
          6000,
          15000,
          4000,
          4082,
          10000,
          4000,
          4000,
          4000,
          4000,
          9900,
          5000,
          9900,
          9900,
          9900,
          9900,
          5500,
          9900,
          9900,
          4000,
          6500,
          4000,
          4000,
          4000,
          6000,
          4082,
          7000,
          5000,
          5000,
          4000,
          6000,
          6500,
          4000,
          7500,
          4000,
          4000,
          4000,
          4000,
          6000,
          6000,
          4000,
          4000,
          4000,
          4000,
          4900,
          5000,
          5000,
          4500,
          5500,
          7000,
          5500,
          6000,
          4000,
          3000,
          6000,
          4000,
          4000,
          4000,
          4000,
          12400,
          6000,
          4200,
          4000,
          5000,
          4000,
          4000,
          3500,
          6000,
          7000,
          4500,
          6000,
          5000,
          5500,
          5000,
          7500,
          4000,
          4000,
          4000,
          9259,
          4000,
          12000,
          4000,
          4000,
          5000,
          4000,
          4000,
          4000,
          4000,
          4000,
          4000,
          5000,
          5000,
          4000,
          4000,
          4000,
          4000,
          4000,
          4000,
          4000,
          6000,
          6000,
          4000,
          5500,
          5500,
          5500,
          5500,
          4000,
          4000,
          4000,
          4000,
          7000,
          6000,
          5000,
          4000,
          5000,
          4000,
          6000,
          7000,
          7000,
          4000,
          4500,
          4500,
          5500,
          4000,
          5000,
          5500,
          5000,
          8000,
          4000,
          5000,
          6000,
          4000,
          4000,
          4000,
          7000,
          5000,
          4000,
          4000,
          12000,
          4900,
          7000,
          4000,
          5000,
          7000,
          6000,
          4000,
          4000,
          4000,
          4000,
          7000,
          4000,
          4000,
          4000,
          4000,
          4500,
          4000,
          4000,
          4000,
          4200,
          4000,
          5000,
          4500,
          4000,
          4000,
          4000,
          6500,
          4000,
          5000,
          8000,
          6500,
          4000,
          8500,
          5000,
          4000,
          4000,
          4000,
          4000,
          4000,
          4000,
          7000,
          4000,
          4000,
          4000,
          5000,
          14000,
          7000,
          7000,
          7000,
          5000,
          4000,
          4000,
          4000,
          4100,
          5000,
          8000,
          4000,
          4000,
          4000,
          4000,
          4000,
          4000,
          4500,
          5000,
          4500,
          4000,
          5500,
          4500,
          4500,
          4000,
          4000,
          4500,
          6500,
          4500,
          7000,
          5000,
          4200,
          5000,
          5556,
          5000,
          4000,
          5000,
          4000,
          4000,
          5000,
          4000,
          4000,
          4000,
          4000,
          5500,
          4000,
          7000,
          4000
         ],
         "xaxis": "x",
         "yaxis": "y"
        }
       ],
       "layout": {
        "barmode": "relative",
        "legend": {
         "tracegroupgap": 0
        },
        "template": {
         "data": {
          "bar": [
           {
            "error_x": {
             "color": "#2a3f5f"
            },
            "error_y": {
             "color": "#2a3f5f"
            },
            "marker": {
             "line": {
              "color": "#E5ECF6",
              "width": 0.5
             },
             "pattern": {
              "fillmode": "overlay",
              "size": 10,
              "solidity": 0.2
             }
            },
            "type": "bar"
           }
          ],
          "barpolar": [
           {
            "marker": {
             "line": {
              "color": "#E5ECF6",
              "width": 0.5
             },
             "pattern": {
              "fillmode": "overlay",
              "size": 10,
              "solidity": 0.2
             }
            },
            "type": "barpolar"
           }
          ],
          "carpet": [
           {
            "aaxis": {
             "endlinecolor": "#2a3f5f",
             "gridcolor": "white",
             "linecolor": "white",
             "minorgridcolor": "white",
             "startlinecolor": "#2a3f5f"
            },
            "baxis": {
             "endlinecolor": "#2a3f5f",
             "gridcolor": "white",
             "linecolor": "white",
             "minorgridcolor": "white",
             "startlinecolor": "#2a3f5f"
            },
            "type": "carpet"
           }
          ],
          "choropleth": [
           {
            "colorbar": {
             "outlinewidth": 0,
             "ticks": ""
            },
            "type": "choropleth"
           }
          ],
          "contour": [
           {
            "colorbar": {
             "outlinewidth": 0,
             "ticks": ""
            },
            "colorscale": [
             [
              0,
              "#0d0887"
             ],
             [
              0.1111111111111111,
              "#46039f"
             ],
             [
              0.2222222222222222,
              "#7201a8"
             ],
             [
              0.3333333333333333,
              "#9c179e"
             ],
             [
              0.4444444444444444,
              "#bd3786"
             ],
             [
              0.5555555555555556,
              "#d8576b"
             ],
             [
              0.6666666666666666,
              "#ed7953"
             ],
             [
              0.7777777777777778,
              "#fb9f3a"
             ],
             [
              0.8888888888888888,
              "#fdca26"
             ],
             [
              1,
              "#f0f921"
             ]
            ],
            "type": "contour"
           }
          ],
          "contourcarpet": [
           {
            "colorbar": {
             "outlinewidth": 0,
             "ticks": ""
            },
            "type": "contourcarpet"
           }
          ],
          "heatmap": [
           {
            "colorbar": {
             "outlinewidth": 0,
             "ticks": ""
            },
            "colorscale": [
             [
              0,
              "#0d0887"
             ],
             [
              0.1111111111111111,
              "#46039f"
             ],
             [
              0.2222222222222222,
              "#7201a8"
             ],
             [
              0.3333333333333333,
              "#9c179e"
             ],
             [
              0.4444444444444444,
              "#bd3786"
             ],
             [
              0.5555555555555556,
              "#d8576b"
             ],
             [
              0.6666666666666666,
              "#ed7953"
             ],
             [
              0.7777777777777778,
              "#fb9f3a"
             ],
             [
              0.8888888888888888,
              "#fdca26"
             ],
             [
              1,
              "#f0f921"
             ]
            ],
            "type": "heatmap"
           }
          ],
          "heatmapgl": [
           {
            "colorbar": {
             "outlinewidth": 0,
             "ticks": ""
            },
            "colorscale": [
             [
              0,
              "#0d0887"
             ],
             [
              0.1111111111111111,
              "#46039f"
             ],
             [
              0.2222222222222222,
              "#7201a8"
             ],
             [
              0.3333333333333333,
              "#9c179e"
             ],
             [
              0.4444444444444444,
              "#bd3786"
             ],
             [
              0.5555555555555556,
              "#d8576b"
             ],
             [
              0.6666666666666666,
              "#ed7953"
             ],
             [
              0.7777777777777778,
              "#fb9f3a"
             ],
             [
              0.8888888888888888,
              "#fdca26"
             ],
             [
              1,
              "#f0f921"
             ]
            ],
            "type": "heatmapgl"
           }
          ],
          "histogram": [
           {
            "marker": {
             "pattern": {
              "fillmode": "overlay",
              "size": 10,
              "solidity": 0.2
             }
            },
            "type": "histogram"
           }
          ],
          "histogram2d": [
           {
            "colorbar": {
             "outlinewidth": 0,
             "ticks": ""
            },
            "colorscale": [
             [
              0,
              "#0d0887"
             ],
             [
              0.1111111111111111,
              "#46039f"
             ],
             [
              0.2222222222222222,
              "#7201a8"
             ],
             [
              0.3333333333333333,
              "#9c179e"
             ],
             [
              0.4444444444444444,
              "#bd3786"
             ],
             [
              0.5555555555555556,
              "#d8576b"
             ],
             [
              0.6666666666666666,
              "#ed7953"
             ],
             [
              0.7777777777777778,
              "#fb9f3a"
             ],
             [
              0.8888888888888888,
              "#fdca26"
             ],
             [
              1,
              "#f0f921"
             ]
            ],
            "type": "histogram2d"
           }
          ],
          "histogram2dcontour": [
           {
            "colorbar": {
             "outlinewidth": 0,
             "ticks": ""
            },
            "colorscale": [
             [
              0,
              "#0d0887"
             ],
             [
              0.1111111111111111,
              "#46039f"
             ],
             [
              0.2222222222222222,
              "#7201a8"
             ],
             [
              0.3333333333333333,
              "#9c179e"
             ],
             [
              0.4444444444444444,
              "#bd3786"
             ],
             [
              0.5555555555555556,
              "#d8576b"
             ],
             [
              0.6666666666666666,
              "#ed7953"
             ],
             [
              0.7777777777777778,
              "#fb9f3a"
             ],
             [
              0.8888888888888888,
              "#fdca26"
             ],
             [
              1,
              "#f0f921"
             ]
            ],
            "type": "histogram2dcontour"
           }
          ],
          "mesh3d": [
           {
            "colorbar": {
             "outlinewidth": 0,
             "ticks": ""
            },
            "type": "mesh3d"
           }
          ],
          "parcoords": [
           {
            "line": {
             "colorbar": {
              "outlinewidth": 0,
              "ticks": ""
             }
            },
            "type": "parcoords"
           }
          ],
          "pie": [
           {
            "automargin": true,
            "type": "pie"
           }
          ],
          "scatter": [
           {
            "fillpattern": {
             "fillmode": "overlay",
             "size": 10,
             "solidity": 0.2
            },
            "type": "scatter"
           }
          ],
          "scatter3d": [
           {
            "line": {
             "colorbar": {
              "outlinewidth": 0,
              "ticks": ""
             }
            },
            "marker": {
             "colorbar": {
              "outlinewidth": 0,
              "ticks": ""
             }
            },
            "type": "scatter3d"
           }
          ],
          "scattercarpet": [
           {
            "marker": {
             "colorbar": {
              "outlinewidth": 0,
              "ticks": ""
             }
            },
            "type": "scattercarpet"
           }
          ],
          "scattergeo": [
           {
            "marker": {
             "colorbar": {
              "outlinewidth": 0,
              "ticks": ""
             }
            },
            "type": "scattergeo"
           }
          ],
          "scattergl": [
           {
            "marker": {
             "colorbar": {
              "outlinewidth": 0,
              "ticks": ""
             }
            },
            "type": "scattergl"
           }
          ],
          "scattermapbox": [
           {
            "marker": {
             "colorbar": {
              "outlinewidth": 0,
              "ticks": ""
             }
            },
            "type": "scattermapbox"
           }
          ],
          "scatterpolar": [
           {
            "marker": {
             "colorbar": {
              "outlinewidth": 0,
              "ticks": ""
             }
            },
            "type": "scatterpolar"
           }
          ],
          "scatterpolargl": [
           {
            "marker": {
             "colorbar": {
              "outlinewidth": 0,
              "ticks": ""
             }
            },
            "type": "scatterpolargl"
           }
          ],
          "scatterternary": [
           {
            "marker": {
             "colorbar": {
              "outlinewidth": 0,
              "ticks": ""
             }
            },
            "type": "scatterternary"
           }
          ],
          "surface": [
           {
            "colorbar": {
             "outlinewidth": 0,
             "ticks": ""
            },
            "colorscale": [
             [
              0,
              "#0d0887"
             ],
             [
              0.1111111111111111,
              "#46039f"
             ],
             [
              0.2222222222222222,
              "#7201a8"
             ],
             [
              0.3333333333333333,
              "#9c179e"
             ],
             [
              0.4444444444444444,
              "#bd3786"
             ],
             [
              0.5555555555555556,
              "#d8576b"
             ],
             [
              0.6666666666666666,
              "#ed7953"
             ],
             [
              0.7777777777777778,
              "#fb9f3a"
             ],
             [
              0.8888888888888888,
              "#fdca26"
             ],
             [
              1,
              "#f0f921"
             ]
            ],
            "type": "surface"
           }
          ],
          "table": [
           {
            "cells": {
             "fill": {
              "color": "#EBF0F8"
             },
             "line": {
              "color": "white"
             }
            },
            "header": {
             "fill": {
              "color": "#C8D4E3"
             },
             "line": {
              "color": "white"
             }
            },
            "type": "table"
           }
          ]
         },
         "layout": {
          "annotationdefaults": {
           "arrowcolor": "#2a3f5f",
           "arrowhead": 0,
           "arrowwidth": 1
          },
          "autotypenumbers": "strict",
          "coloraxis": {
           "colorbar": {
            "outlinewidth": 0,
            "ticks": ""
           }
          },
          "colorscale": {
           "diverging": [
            [
             0,
             "#8e0152"
            ],
            [
             0.1,
             "#c51b7d"
            ],
            [
             0.2,
             "#de77ae"
            ],
            [
             0.3,
             "#f1b6da"
            ],
            [
             0.4,
             "#fde0ef"
            ],
            [
             0.5,
             "#f7f7f7"
            ],
            [
             0.6,
             "#e6f5d0"
            ],
            [
             0.7,
             "#b8e186"
            ],
            [
             0.8,
             "#7fbc41"
            ],
            [
             0.9,
             "#4d9221"
            ],
            [
             1,
             "#276419"
            ]
           ],
           "sequential": [
            [
             0,
             "#0d0887"
            ],
            [
             0.1111111111111111,
             "#46039f"
            ],
            [
             0.2222222222222222,
             "#7201a8"
            ],
            [
             0.3333333333333333,
             "#9c179e"
            ],
            [
             0.4444444444444444,
             "#bd3786"
            ],
            [
             0.5555555555555556,
             "#d8576b"
            ],
            [
             0.6666666666666666,
             "#ed7953"
            ],
            [
             0.7777777777777778,
             "#fb9f3a"
            ],
            [
             0.8888888888888888,
             "#fdca26"
            ],
            [
             1,
             "#f0f921"
            ]
           ],
           "sequentialminus": [
            [
             0,
             "#0d0887"
            ],
            [
             0.1111111111111111,
             "#46039f"
            ],
            [
             0.2222222222222222,
             "#7201a8"
            ],
            [
             0.3333333333333333,
             "#9c179e"
            ],
            [
             0.4444444444444444,
             "#bd3786"
            ],
            [
             0.5555555555555556,
             "#d8576b"
            ],
            [
             0.6666666666666666,
             "#ed7953"
            ],
            [
             0.7777777777777778,
             "#fb9f3a"
            ],
            [
             0.8888888888888888,
             "#fdca26"
            ],
            [
             1,
             "#f0f921"
            ]
           ]
          },
          "colorway": [
           "#636efa",
           "#EF553B",
           "#00cc96",
           "#ab63fa",
           "#FFA15A",
           "#19d3f3",
           "#FF6692",
           "#B6E880",
           "#FF97FF",
           "#FECB52"
          ],
          "font": {
           "color": "#2a3f5f"
          },
          "geo": {
           "bgcolor": "white",
           "lakecolor": "white",
           "landcolor": "#E5ECF6",
           "showlakes": true,
           "showland": true,
           "subunitcolor": "white"
          },
          "hoverlabel": {
           "align": "left"
          },
          "hovermode": "closest",
          "mapbox": {
           "style": "light"
          },
          "paper_bgcolor": "white",
          "plot_bgcolor": "#E5ECF6",
          "polar": {
           "angularaxis": {
            "gridcolor": "white",
            "linecolor": "white",
            "ticks": ""
           },
           "bgcolor": "#E5ECF6",
           "radialaxis": {
            "gridcolor": "white",
            "linecolor": "white",
            "ticks": ""
           }
          },
          "scene": {
           "xaxis": {
            "backgroundcolor": "#E5ECF6",
            "gridcolor": "white",
            "gridwidth": 2,
            "linecolor": "white",
            "showbackground": true,
            "ticks": "",
            "zerolinecolor": "white"
           },
           "yaxis": {
            "backgroundcolor": "#E5ECF6",
            "gridcolor": "white",
            "gridwidth": 2,
            "linecolor": "white",
            "showbackground": true,
            "ticks": "",
            "zerolinecolor": "white"
           },
           "zaxis": {
            "backgroundcolor": "#E5ECF6",
            "gridcolor": "white",
            "gridwidth": 2,
            "linecolor": "white",
            "showbackground": true,
            "ticks": "",
            "zerolinecolor": "white"
           }
          },
          "shapedefaults": {
           "line": {
            "color": "#2a3f5f"
           }
          },
          "ternary": {
           "aaxis": {
            "gridcolor": "white",
            "linecolor": "white",
            "ticks": ""
           },
           "baxis": {
            "gridcolor": "white",
            "linecolor": "white",
            "ticks": ""
           },
           "bgcolor": "#E5ECF6",
           "caxis": {
            "gridcolor": "white",
            "linecolor": "white",
            "ticks": ""
           }
          },
          "title": {
           "x": 0.05
          },
          "xaxis": {
           "automargin": true,
           "gridcolor": "white",
           "linecolor": "white",
           "ticks": "",
           "title": {
            "standoff": 15
           },
           "zerolinecolor": "white",
           "zerolinewidth": 2
          },
          "yaxis": {
           "automargin": true,
           "gridcolor": "white",
           "linecolor": "white",
           "ticks": "",
           "title": {
            "standoff": 15
           },
           "zerolinecolor": "white",
           "zerolinewidth": 2
          }
         }
        },
        "title": {
         "text": "Histogram of Salary"
        },
        "xaxis": {
         "anchor": "y",
         "domain": [
          0,
          1
         ],
         "title": {
          "text": "Salary"
         }
        },
        "yaxis": {
         "anchor": "x",
         "domain": [
          0,
          1
         ],
         "title": {
          "text": "count"
         }
        }
       }
      }
     },
     "metadata": {},
     "output_type": "display_data"
    }
   ],
   "source": [
    "fig = px.histogram(df, x=\"Salary\",title=\"Histogram of Salary\" )\n",
    "fig.show()"
   ]
  },
  {
   "cell_type": "markdown",
   "id": "98548b66-e309-4eb8-a5dc-65fe0abbf1e8",
   "metadata": {},
   "source": [
    "## Analysis: "
   ]
  },
  {
   "cell_type": "markdown",
   "id": "20aed48d-b78e-46da-963f-e7f15e2f4dc7",
   "metadata": {},
   "source": [
    "**What proportion of job postings is attributed to each region within the kingdom?**"
   ]
  },
  {
   "cell_type": "code",
   "execution_count": 141,
   "id": "72ece4b7-5508-403a-8fb0-f519fc74272a",
   "metadata": {},
   "outputs": [
    {
     "data": {
      "application/vnd.plotly.v1+json": {
       "config": {
        "plotlyServerURL": "https://plot.ly"
       },
       "data": [
        {
         "domain": {
          "x": [
           0,
           1
          ],
          "y": [
           0,
           1
          ]
         },
         "hovertemplate": "Region=%{label}<br>Count=%{value}<extra></extra>",
         "labels": [
          "الرياض",
          "مكة المكرمة",
          "المنطقة الشرقية",
          "المدينة المنورة",
          "الباحة",
          "عسير",
          "القصيم",
          "حائل",
          "تبوك",
          "نجران",
          "جازان",
          "الحدود الشمالية",
          "الجوف",
          "اخرى"
         ],
         "legendgroup": "",
         "name": "",
         "showlegend": true,
         "type": "pie",
         "values": [
          566,
          336,
          204,
          75,
          45,
          36,
          29,
          18,
          11,
          8,
          7,
          4,
          3,
          1
         ]
        }
       ],
       "layout": {
        "legend": {
         "tracegroupgap": 0
        },
        "template": {
         "data": {
          "bar": [
           {
            "error_x": {
             "color": "#2a3f5f"
            },
            "error_y": {
             "color": "#2a3f5f"
            },
            "marker": {
             "line": {
              "color": "#E5ECF6",
              "width": 0.5
             },
             "pattern": {
              "fillmode": "overlay",
              "size": 10,
              "solidity": 0.2
             }
            },
            "type": "bar"
           }
          ],
          "barpolar": [
           {
            "marker": {
             "line": {
              "color": "#E5ECF6",
              "width": 0.5
             },
             "pattern": {
              "fillmode": "overlay",
              "size": 10,
              "solidity": 0.2
             }
            },
            "type": "barpolar"
           }
          ],
          "carpet": [
           {
            "aaxis": {
             "endlinecolor": "#2a3f5f",
             "gridcolor": "white",
             "linecolor": "white",
             "minorgridcolor": "white",
             "startlinecolor": "#2a3f5f"
            },
            "baxis": {
             "endlinecolor": "#2a3f5f",
             "gridcolor": "white",
             "linecolor": "white",
             "minorgridcolor": "white",
             "startlinecolor": "#2a3f5f"
            },
            "type": "carpet"
           }
          ],
          "choropleth": [
           {
            "colorbar": {
             "outlinewidth": 0,
             "ticks": ""
            },
            "type": "choropleth"
           }
          ],
          "contour": [
           {
            "colorbar": {
             "outlinewidth": 0,
             "ticks": ""
            },
            "colorscale": [
             [
              0,
              "#0d0887"
             ],
             [
              0.1111111111111111,
              "#46039f"
             ],
             [
              0.2222222222222222,
              "#7201a8"
             ],
             [
              0.3333333333333333,
              "#9c179e"
             ],
             [
              0.4444444444444444,
              "#bd3786"
             ],
             [
              0.5555555555555556,
              "#d8576b"
             ],
             [
              0.6666666666666666,
              "#ed7953"
             ],
             [
              0.7777777777777778,
              "#fb9f3a"
             ],
             [
              0.8888888888888888,
              "#fdca26"
             ],
             [
              1,
              "#f0f921"
             ]
            ],
            "type": "contour"
           }
          ],
          "contourcarpet": [
           {
            "colorbar": {
             "outlinewidth": 0,
             "ticks": ""
            },
            "type": "contourcarpet"
           }
          ],
          "heatmap": [
           {
            "colorbar": {
             "outlinewidth": 0,
             "ticks": ""
            },
            "colorscale": [
             [
              0,
              "#0d0887"
             ],
             [
              0.1111111111111111,
              "#46039f"
             ],
             [
              0.2222222222222222,
              "#7201a8"
             ],
             [
              0.3333333333333333,
              "#9c179e"
             ],
             [
              0.4444444444444444,
              "#bd3786"
             ],
             [
              0.5555555555555556,
              "#d8576b"
             ],
             [
              0.6666666666666666,
              "#ed7953"
             ],
             [
              0.7777777777777778,
              "#fb9f3a"
             ],
             [
              0.8888888888888888,
              "#fdca26"
             ],
             [
              1,
              "#f0f921"
             ]
            ],
            "type": "heatmap"
           }
          ],
          "heatmapgl": [
           {
            "colorbar": {
             "outlinewidth": 0,
             "ticks": ""
            },
            "colorscale": [
             [
              0,
              "#0d0887"
             ],
             [
              0.1111111111111111,
              "#46039f"
             ],
             [
              0.2222222222222222,
              "#7201a8"
             ],
             [
              0.3333333333333333,
              "#9c179e"
             ],
             [
              0.4444444444444444,
              "#bd3786"
             ],
             [
              0.5555555555555556,
              "#d8576b"
             ],
             [
              0.6666666666666666,
              "#ed7953"
             ],
             [
              0.7777777777777778,
              "#fb9f3a"
             ],
             [
              0.8888888888888888,
              "#fdca26"
             ],
             [
              1,
              "#f0f921"
             ]
            ],
            "type": "heatmapgl"
           }
          ],
          "histogram": [
           {
            "marker": {
             "pattern": {
              "fillmode": "overlay",
              "size": 10,
              "solidity": 0.2
             }
            },
            "type": "histogram"
           }
          ],
          "histogram2d": [
           {
            "colorbar": {
             "outlinewidth": 0,
             "ticks": ""
            },
            "colorscale": [
             [
              0,
              "#0d0887"
             ],
             [
              0.1111111111111111,
              "#46039f"
             ],
             [
              0.2222222222222222,
              "#7201a8"
             ],
             [
              0.3333333333333333,
              "#9c179e"
             ],
             [
              0.4444444444444444,
              "#bd3786"
             ],
             [
              0.5555555555555556,
              "#d8576b"
             ],
             [
              0.6666666666666666,
              "#ed7953"
             ],
             [
              0.7777777777777778,
              "#fb9f3a"
             ],
             [
              0.8888888888888888,
              "#fdca26"
             ],
             [
              1,
              "#f0f921"
             ]
            ],
            "type": "histogram2d"
           }
          ],
          "histogram2dcontour": [
           {
            "colorbar": {
             "outlinewidth": 0,
             "ticks": ""
            },
            "colorscale": [
             [
              0,
              "#0d0887"
             ],
             [
              0.1111111111111111,
              "#46039f"
             ],
             [
              0.2222222222222222,
              "#7201a8"
             ],
             [
              0.3333333333333333,
              "#9c179e"
             ],
             [
              0.4444444444444444,
              "#bd3786"
             ],
             [
              0.5555555555555556,
              "#d8576b"
             ],
             [
              0.6666666666666666,
              "#ed7953"
             ],
             [
              0.7777777777777778,
              "#fb9f3a"
             ],
             [
              0.8888888888888888,
              "#fdca26"
             ],
             [
              1,
              "#f0f921"
             ]
            ],
            "type": "histogram2dcontour"
           }
          ],
          "mesh3d": [
           {
            "colorbar": {
             "outlinewidth": 0,
             "ticks": ""
            },
            "type": "mesh3d"
           }
          ],
          "parcoords": [
           {
            "line": {
             "colorbar": {
              "outlinewidth": 0,
              "ticks": ""
             }
            },
            "type": "parcoords"
           }
          ],
          "pie": [
           {
            "automargin": true,
            "type": "pie"
           }
          ],
          "scatter": [
           {
            "fillpattern": {
             "fillmode": "overlay",
             "size": 10,
             "solidity": 0.2
            },
            "type": "scatter"
           }
          ],
          "scatter3d": [
           {
            "line": {
             "colorbar": {
              "outlinewidth": 0,
              "ticks": ""
             }
            },
            "marker": {
             "colorbar": {
              "outlinewidth": 0,
              "ticks": ""
             }
            },
            "type": "scatter3d"
           }
          ],
          "scattercarpet": [
           {
            "marker": {
             "colorbar": {
              "outlinewidth": 0,
              "ticks": ""
             }
            },
            "type": "scattercarpet"
           }
          ],
          "scattergeo": [
           {
            "marker": {
             "colorbar": {
              "outlinewidth": 0,
              "ticks": ""
             }
            },
            "type": "scattergeo"
           }
          ],
          "scattergl": [
           {
            "marker": {
             "colorbar": {
              "outlinewidth": 0,
              "ticks": ""
             }
            },
            "type": "scattergl"
           }
          ],
          "scattermapbox": [
           {
            "marker": {
             "colorbar": {
              "outlinewidth": 0,
              "ticks": ""
             }
            },
            "type": "scattermapbox"
           }
          ],
          "scatterpolar": [
           {
            "marker": {
             "colorbar": {
              "outlinewidth": 0,
              "ticks": ""
             }
            },
            "type": "scatterpolar"
           }
          ],
          "scatterpolargl": [
           {
            "marker": {
             "colorbar": {
              "outlinewidth": 0,
              "ticks": ""
             }
            },
            "type": "scatterpolargl"
           }
          ],
          "scatterternary": [
           {
            "marker": {
             "colorbar": {
              "outlinewidth": 0,
              "ticks": ""
             }
            },
            "type": "scatterternary"
           }
          ],
          "surface": [
           {
            "colorbar": {
             "outlinewidth": 0,
             "ticks": ""
            },
            "colorscale": [
             [
              0,
              "#0d0887"
             ],
             [
              0.1111111111111111,
              "#46039f"
             ],
             [
              0.2222222222222222,
              "#7201a8"
             ],
             [
              0.3333333333333333,
              "#9c179e"
             ],
             [
              0.4444444444444444,
              "#bd3786"
             ],
             [
              0.5555555555555556,
              "#d8576b"
             ],
             [
              0.6666666666666666,
              "#ed7953"
             ],
             [
              0.7777777777777778,
              "#fb9f3a"
             ],
             [
              0.8888888888888888,
              "#fdca26"
             ],
             [
              1,
              "#f0f921"
             ]
            ],
            "type": "surface"
           }
          ],
          "table": [
           {
            "cells": {
             "fill": {
              "color": "#EBF0F8"
             },
             "line": {
              "color": "white"
             }
            },
            "header": {
             "fill": {
              "color": "#C8D4E3"
             },
             "line": {
              "color": "white"
             }
            },
            "type": "table"
           }
          ]
         },
         "layout": {
          "annotationdefaults": {
           "arrowcolor": "#2a3f5f",
           "arrowhead": 0,
           "arrowwidth": 1
          },
          "autotypenumbers": "strict",
          "coloraxis": {
           "colorbar": {
            "outlinewidth": 0,
            "ticks": ""
           }
          },
          "colorscale": {
           "diverging": [
            [
             0,
             "#8e0152"
            ],
            [
             0.1,
             "#c51b7d"
            ],
            [
             0.2,
             "#de77ae"
            ],
            [
             0.3,
             "#f1b6da"
            ],
            [
             0.4,
             "#fde0ef"
            ],
            [
             0.5,
             "#f7f7f7"
            ],
            [
             0.6,
             "#e6f5d0"
            ],
            [
             0.7,
             "#b8e186"
            ],
            [
             0.8,
             "#7fbc41"
            ],
            [
             0.9,
             "#4d9221"
            ],
            [
             1,
             "#276419"
            ]
           ],
           "sequential": [
            [
             0,
             "#0d0887"
            ],
            [
             0.1111111111111111,
             "#46039f"
            ],
            [
             0.2222222222222222,
             "#7201a8"
            ],
            [
             0.3333333333333333,
             "#9c179e"
            ],
            [
             0.4444444444444444,
             "#bd3786"
            ],
            [
             0.5555555555555556,
             "#d8576b"
            ],
            [
             0.6666666666666666,
             "#ed7953"
            ],
            [
             0.7777777777777778,
             "#fb9f3a"
            ],
            [
             0.8888888888888888,
             "#fdca26"
            ],
            [
             1,
             "#f0f921"
            ]
           ],
           "sequentialminus": [
            [
             0,
             "#0d0887"
            ],
            [
             0.1111111111111111,
             "#46039f"
            ],
            [
             0.2222222222222222,
             "#7201a8"
            ],
            [
             0.3333333333333333,
             "#9c179e"
            ],
            [
             0.4444444444444444,
             "#bd3786"
            ],
            [
             0.5555555555555556,
             "#d8576b"
            ],
            [
             0.6666666666666666,
             "#ed7953"
            ],
            [
             0.7777777777777778,
             "#fb9f3a"
            ],
            [
             0.8888888888888888,
             "#fdca26"
            ],
            [
             1,
             "#f0f921"
            ]
           ]
          },
          "colorway": [
           "#636efa",
           "#EF553B",
           "#00cc96",
           "#ab63fa",
           "#FFA15A",
           "#19d3f3",
           "#FF6692",
           "#B6E880",
           "#FF97FF",
           "#FECB52"
          ],
          "font": {
           "color": "#2a3f5f"
          },
          "geo": {
           "bgcolor": "white",
           "lakecolor": "white",
           "landcolor": "#E5ECF6",
           "showlakes": true,
           "showland": true,
           "subunitcolor": "white"
          },
          "hoverlabel": {
           "align": "left"
          },
          "hovermode": "closest",
          "mapbox": {
           "style": "light"
          },
          "paper_bgcolor": "white",
          "plot_bgcolor": "#E5ECF6",
          "polar": {
           "angularaxis": {
            "gridcolor": "white",
            "linecolor": "white",
            "ticks": ""
           },
           "bgcolor": "#E5ECF6",
           "radialaxis": {
            "gridcolor": "white",
            "linecolor": "white",
            "ticks": ""
           }
          },
          "scene": {
           "xaxis": {
            "backgroundcolor": "#E5ECF6",
            "gridcolor": "white",
            "gridwidth": 2,
            "linecolor": "white",
            "showbackground": true,
            "ticks": "",
            "zerolinecolor": "white"
           },
           "yaxis": {
            "backgroundcolor": "#E5ECF6",
            "gridcolor": "white",
            "gridwidth": 2,
            "linecolor": "white",
            "showbackground": true,
            "ticks": "",
            "zerolinecolor": "white"
           },
           "zaxis": {
            "backgroundcolor": "#E5ECF6",
            "gridcolor": "white",
            "gridwidth": 2,
            "linecolor": "white",
            "showbackground": true,
            "ticks": "",
            "zerolinecolor": "white"
           }
          },
          "shapedefaults": {
           "line": {
            "color": "#2a3f5f"
           }
          },
          "ternary": {
           "aaxis": {
            "gridcolor": "white",
            "linecolor": "white",
            "ticks": ""
           },
           "baxis": {
            "gridcolor": "white",
            "linecolor": "white",
            "ticks": ""
           },
           "bgcolor": "#E5ECF6",
           "caxis": {
            "gridcolor": "white",
            "linecolor": "white",
            "ticks": ""
           }
          },
          "title": {
           "x": 0.05
          },
          "xaxis": {
           "automargin": true,
           "gridcolor": "white",
           "linecolor": "white",
           "ticks": "",
           "title": {
            "standoff": 15
           },
           "zerolinecolor": "white",
           "zerolinewidth": 2
          },
          "yaxis": {
           "automargin": true,
           "gridcolor": "white",
           "linecolor": "white",
           "ticks": "",
           "title": {
            "standoff": 15
           },
           "zerolinecolor": "white",
           "zerolinewidth": 2
          }
         }
        },
        "title": {
         "text": "Proportion of Job Postings by Region"
        }
       }
      },
      "text/html": [
       "<div>                            <div id=\"b32333d2-6dbc-4261-bb16-49ca4fe20cf2\" class=\"plotly-graph-div\" style=\"height:525px; width:100%;\"></div>            <script type=\"text/javascript\">                require([\"plotly\"], function(Plotly) {                    window.PLOTLYENV=window.PLOTLYENV || {};                                    if (document.getElementById(\"b32333d2-6dbc-4261-bb16-49ca4fe20cf2\")) {                    Plotly.newPlot(                        \"b32333d2-6dbc-4261-bb16-49ca4fe20cf2\",                        [{\"domain\":{\"x\":[0.0,1.0],\"y\":[0.0,1.0]},\"hovertemplate\":\"Region=%{label}\\u003cbr\\u003eCount=%{value}\\u003cextra\\u003e\\u003c\\u002fextra\\u003e\",\"labels\":[\"\\u0627\\u0644\\u0631\\u064a\\u0627\\u0636\",\"\\u0645\\u0643\\u0629 \\u0627\\u0644\\u0645\\u0643\\u0631\\u0645\\u0629\",\"\\u0627\\u0644\\u0645\\u0646\\u0637\\u0642\\u0629 \\u0627\\u0644\\u0634\\u0631\\u0642\\u064a\\u0629\",\"\\u0627\\u0644\\u0645\\u062f\\u064a\\u0646\\u0629 \\u0627\\u0644\\u0645\\u0646\\u0648\\u0631\\u0629\",\"\\u0627\\u0644\\u0628\\u0627\\u062d\\u0629\",\"\\u0639\\u0633\\u064a\\u0631\",\"\\u0627\\u0644\\u0642\\u0635\\u064a\\u0645\",\"\\u062d\\u0627\\u0626\\u0644\",\"\\u062a\\u0628\\u0648\\u0643\",\"\\u0646\\u062c\\u0631\\u0627\\u0646\",\"\\u062c\\u0627\\u0632\\u0627\\u0646\",\"\\u0627\\u0644\\u062d\\u062f\\u0648\\u062f \\u0627\\u0644\\u0634\\u0645\\u0627\\u0644\\u064a\\u0629\",\"\\u0627\\u0644\\u062c\\u0648\\u0641\",\"\\u0627\\u062e\\u0631\\u0649\"],\"legendgroup\":\"\",\"name\":\"\",\"showlegend\":true,\"values\":[566,336,204,75,45,36,29,18,11,8,7,4,3,1],\"type\":\"pie\"}],                        {\"template\":{\"data\":{\"histogram2dcontour\":[{\"type\":\"histogram2dcontour\",\"colorbar\":{\"outlinewidth\":0,\"ticks\":\"\"},\"colorscale\":[[0.0,\"#0d0887\"],[0.1111111111111111,\"#46039f\"],[0.2222222222222222,\"#7201a8\"],[0.3333333333333333,\"#9c179e\"],[0.4444444444444444,\"#bd3786\"],[0.5555555555555556,\"#d8576b\"],[0.6666666666666666,\"#ed7953\"],[0.7777777777777778,\"#fb9f3a\"],[0.8888888888888888,\"#fdca26\"],[1.0,\"#f0f921\"]]}],\"choropleth\":[{\"type\":\"choropleth\",\"colorbar\":{\"outlinewidth\":0,\"ticks\":\"\"}}],\"histogram2d\":[{\"type\":\"histogram2d\",\"colorbar\":{\"outlinewidth\":0,\"ticks\":\"\"},\"colorscale\":[[0.0,\"#0d0887\"],[0.1111111111111111,\"#46039f\"],[0.2222222222222222,\"#7201a8\"],[0.3333333333333333,\"#9c179e\"],[0.4444444444444444,\"#bd3786\"],[0.5555555555555556,\"#d8576b\"],[0.6666666666666666,\"#ed7953\"],[0.7777777777777778,\"#fb9f3a\"],[0.8888888888888888,\"#fdca26\"],[1.0,\"#f0f921\"]]}],\"heatmap\":[{\"type\":\"heatmap\",\"colorbar\":{\"outlinewidth\":0,\"ticks\":\"\"},\"colorscale\":[[0.0,\"#0d0887\"],[0.1111111111111111,\"#46039f\"],[0.2222222222222222,\"#7201a8\"],[0.3333333333333333,\"#9c179e\"],[0.4444444444444444,\"#bd3786\"],[0.5555555555555556,\"#d8576b\"],[0.6666666666666666,\"#ed7953\"],[0.7777777777777778,\"#fb9f3a\"],[0.8888888888888888,\"#fdca26\"],[1.0,\"#f0f921\"]]}],\"heatmapgl\":[{\"type\":\"heatmapgl\",\"colorbar\":{\"outlinewidth\":0,\"ticks\":\"\"},\"colorscale\":[[0.0,\"#0d0887\"],[0.1111111111111111,\"#46039f\"],[0.2222222222222222,\"#7201a8\"],[0.3333333333333333,\"#9c179e\"],[0.4444444444444444,\"#bd3786\"],[0.5555555555555556,\"#d8576b\"],[0.6666666666666666,\"#ed7953\"],[0.7777777777777778,\"#fb9f3a\"],[0.8888888888888888,\"#fdca26\"],[1.0,\"#f0f921\"]]}],\"contourcarpet\":[{\"type\":\"contourcarpet\",\"colorbar\":{\"outlinewidth\":0,\"ticks\":\"\"}}],\"contour\":[{\"type\":\"contour\",\"colorbar\":{\"outlinewidth\":0,\"ticks\":\"\"},\"colorscale\":[[0.0,\"#0d0887\"],[0.1111111111111111,\"#46039f\"],[0.2222222222222222,\"#7201a8\"],[0.3333333333333333,\"#9c179e\"],[0.4444444444444444,\"#bd3786\"],[0.5555555555555556,\"#d8576b\"],[0.6666666666666666,\"#ed7953\"],[0.7777777777777778,\"#fb9f3a\"],[0.8888888888888888,\"#fdca26\"],[1.0,\"#f0f921\"]]}],\"surface\":[{\"type\":\"surface\",\"colorbar\":{\"outlinewidth\":0,\"ticks\":\"\"},\"colorscale\":[[0.0,\"#0d0887\"],[0.1111111111111111,\"#46039f\"],[0.2222222222222222,\"#7201a8\"],[0.3333333333333333,\"#9c179e\"],[0.4444444444444444,\"#bd3786\"],[0.5555555555555556,\"#d8576b\"],[0.6666666666666666,\"#ed7953\"],[0.7777777777777778,\"#fb9f3a\"],[0.8888888888888888,\"#fdca26\"],[1.0,\"#f0f921\"]]}],\"mesh3d\":[{\"type\":\"mesh3d\",\"colorbar\":{\"outlinewidth\":0,\"ticks\":\"\"}}],\"scatter\":[{\"fillpattern\":{\"fillmode\":\"overlay\",\"size\":10,\"solidity\":0.2},\"type\":\"scatter\"}],\"parcoords\":[{\"type\":\"parcoords\",\"line\":{\"colorbar\":{\"outlinewidth\":0,\"ticks\":\"\"}}}],\"scatterpolargl\":[{\"type\":\"scatterpolargl\",\"marker\":{\"colorbar\":{\"outlinewidth\":0,\"ticks\":\"\"}}}],\"bar\":[{\"error_x\":{\"color\":\"#2a3f5f\"},\"error_y\":{\"color\":\"#2a3f5f\"},\"marker\":{\"line\":{\"color\":\"#E5ECF6\",\"width\":0.5},\"pattern\":{\"fillmode\":\"overlay\",\"size\":10,\"solidity\":0.2}},\"type\":\"bar\"}],\"scattergeo\":[{\"type\":\"scattergeo\",\"marker\":{\"colorbar\":{\"outlinewidth\":0,\"ticks\":\"\"}}}],\"scatterpolar\":[{\"type\":\"scatterpolar\",\"marker\":{\"colorbar\":{\"outlinewidth\":0,\"ticks\":\"\"}}}],\"histogram\":[{\"marker\":{\"pattern\":{\"fillmode\":\"overlay\",\"size\":10,\"solidity\":0.2}},\"type\":\"histogram\"}],\"scattergl\":[{\"type\":\"scattergl\",\"marker\":{\"colorbar\":{\"outlinewidth\":0,\"ticks\":\"\"}}}],\"scatter3d\":[{\"type\":\"scatter3d\",\"line\":{\"colorbar\":{\"outlinewidth\":0,\"ticks\":\"\"}},\"marker\":{\"colorbar\":{\"outlinewidth\":0,\"ticks\":\"\"}}}],\"scattermapbox\":[{\"type\":\"scattermapbox\",\"marker\":{\"colorbar\":{\"outlinewidth\":0,\"ticks\":\"\"}}}],\"scatterternary\":[{\"type\":\"scatterternary\",\"marker\":{\"colorbar\":{\"outlinewidth\":0,\"ticks\":\"\"}}}],\"scattercarpet\":[{\"type\":\"scattercarpet\",\"marker\":{\"colorbar\":{\"outlinewidth\":0,\"ticks\":\"\"}}}],\"carpet\":[{\"aaxis\":{\"endlinecolor\":\"#2a3f5f\",\"gridcolor\":\"white\",\"linecolor\":\"white\",\"minorgridcolor\":\"white\",\"startlinecolor\":\"#2a3f5f\"},\"baxis\":{\"endlinecolor\":\"#2a3f5f\",\"gridcolor\":\"white\",\"linecolor\":\"white\",\"minorgridcolor\":\"white\",\"startlinecolor\":\"#2a3f5f\"},\"type\":\"carpet\"}],\"table\":[{\"cells\":{\"fill\":{\"color\":\"#EBF0F8\"},\"line\":{\"color\":\"white\"}},\"header\":{\"fill\":{\"color\":\"#C8D4E3\"},\"line\":{\"color\":\"white\"}},\"type\":\"table\"}],\"barpolar\":[{\"marker\":{\"line\":{\"color\":\"#E5ECF6\",\"width\":0.5},\"pattern\":{\"fillmode\":\"overlay\",\"size\":10,\"solidity\":0.2}},\"type\":\"barpolar\"}],\"pie\":[{\"automargin\":true,\"type\":\"pie\"}]},\"layout\":{\"autotypenumbers\":\"strict\",\"colorway\":[\"#636efa\",\"#EF553B\",\"#00cc96\",\"#ab63fa\",\"#FFA15A\",\"#19d3f3\",\"#FF6692\",\"#B6E880\",\"#FF97FF\",\"#FECB52\"],\"font\":{\"color\":\"#2a3f5f\"},\"hovermode\":\"closest\",\"hoverlabel\":{\"align\":\"left\"},\"paper_bgcolor\":\"white\",\"plot_bgcolor\":\"#E5ECF6\",\"polar\":{\"bgcolor\":\"#E5ECF6\",\"angularaxis\":{\"gridcolor\":\"white\",\"linecolor\":\"white\",\"ticks\":\"\"},\"radialaxis\":{\"gridcolor\":\"white\",\"linecolor\":\"white\",\"ticks\":\"\"}},\"ternary\":{\"bgcolor\":\"#E5ECF6\",\"aaxis\":{\"gridcolor\":\"white\",\"linecolor\":\"white\",\"ticks\":\"\"},\"baxis\":{\"gridcolor\":\"white\",\"linecolor\":\"white\",\"ticks\":\"\"},\"caxis\":{\"gridcolor\":\"white\",\"linecolor\":\"white\",\"ticks\":\"\"}},\"coloraxis\":{\"colorbar\":{\"outlinewidth\":0,\"ticks\":\"\"}},\"colorscale\":{\"sequential\":[[0.0,\"#0d0887\"],[0.1111111111111111,\"#46039f\"],[0.2222222222222222,\"#7201a8\"],[0.3333333333333333,\"#9c179e\"],[0.4444444444444444,\"#bd3786\"],[0.5555555555555556,\"#d8576b\"],[0.6666666666666666,\"#ed7953\"],[0.7777777777777778,\"#fb9f3a\"],[0.8888888888888888,\"#fdca26\"],[1.0,\"#f0f921\"]],\"sequentialminus\":[[0.0,\"#0d0887\"],[0.1111111111111111,\"#46039f\"],[0.2222222222222222,\"#7201a8\"],[0.3333333333333333,\"#9c179e\"],[0.4444444444444444,\"#bd3786\"],[0.5555555555555556,\"#d8576b\"],[0.6666666666666666,\"#ed7953\"],[0.7777777777777778,\"#fb9f3a\"],[0.8888888888888888,\"#fdca26\"],[1.0,\"#f0f921\"]],\"diverging\":[[0,\"#8e0152\"],[0.1,\"#c51b7d\"],[0.2,\"#de77ae\"],[0.3,\"#f1b6da\"],[0.4,\"#fde0ef\"],[0.5,\"#f7f7f7\"],[0.6,\"#e6f5d0\"],[0.7,\"#b8e186\"],[0.8,\"#7fbc41\"],[0.9,\"#4d9221\"],[1,\"#276419\"]]},\"xaxis\":{\"gridcolor\":\"white\",\"linecolor\":\"white\",\"ticks\":\"\",\"title\":{\"standoff\":15},\"zerolinecolor\":\"white\",\"automargin\":true,\"zerolinewidth\":2},\"yaxis\":{\"gridcolor\":\"white\",\"linecolor\":\"white\",\"ticks\":\"\",\"title\":{\"standoff\":15},\"zerolinecolor\":\"white\",\"automargin\":true,\"zerolinewidth\":2},\"scene\":{\"xaxis\":{\"backgroundcolor\":\"#E5ECF6\",\"gridcolor\":\"white\",\"linecolor\":\"white\",\"showbackground\":true,\"ticks\":\"\",\"zerolinecolor\":\"white\",\"gridwidth\":2},\"yaxis\":{\"backgroundcolor\":\"#E5ECF6\",\"gridcolor\":\"white\",\"linecolor\":\"white\",\"showbackground\":true,\"ticks\":\"\",\"zerolinecolor\":\"white\",\"gridwidth\":2},\"zaxis\":{\"backgroundcolor\":\"#E5ECF6\",\"gridcolor\":\"white\",\"linecolor\":\"white\",\"showbackground\":true,\"ticks\":\"\",\"zerolinecolor\":\"white\",\"gridwidth\":2}},\"shapedefaults\":{\"line\":{\"color\":\"#2a3f5f\"}},\"annotationdefaults\":{\"arrowcolor\":\"#2a3f5f\",\"arrowhead\":0,\"arrowwidth\":1},\"geo\":{\"bgcolor\":\"white\",\"landcolor\":\"#E5ECF6\",\"subunitcolor\":\"white\",\"showland\":true,\"showlakes\":true,\"lakecolor\":\"white\"},\"title\":{\"x\":0.05},\"mapbox\":{\"style\":\"light\"}}},\"legend\":{\"tracegroupgap\":0},\"title\":{\"text\":\"Proportion of Job Postings by Region\"}},                        {\"responsive\": true}                    ).then(function(){\n",
       "                            \n",
       "var gd = document.getElementById('b32333d2-6dbc-4261-bb16-49ca4fe20cf2');\n",
       "var x = new MutationObserver(function (mutations, observer) {{\n",
       "        var display = window.getComputedStyle(gd).display;\n",
       "        if (!display || display === 'none') {{\n",
       "            console.log([gd, 'removed!']);\n",
       "            Plotly.purge(gd);\n",
       "            observer.disconnect();\n",
       "        }}\n",
       "}});\n",
       "\n",
       "// Listen for the removal of the full notebook cells\n",
       "var notebookContainer = gd.closest('#notebook-container');\n",
       "if (notebookContainer) {{\n",
       "    x.observe(notebookContainer, {childList: true});\n",
       "}}\n",
       "\n",
       "// Listen for the clearing of the current output cell\n",
       "var outputEl = gd.closest('.output');\n",
       "if (outputEl) {{\n",
       "    x.observe(outputEl, {childList: true});\n",
       "}}\n",
       "\n",
       "                        })                };                });            </script>        </div>"
      ]
     },
     "metadata": {},
     "output_type": "display_data"
    }
   ],
   "source": [
    "jobs_by_region = df['Region'].value_counts().reset_index()\n",
    "jobs_by_region.columns = ['Region', 'Count']\n",
    "\n",
    "fig = px.pie(jobs_by_region, values='Count', names='Region', title='Proportion of Job Postings by Region')\n",
    "fig.show()"
   ]
  },
  {
   "cell_type": "code",
   "execution_count": null,
   "id": "ac7ff4b1",
   "metadata": {},
   "outputs": [],
   "source": [
    "#Most job posts are in Riyadh\n",
    "#67% of job posts are in Riyadh and mecca"
   ]
  },
  {
   "cell_type": "markdown",
   "id": "34655544",
   "metadata": {},
   "source": [
    "**Is there a gender preference indicated in the job postings?**"
   ]
  },
  {
   "cell_type": "code",
   "execution_count": 22,
   "id": "5be16f08-a072-4a02-a3ee-6f9d57786fb4",
   "metadata": {},
   "outputs": [
    {
     "data": {
      "application/vnd.plotly.v1+json": {
       "config": {
        "plotlyServerURL": "https://plot.ly"
       },
       "data": [
        {
         "alignmentgroup": "True",
         "hovertemplate": "Gender=%{x}<br>Count=%{y}<extra></extra>",
         "legendgroup": "",
         "marker": {
          "color": "#636efa",
          "pattern": {
           "shape": ""
          }
         },
         "name": "",
         "offsetgroup": "",
         "orientation": "v",
         "showlegend": false,
         "textposition": "auto",
         "type": "bar",
         "x": [
          "both",
          "M",
          "F"
         ],
         "xaxis": "x",
         "y": [
          582,
          480,
          403
         ],
         "yaxis": "y"
        }
       ],
       "layout": {
        "barmode": "relative",
        "legend": {
         "tracegroupgap": 0
        },
        "template": {
         "data": {
          "bar": [
           {
            "error_x": {
             "color": "#2a3f5f"
            },
            "error_y": {
             "color": "#2a3f5f"
            },
            "marker": {
             "line": {
              "color": "#E5ECF6",
              "width": 0.5
             },
             "pattern": {
              "fillmode": "overlay",
              "size": 10,
              "solidity": 0.2
             }
            },
            "type": "bar"
           }
          ],
          "barpolar": [
           {
            "marker": {
             "line": {
              "color": "#E5ECF6",
              "width": 0.5
             },
             "pattern": {
              "fillmode": "overlay",
              "size": 10,
              "solidity": 0.2
             }
            },
            "type": "barpolar"
           }
          ],
          "carpet": [
           {
            "aaxis": {
             "endlinecolor": "#2a3f5f",
             "gridcolor": "white",
             "linecolor": "white",
             "minorgridcolor": "white",
             "startlinecolor": "#2a3f5f"
            },
            "baxis": {
             "endlinecolor": "#2a3f5f",
             "gridcolor": "white",
             "linecolor": "white",
             "minorgridcolor": "white",
             "startlinecolor": "#2a3f5f"
            },
            "type": "carpet"
           }
          ],
          "choropleth": [
           {
            "colorbar": {
             "outlinewidth": 0,
             "ticks": ""
            },
            "type": "choropleth"
           }
          ],
          "contour": [
           {
            "colorbar": {
             "outlinewidth": 0,
             "ticks": ""
            },
            "colorscale": [
             [
              0,
              "#0d0887"
             ],
             [
              0.1111111111111111,
              "#46039f"
             ],
             [
              0.2222222222222222,
              "#7201a8"
             ],
             [
              0.3333333333333333,
              "#9c179e"
             ],
             [
              0.4444444444444444,
              "#bd3786"
             ],
             [
              0.5555555555555556,
              "#d8576b"
             ],
             [
              0.6666666666666666,
              "#ed7953"
             ],
             [
              0.7777777777777778,
              "#fb9f3a"
             ],
             [
              0.8888888888888888,
              "#fdca26"
             ],
             [
              1,
              "#f0f921"
             ]
            ],
            "type": "contour"
           }
          ],
          "contourcarpet": [
           {
            "colorbar": {
             "outlinewidth": 0,
             "ticks": ""
            },
            "type": "contourcarpet"
           }
          ],
          "heatmap": [
           {
            "colorbar": {
             "outlinewidth": 0,
             "ticks": ""
            },
            "colorscale": [
             [
              0,
              "#0d0887"
             ],
             [
              0.1111111111111111,
              "#46039f"
             ],
             [
              0.2222222222222222,
              "#7201a8"
             ],
             [
              0.3333333333333333,
              "#9c179e"
             ],
             [
              0.4444444444444444,
              "#bd3786"
             ],
             [
              0.5555555555555556,
              "#d8576b"
             ],
             [
              0.6666666666666666,
              "#ed7953"
             ],
             [
              0.7777777777777778,
              "#fb9f3a"
             ],
             [
              0.8888888888888888,
              "#fdca26"
             ],
             [
              1,
              "#f0f921"
             ]
            ],
            "type": "heatmap"
           }
          ],
          "heatmapgl": [
           {
            "colorbar": {
             "outlinewidth": 0,
             "ticks": ""
            },
            "colorscale": [
             [
              0,
              "#0d0887"
             ],
             [
              0.1111111111111111,
              "#46039f"
             ],
             [
              0.2222222222222222,
              "#7201a8"
             ],
             [
              0.3333333333333333,
              "#9c179e"
             ],
             [
              0.4444444444444444,
              "#bd3786"
             ],
             [
              0.5555555555555556,
              "#d8576b"
             ],
             [
              0.6666666666666666,
              "#ed7953"
             ],
             [
              0.7777777777777778,
              "#fb9f3a"
             ],
             [
              0.8888888888888888,
              "#fdca26"
             ],
             [
              1,
              "#f0f921"
             ]
            ],
            "type": "heatmapgl"
           }
          ],
          "histogram": [
           {
            "marker": {
             "pattern": {
              "fillmode": "overlay",
              "size": 10,
              "solidity": 0.2
             }
            },
            "type": "histogram"
           }
          ],
          "histogram2d": [
           {
            "colorbar": {
             "outlinewidth": 0,
             "ticks": ""
            },
            "colorscale": [
             [
              0,
              "#0d0887"
             ],
             [
              0.1111111111111111,
              "#46039f"
             ],
             [
              0.2222222222222222,
              "#7201a8"
             ],
             [
              0.3333333333333333,
              "#9c179e"
             ],
             [
              0.4444444444444444,
              "#bd3786"
             ],
             [
              0.5555555555555556,
              "#d8576b"
             ],
             [
              0.6666666666666666,
              "#ed7953"
             ],
             [
              0.7777777777777778,
              "#fb9f3a"
             ],
             [
              0.8888888888888888,
              "#fdca26"
             ],
             [
              1,
              "#f0f921"
             ]
            ],
            "type": "histogram2d"
           }
          ],
          "histogram2dcontour": [
           {
            "colorbar": {
             "outlinewidth": 0,
             "ticks": ""
            },
            "colorscale": [
             [
              0,
              "#0d0887"
             ],
             [
              0.1111111111111111,
              "#46039f"
             ],
             [
              0.2222222222222222,
              "#7201a8"
             ],
             [
              0.3333333333333333,
              "#9c179e"
             ],
             [
              0.4444444444444444,
              "#bd3786"
             ],
             [
              0.5555555555555556,
              "#d8576b"
             ],
             [
              0.6666666666666666,
              "#ed7953"
             ],
             [
              0.7777777777777778,
              "#fb9f3a"
             ],
             [
              0.8888888888888888,
              "#fdca26"
             ],
             [
              1,
              "#f0f921"
             ]
            ],
            "type": "histogram2dcontour"
           }
          ],
          "mesh3d": [
           {
            "colorbar": {
             "outlinewidth": 0,
             "ticks": ""
            },
            "type": "mesh3d"
           }
          ],
          "parcoords": [
           {
            "line": {
             "colorbar": {
              "outlinewidth": 0,
              "ticks": ""
             }
            },
            "type": "parcoords"
           }
          ],
          "pie": [
           {
            "automargin": true,
            "type": "pie"
           }
          ],
          "scatter": [
           {
            "fillpattern": {
             "fillmode": "overlay",
             "size": 10,
             "solidity": 0.2
            },
            "type": "scatter"
           }
          ],
          "scatter3d": [
           {
            "line": {
             "colorbar": {
              "outlinewidth": 0,
              "ticks": ""
             }
            },
            "marker": {
             "colorbar": {
              "outlinewidth": 0,
              "ticks": ""
             }
            },
            "type": "scatter3d"
           }
          ],
          "scattercarpet": [
           {
            "marker": {
             "colorbar": {
              "outlinewidth": 0,
              "ticks": ""
             }
            },
            "type": "scattercarpet"
           }
          ],
          "scattergeo": [
           {
            "marker": {
             "colorbar": {
              "outlinewidth": 0,
              "ticks": ""
             }
            },
            "type": "scattergeo"
           }
          ],
          "scattergl": [
           {
            "marker": {
             "colorbar": {
              "outlinewidth": 0,
              "ticks": ""
             }
            },
            "type": "scattergl"
           }
          ],
          "scattermapbox": [
           {
            "marker": {
             "colorbar": {
              "outlinewidth": 0,
              "ticks": ""
             }
            },
            "type": "scattermapbox"
           }
          ],
          "scatterpolar": [
           {
            "marker": {
             "colorbar": {
              "outlinewidth": 0,
              "ticks": ""
             }
            },
            "type": "scatterpolar"
           }
          ],
          "scatterpolargl": [
           {
            "marker": {
             "colorbar": {
              "outlinewidth": 0,
              "ticks": ""
             }
            },
            "type": "scatterpolargl"
           }
          ],
          "scatterternary": [
           {
            "marker": {
             "colorbar": {
              "outlinewidth": 0,
              "ticks": ""
             }
            },
            "type": "scatterternary"
           }
          ],
          "surface": [
           {
            "colorbar": {
             "outlinewidth": 0,
             "ticks": ""
            },
            "colorscale": [
             [
              0,
              "#0d0887"
             ],
             [
              0.1111111111111111,
              "#46039f"
             ],
             [
              0.2222222222222222,
              "#7201a8"
             ],
             [
              0.3333333333333333,
              "#9c179e"
             ],
             [
              0.4444444444444444,
              "#bd3786"
             ],
             [
              0.5555555555555556,
              "#d8576b"
             ],
             [
              0.6666666666666666,
              "#ed7953"
             ],
             [
              0.7777777777777778,
              "#fb9f3a"
             ],
             [
              0.8888888888888888,
              "#fdca26"
             ],
             [
              1,
              "#f0f921"
             ]
            ],
            "type": "surface"
           }
          ],
          "table": [
           {
            "cells": {
             "fill": {
              "color": "#EBF0F8"
             },
             "line": {
              "color": "white"
             }
            },
            "header": {
             "fill": {
              "color": "#C8D4E3"
             },
             "line": {
              "color": "white"
             }
            },
            "type": "table"
           }
          ]
         },
         "layout": {
          "annotationdefaults": {
           "arrowcolor": "#2a3f5f",
           "arrowhead": 0,
           "arrowwidth": 1
          },
          "autotypenumbers": "strict",
          "coloraxis": {
           "colorbar": {
            "outlinewidth": 0,
            "ticks": ""
           }
          },
          "colorscale": {
           "diverging": [
            [
             0,
             "#8e0152"
            ],
            [
             0.1,
             "#c51b7d"
            ],
            [
             0.2,
             "#de77ae"
            ],
            [
             0.3,
             "#f1b6da"
            ],
            [
             0.4,
             "#fde0ef"
            ],
            [
             0.5,
             "#f7f7f7"
            ],
            [
             0.6,
             "#e6f5d0"
            ],
            [
             0.7,
             "#b8e186"
            ],
            [
             0.8,
             "#7fbc41"
            ],
            [
             0.9,
             "#4d9221"
            ],
            [
             1,
             "#276419"
            ]
           ],
           "sequential": [
            [
             0,
             "#0d0887"
            ],
            [
             0.1111111111111111,
             "#46039f"
            ],
            [
             0.2222222222222222,
             "#7201a8"
            ],
            [
             0.3333333333333333,
             "#9c179e"
            ],
            [
             0.4444444444444444,
             "#bd3786"
            ],
            [
             0.5555555555555556,
             "#d8576b"
            ],
            [
             0.6666666666666666,
             "#ed7953"
            ],
            [
             0.7777777777777778,
             "#fb9f3a"
            ],
            [
             0.8888888888888888,
             "#fdca26"
            ],
            [
             1,
             "#f0f921"
            ]
           ],
           "sequentialminus": [
            [
             0,
             "#0d0887"
            ],
            [
             0.1111111111111111,
             "#46039f"
            ],
            [
             0.2222222222222222,
             "#7201a8"
            ],
            [
             0.3333333333333333,
             "#9c179e"
            ],
            [
             0.4444444444444444,
             "#bd3786"
            ],
            [
             0.5555555555555556,
             "#d8576b"
            ],
            [
             0.6666666666666666,
             "#ed7953"
            ],
            [
             0.7777777777777778,
             "#fb9f3a"
            ],
            [
             0.8888888888888888,
             "#fdca26"
            ],
            [
             1,
             "#f0f921"
            ]
           ]
          },
          "colorway": [
           "#636efa",
           "#EF553B",
           "#00cc96",
           "#ab63fa",
           "#FFA15A",
           "#19d3f3",
           "#FF6692",
           "#B6E880",
           "#FF97FF",
           "#FECB52"
          ],
          "font": {
           "color": "#2a3f5f"
          },
          "geo": {
           "bgcolor": "white",
           "lakecolor": "white",
           "landcolor": "#E5ECF6",
           "showlakes": true,
           "showland": true,
           "subunitcolor": "white"
          },
          "hoverlabel": {
           "align": "left"
          },
          "hovermode": "closest",
          "mapbox": {
           "style": "light"
          },
          "paper_bgcolor": "white",
          "plot_bgcolor": "#E5ECF6",
          "polar": {
           "angularaxis": {
            "gridcolor": "white",
            "linecolor": "white",
            "ticks": ""
           },
           "bgcolor": "#E5ECF6",
           "radialaxis": {
            "gridcolor": "white",
            "linecolor": "white",
            "ticks": ""
           }
          },
          "scene": {
           "xaxis": {
            "backgroundcolor": "#E5ECF6",
            "gridcolor": "white",
            "gridwidth": 2,
            "linecolor": "white",
            "showbackground": true,
            "ticks": "",
            "zerolinecolor": "white"
           },
           "yaxis": {
            "backgroundcolor": "#E5ECF6",
            "gridcolor": "white",
            "gridwidth": 2,
            "linecolor": "white",
            "showbackground": true,
            "ticks": "",
            "zerolinecolor": "white"
           },
           "zaxis": {
            "backgroundcolor": "#E5ECF6",
            "gridcolor": "white",
            "gridwidth": 2,
            "linecolor": "white",
            "showbackground": true,
            "ticks": "",
            "zerolinecolor": "white"
           }
          },
          "shapedefaults": {
           "line": {
            "color": "#2a3f5f"
           }
          },
          "ternary": {
           "aaxis": {
            "gridcolor": "white",
            "linecolor": "white",
            "ticks": ""
           },
           "baxis": {
            "gridcolor": "white",
            "linecolor": "white",
            "ticks": ""
           },
           "bgcolor": "#E5ECF6",
           "caxis": {
            "gridcolor": "white",
            "linecolor": "white",
            "ticks": ""
           }
          },
          "title": {
           "x": 0.05
          },
          "xaxis": {
           "automargin": true,
           "gridcolor": "white",
           "linecolor": "white",
           "ticks": "",
           "title": {
            "standoff": 15
           },
           "zerolinecolor": "white",
           "zerolinewidth": 2
          },
          "yaxis": {
           "automargin": true,
           "gridcolor": "white",
           "linecolor": "white",
           "ticks": "",
           "title": {
            "standoff": 15
           },
           "zerolinecolor": "white",
           "zerolinewidth": 2
          }
         }
        },
        "title": {
         "text": "Gender Distribution"
        },
        "xaxis": {
         "anchor": "y",
         "domain": [
          0,
          1
         ],
         "title": {
          "text": "Gender"
         }
        },
        "yaxis": {
         "anchor": "x",
         "domain": [
          0,
          1
         ],
         "title": {
          "text": "Count"
         }
        }
       }
      }
     },
     "metadata": {},
     "output_type": "display_data"
    }
   ],
   "source": [
    "gender_counts = df['Gender'].value_counts()\n",
    "\n",
    "fig = px.bar(x=gender_counts.index, y=gender_counts.values, labels={'x':'Gender', 'y':'Count'}, title='Gender Distribution')\n",
    "fig.show()"
   ]
  },
  {
   "cell_type": "code",
   "execution_count": null,
   "id": "323a4d36",
   "metadata": {},
   "outputs": [],
   "source": [
    "#There is not a huge difference between genders"
   ]
  },
  {
   "cell_type": "markdown",
   "id": "6312332e",
   "metadata": {},
   "source": [
    "**What is the expected salary range for fresh graduates?**"
   ]
  },
  {
   "cell_type": "code",
   "execution_count": 28,
   "id": "73f9f2ac-8477-49ea-9c68-4fe44d4395b6",
   "metadata": {},
   "outputs": [
    {
     "data": {
      "application/vnd.plotly.v1+json": {
       "config": {
        "plotlyServerURL": "https://plot.ly"
       },
       "data": [
        {
         "alignmentgroup": "True",
         "bingroup": "y",
         "hovertemplate": "count=%{x}<br>Salary=%{y}<extra></extra>",
         "legendgroup": "",
         "marker": {
          "color": "#636efa",
          "pattern": {
           "shape": ""
          }
         },
         "name": "",
         "offsetgroup": "",
         "orientation": "h",
         "showlegend": false,
         "type": "histogram",
         "xaxis": "x",
         "y": [
          5000,
          5000,
          5000,
          5000,
          4500,
          7200,
          4000,
          7200,
          5500,
          5000,
          4000,
          4000,
          4000,
          5500,
          3200,
          4500,
          4500,
          4000,
          4000,
          5500,
          4500,
          4500,
          4000,
          5000,
          4000,
          4170,
          4000,
          4500,
          5500,
          6000,
          4000,
          4500,
          4500,
          4000,
          4000,
          4000,
          4000,
          4000,
          4000,
          4000,
          4000,
          4000,
          7000,
          6000,
          4000,
          4000,
          4000,
          7000,
          5000,
          5500,
          3640,
          5000,
          4000,
          5000,
          5500,
          4000,
          4000,
          7000,
          7000,
          4000,
          4000,
          4000,
          4000,
          4000,
          4000,
          5000,
          4500,
          3000,
          4400,
          4000,
          4000,
          4000,
          4000,
          3200,
          4082,
          4000,
          4000,
          4000,
          4000,
          4000,
          4500,
          4000,
          4082,
          4082,
          6000,
          7000,
          4000,
          4000,
          5000,
          5000,
          5000,
          8400,
          8400,
          8400,
          8400,
          6150,
          6000,
          4400,
          7000,
          4000,
          4000,
          4000,
          4000,
          4000,
          5000,
          5000,
          4000,
          5000,
          4500,
          4000,
          4000,
          4000,
          4000,
          4000,
          6500,
          5000,
          6000,
          3000,
          4000,
          5500,
          4000,
          4000,
          4000,
          4000,
          4000,
          4000,
          4782,
          7000,
          5000,
          6000,
          10000,
          4500,
          4000,
          4000,
          4500,
          4000,
          4000,
          6000,
          4000,
          4000,
          4000,
          4000,
          4000,
          5000,
          4000,
          6000,
          4000,
          4000,
          4000,
          4000,
          7000,
          4000,
          4000,
          4000,
          5000,
          5000,
          5000,
          4000,
          5000,
          4375,
          6000,
          4000,
          5000,
          4000,
          5500,
          4000,
          5700,
          6000,
          4000,
          4000,
          5000,
          4000,
          6000,
          6000,
          4000,
          4000,
          4000,
          4000,
          4000,
          4444,
          4800,
          6000,
          6000,
          6000,
          6000,
          6000,
          6000,
          5000,
          7000,
          5000,
          4000,
          4500,
          5000,
          4500,
          4000,
          4000,
          4000,
          5000,
          4000,
          4000,
          9200,
          5000,
          4000,
          5600,
          5600,
          5600,
          4000,
          4000,
          4000,
          5500,
          4800,
          8803,
          4000,
          8803,
          4000,
          7000,
          5000,
          4000,
          4000,
          7000,
          4000,
          4000,
          8000,
          5700,
          5700,
          5700,
          5000,
          5000,
          5000,
          5000,
          4000,
          4000,
          3200,
          4000,
          4000,
          4000,
          6000,
          6000,
          6000,
          3500,
          4000,
          5000,
          4000,
          4000,
          4000,
          5000,
          4000,
          4000,
          5625,
          5000,
          4000,
          5000,
          5000,
          5000,
          5000,
          6000,
          5200,
          4000,
          3600,
          4000,
          4408,
          5000,
          5500,
          4000,
          4000,
          4000,
          5000,
          4000,
          5000,
          4083,
          7000,
          4000,
          4000,
          6500,
          5500,
          4000,
          5000,
          4600,
          4000,
          5000,
          4000,
          8000,
          6000,
          4000,
          4500,
          5000,
          5000,
          4000,
          4000,
          4000,
          4500,
          4000,
          5500,
          4000,
          6250,
          4000,
          4000,
          4000,
          4000,
          4000,
          5500,
          7000,
          4000,
          12325,
          4000,
          5625,
          7000,
          3500,
          6583,
          6583,
          4000,
          6583,
          4000,
          4000,
          4000,
          4000,
          4000,
          4000,
          4000,
          4000,
          4000,
          5500,
          5000,
          4000,
          4000,
          5000,
          4000,
          4500,
          4000,
          4000,
          4500,
          7000,
          4000,
          4000,
          3500,
          4000,
          5000,
          4000,
          4000,
          6000,
          5000,
          4000,
          8000,
          4000,
          4000,
          5000,
          4000,
          5500,
          4500,
          4000,
          4000,
          4500,
          4500,
          4500,
          7000,
          4500,
          4500,
          4500,
          4500,
          6000,
          4750,
          5000,
          4000,
          4000,
          4500,
          4000,
          5000,
          4000,
          4000,
          4000,
          4000,
          3500,
          4000,
          4500,
          4000,
          4000,
          4000,
          5000,
          8000,
          5000,
          5000,
          5000,
          5000,
          4000,
          4000,
          4000,
          4000,
          4320,
          4630,
          4375,
          4500,
          4500,
          4500,
          4000,
          4500,
          4500,
          4500,
          4000,
          4630,
          4630,
          5000,
          4000,
          7000,
          4000,
          6000,
          4000,
          5000,
          6000,
          5000,
          5000,
          7000,
          8500,
          4000,
          5000,
          5200,
          4625,
          4000,
          4500,
          4000,
          4500,
          4500,
          8000,
          8000,
          6500,
          6500,
          5000,
          5000,
          7000,
          4500,
          4500,
          5500,
          5500,
          4500,
          4000,
          5700,
          10250,
          4500,
          4500,
          4500,
          4000,
          4000,
          4000,
          5000,
          4000,
          4000,
          4000,
          4000,
          4000,
          4000,
          4000,
          4000,
          4000,
          5040,
          4170,
          4500,
          4000,
          5000,
          4500,
          4000,
          4000,
          4000,
          4000,
          7000,
          4050,
          4000,
          4000,
          8400,
          8400,
          4000,
          4000,
          4000,
          5000,
          3500,
          4000,
          5000,
          6500,
          4000,
          4000,
          5600,
          7000,
          3500,
          5000,
          4500,
          4500,
          4000,
          4000,
          5000,
          4000,
          5000,
          5000,
          4000,
          5000,
          4000,
          4000,
          6500,
          6000,
          5000,
          5000,
          4200,
          3200,
          4000,
          4000,
          4000,
          4000,
          5000,
          5000,
          4000,
          4000,
          4000,
          4000,
          4000,
          4200,
          4000,
          4000,
          4000,
          4082,
          4000,
          4000,
          6000,
          4000,
          3200,
          4000,
          3200,
          4000,
          4000,
          4000,
          5700,
          4000,
          4000,
          4000,
          4000,
          5000,
          5000,
          4000,
          4000,
          3000,
          4200,
          4000,
          5000,
          4000,
          4000,
          4000,
          4000,
          4000,
          4000,
          7500,
          4000,
          4000,
          4000,
          5271,
          4000,
          4667,
          3200,
          4082,
          4000,
          4000,
          4000,
          4000,
          4000,
          4500,
          5500,
          4000,
          4000,
          4000,
          4000,
          4000,
          4000,
          3640,
          4500,
          4000,
          4000,
          4000,
          4000,
          4001,
          4500,
          5500,
          4000,
          4000,
          4000,
          4000,
          4000,
          4000,
          5200,
          5500,
          4000,
          4000,
          6000,
          5000,
          5700,
          5700,
          5700,
          5625,
          5500,
          5000,
          5000,
          7000,
          4500,
          6000,
          5500,
          8000,
          8000,
          4000,
          4000,
          3200,
          5000,
          5000,
          5000,
          4000,
          6000,
          6000,
          4000,
          6000,
          5500,
          5000,
          5000,
          5000,
          4000,
          4000,
          4000,
          4000,
          5000,
          6500,
          6000,
          6000,
          6000,
          6000,
          4000,
          6000,
          5000,
          5000,
          5000,
          5000,
          4000,
          7000,
          4000,
          4000,
          4000,
          6000,
          4000,
          3200,
          4000,
          3200,
          4000,
          4000,
          5700,
          4000,
          4000,
          4000,
          5000,
          5000,
          3000,
          5000,
          4000,
          4000,
          7757,
          5700,
          4000,
          4000,
          4500,
          3200,
          4500,
          4000,
          4500,
          3500,
          6000,
          4000,
          4000,
          4000,
          6000,
          4000,
          4500,
          4500,
          4000,
          4000,
          4500,
          4500,
          4000,
          4500,
          4500,
          3500,
          4000,
          4000,
          3600,
          3600,
          4000,
          6000,
          6000,
          4000,
          4000,
          4000,
          4000,
          6000,
          4000,
          4200,
          8000,
          6000,
          4500,
          5000,
          6000,
          4000,
          4082,
          10000,
          4000,
          4000,
          5000,
          4000,
          4000,
          4000,
          4082,
          5000,
          6000,
          4000,
          7500,
          4000,
          4000,
          4000,
          6000,
          4000,
          4000,
          4900,
          5000,
          5000,
          5500,
          6000,
          3000,
          4000,
          4000,
          4000,
          6000,
          4200,
          4000,
          5000,
          4000,
          4000,
          3500,
          6000,
          7000,
          4500,
          5500,
          4000,
          4000,
          4000,
          4000,
          4000,
          5000,
          4000,
          4000,
          4000,
          4000,
          4000,
          4000,
          4000,
          4000,
          4000,
          4000,
          6000,
          6000,
          4000,
          5500,
          5500,
          5500,
          4000,
          4000,
          4000,
          7000,
          4000,
          5000,
          6000,
          7000,
          7000,
          4000,
          4500,
          4500,
          5500,
          4000,
          5000,
          4000,
          4000,
          4000,
          5000,
          4000,
          4000,
          4900,
          4000,
          4000,
          4000,
          4000,
          4000,
          4500,
          4000,
          4000,
          5000,
          4500,
          4000,
          4000,
          4000,
          4000,
          4000,
          4000,
          4000,
          4000,
          7000,
          4000,
          4000,
          4000,
          7000,
          7000,
          7000,
          4000,
          4000,
          4000,
          4000,
          4000,
          4000,
          4000,
          4500,
          5500,
          4500,
          4500,
          4000,
          4500,
          6500,
          5000,
          5556,
          4000,
          4000,
          5000,
          4000,
          4000,
          5500,
          7000,
          4000
         ],
         "yaxis": "y"
        }
       ],
       "layout": {
        "barmode": "relative",
        "legend": {
         "tracegroupgap": 0
        },
        "template": {
         "data": {
          "bar": [
           {
            "error_x": {
             "color": "#2a3f5f"
            },
            "error_y": {
             "color": "#2a3f5f"
            },
            "marker": {
             "line": {
              "color": "#E5ECF6",
              "width": 0.5
             },
             "pattern": {
              "fillmode": "overlay",
              "size": 10,
              "solidity": 0.2
             }
            },
            "type": "bar"
           }
          ],
          "barpolar": [
           {
            "marker": {
             "line": {
              "color": "#E5ECF6",
              "width": 0.5
             },
             "pattern": {
              "fillmode": "overlay",
              "size": 10,
              "solidity": 0.2
             }
            },
            "type": "barpolar"
           }
          ],
          "carpet": [
           {
            "aaxis": {
             "endlinecolor": "#2a3f5f",
             "gridcolor": "white",
             "linecolor": "white",
             "minorgridcolor": "white",
             "startlinecolor": "#2a3f5f"
            },
            "baxis": {
             "endlinecolor": "#2a3f5f",
             "gridcolor": "white",
             "linecolor": "white",
             "minorgridcolor": "white",
             "startlinecolor": "#2a3f5f"
            },
            "type": "carpet"
           }
          ],
          "choropleth": [
           {
            "colorbar": {
             "outlinewidth": 0,
             "ticks": ""
            },
            "type": "choropleth"
           }
          ],
          "contour": [
           {
            "colorbar": {
             "outlinewidth": 0,
             "ticks": ""
            },
            "colorscale": [
             [
              0,
              "#0d0887"
             ],
             [
              0.1111111111111111,
              "#46039f"
             ],
             [
              0.2222222222222222,
              "#7201a8"
             ],
             [
              0.3333333333333333,
              "#9c179e"
             ],
             [
              0.4444444444444444,
              "#bd3786"
             ],
             [
              0.5555555555555556,
              "#d8576b"
             ],
             [
              0.6666666666666666,
              "#ed7953"
             ],
             [
              0.7777777777777778,
              "#fb9f3a"
             ],
             [
              0.8888888888888888,
              "#fdca26"
             ],
             [
              1,
              "#f0f921"
             ]
            ],
            "type": "contour"
           }
          ],
          "contourcarpet": [
           {
            "colorbar": {
             "outlinewidth": 0,
             "ticks": ""
            },
            "type": "contourcarpet"
           }
          ],
          "heatmap": [
           {
            "colorbar": {
             "outlinewidth": 0,
             "ticks": ""
            },
            "colorscale": [
             [
              0,
              "#0d0887"
             ],
             [
              0.1111111111111111,
              "#46039f"
             ],
             [
              0.2222222222222222,
              "#7201a8"
             ],
             [
              0.3333333333333333,
              "#9c179e"
             ],
             [
              0.4444444444444444,
              "#bd3786"
             ],
             [
              0.5555555555555556,
              "#d8576b"
             ],
             [
              0.6666666666666666,
              "#ed7953"
             ],
             [
              0.7777777777777778,
              "#fb9f3a"
             ],
             [
              0.8888888888888888,
              "#fdca26"
             ],
             [
              1,
              "#f0f921"
             ]
            ],
            "type": "heatmap"
           }
          ],
          "heatmapgl": [
           {
            "colorbar": {
             "outlinewidth": 0,
             "ticks": ""
            },
            "colorscale": [
             [
              0,
              "#0d0887"
             ],
             [
              0.1111111111111111,
              "#46039f"
             ],
             [
              0.2222222222222222,
              "#7201a8"
             ],
             [
              0.3333333333333333,
              "#9c179e"
             ],
             [
              0.4444444444444444,
              "#bd3786"
             ],
             [
              0.5555555555555556,
              "#d8576b"
             ],
             [
              0.6666666666666666,
              "#ed7953"
             ],
             [
              0.7777777777777778,
              "#fb9f3a"
             ],
             [
              0.8888888888888888,
              "#fdca26"
             ],
             [
              1,
              "#f0f921"
             ]
            ],
            "type": "heatmapgl"
           }
          ],
          "histogram": [
           {
            "marker": {
             "pattern": {
              "fillmode": "overlay",
              "size": 10,
              "solidity": 0.2
             }
            },
            "type": "histogram"
           }
          ],
          "histogram2d": [
           {
            "colorbar": {
             "outlinewidth": 0,
             "ticks": ""
            },
            "colorscale": [
             [
              0,
              "#0d0887"
             ],
             [
              0.1111111111111111,
              "#46039f"
             ],
             [
              0.2222222222222222,
              "#7201a8"
             ],
             [
              0.3333333333333333,
              "#9c179e"
             ],
             [
              0.4444444444444444,
              "#bd3786"
             ],
             [
              0.5555555555555556,
              "#d8576b"
             ],
             [
              0.6666666666666666,
              "#ed7953"
             ],
             [
              0.7777777777777778,
              "#fb9f3a"
             ],
             [
              0.8888888888888888,
              "#fdca26"
             ],
             [
              1,
              "#f0f921"
             ]
            ],
            "type": "histogram2d"
           }
          ],
          "histogram2dcontour": [
           {
            "colorbar": {
             "outlinewidth": 0,
             "ticks": ""
            },
            "colorscale": [
             [
              0,
              "#0d0887"
             ],
             [
              0.1111111111111111,
              "#46039f"
             ],
             [
              0.2222222222222222,
              "#7201a8"
             ],
             [
              0.3333333333333333,
              "#9c179e"
             ],
             [
              0.4444444444444444,
              "#bd3786"
             ],
             [
              0.5555555555555556,
              "#d8576b"
             ],
             [
              0.6666666666666666,
              "#ed7953"
             ],
             [
              0.7777777777777778,
              "#fb9f3a"
             ],
             [
              0.8888888888888888,
              "#fdca26"
             ],
             [
              1,
              "#f0f921"
             ]
            ],
            "type": "histogram2dcontour"
           }
          ],
          "mesh3d": [
           {
            "colorbar": {
             "outlinewidth": 0,
             "ticks": ""
            },
            "type": "mesh3d"
           }
          ],
          "parcoords": [
           {
            "line": {
             "colorbar": {
              "outlinewidth": 0,
              "ticks": ""
             }
            },
            "type": "parcoords"
           }
          ],
          "pie": [
           {
            "automargin": true,
            "type": "pie"
           }
          ],
          "scatter": [
           {
            "fillpattern": {
             "fillmode": "overlay",
             "size": 10,
             "solidity": 0.2
            },
            "type": "scatter"
           }
          ],
          "scatter3d": [
           {
            "line": {
             "colorbar": {
              "outlinewidth": 0,
              "ticks": ""
             }
            },
            "marker": {
             "colorbar": {
              "outlinewidth": 0,
              "ticks": ""
             }
            },
            "type": "scatter3d"
           }
          ],
          "scattercarpet": [
           {
            "marker": {
             "colorbar": {
              "outlinewidth": 0,
              "ticks": ""
             }
            },
            "type": "scattercarpet"
           }
          ],
          "scattergeo": [
           {
            "marker": {
             "colorbar": {
              "outlinewidth": 0,
              "ticks": ""
             }
            },
            "type": "scattergeo"
           }
          ],
          "scattergl": [
           {
            "marker": {
             "colorbar": {
              "outlinewidth": 0,
              "ticks": ""
             }
            },
            "type": "scattergl"
           }
          ],
          "scattermapbox": [
           {
            "marker": {
             "colorbar": {
              "outlinewidth": 0,
              "ticks": ""
             }
            },
            "type": "scattermapbox"
           }
          ],
          "scatterpolar": [
           {
            "marker": {
             "colorbar": {
              "outlinewidth": 0,
              "ticks": ""
             }
            },
            "type": "scatterpolar"
           }
          ],
          "scatterpolargl": [
           {
            "marker": {
             "colorbar": {
              "outlinewidth": 0,
              "ticks": ""
             }
            },
            "type": "scatterpolargl"
           }
          ],
          "scatterternary": [
           {
            "marker": {
             "colorbar": {
              "outlinewidth": 0,
              "ticks": ""
             }
            },
            "type": "scatterternary"
           }
          ],
          "surface": [
           {
            "colorbar": {
             "outlinewidth": 0,
             "ticks": ""
            },
            "colorscale": [
             [
              0,
              "#0d0887"
             ],
             [
              0.1111111111111111,
              "#46039f"
             ],
             [
              0.2222222222222222,
              "#7201a8"
             ],
             [
              0.3333333333333333,
              "#9c179e"
             ],
             [
              0.4444444444444444,
              "#bd3786"
             ],
             [
              0.5555555555555556,
              "#d8576b"
             ],
             [
              0.6666666666666666,
              "#ed7953"
             ],
             [
              0.7777777777777778,
              "#fb9f3a"
             ],
             [
              0.8888888888888888,
              "#fdca26"
             ],
             [
              1,
              "#f0f921"
             ]
            ],
            "type": "surface"
           }
          ],
          "table": [
           {
            "cells": {
             "fill": {
              "color": "#EBF0F8"
             },
             "line": {
              "color": "white"
             }
            },
            "header": {
             "fill": {
              "color": "#C8D4E3"
             },
             "line": {
              "color": "white"
             }
            },
            "type": "table"
           }
          ]
         },
         "layout": {
          "annotationdefaults": {
           "arrowcolor": "#2a3f5f",
           "arrowhead": 0,
           "arrowwidth": 1
          },
          "autotypenumbers": "strict",
          "coloraxis": {
           "colorbar": {
            "outlinewidth": 0,
            "ticks": ""
           }
          },
          "colorscale": {
           "diverging": [
            [
             0,
             "#8e0152"
            ],
            [
             0.1,
             "#c51b7d"
            ],
            [
             0.2,
             "#de77ae"
            ],
            [
             0.3,
             "#f1b6da"
            ],
            [
             0.4,
             "#fde0ef"
            ],
            [
             0.5,
             "#f7f7f7"
            ],
            [
             0.6,
             "#e6f5d0"
            ],
            [
             0.7,
             "#b8e186"
            ],
            [
             0.8,
             "#7fbc41"
            ],
            [
             0.9,
             "#4d9221"
            ],
            [
             1,
             "#276419"
            ]
           ],
           "sequential": [
            [
             0,
             "#0d0887"
            ],
            [
             0.1111111111111111,
             "#46039f"
            ],
            [
             0.2222222222222222,
             "#7201a8"
            ],
            [
             0.3333333333333333,
             "#9c179e"
            ],
            [
             0.4444444444444444,
             "#bd3786"
            ],
            [
             0.5555555555555556,
             "#d8576b"
            ],
            [
             0.6666666666666666,
             "#ed7953"
            ],
            [
             0.7777777777777778,
             "#fb9f3a"
            ],
            [
             0.8888888888888888,
             "#fdca26"
            ],
            [
             1,
             "#f0f921"
            ]
           ],
           "sequentialminus": [
            [
             0,
             "#0d0887"
            ],
            [
             0.1111111111111111,
             "#46039f"
            ],
            [
             0.2222222222222222,
             "#7201a8"
            ],
            [
             0.3333333333333333,
             "#9c179e"
            ],
            [
             0.4444444444444444,
             "#bd3786"
            ],
            [
             0.5555555555555556,
             "#d8576b"
            ],
            [
             0.6666666666666666,
             "#ed7953"
            ],
            [
             0.7777777777777778,
             "#fb9f3a"
            ],
            [
             0.8888888888888888,
             "#fdca26"
            ],
            [
             1,
             "#f0f921"
            ]
           ]
          },
          "colorway": [
           "#636efa",
           "#EF553B",
           "#00cc96",
           "#ab63fa",
           "#FFA15A",
           "#19d3f3",
           "#FF6692",
           "#B6E880",
           "#FF97FF",
           "#FECB52"
          ],
          "font": {
           "color": "#2a3f5f"
          },
          "geo": {
           "bgcolor": "white",
           "lakecolor": "white",
           "landcolor": "#E5ECF6",
           "showlakes": true,
           "showland": true,
           "subunitcolor": "white"
          },
          "hoverlabel": {
           "align": "left"
          },
          "hovermode": "closest",
          "mapbox": {
           "style": "light"
          },
          "paper_bgcolor": "white",
          "plot_bgcolor": "#E5ECF6",
          "polar": {
           "angularaxis": {
            "gridcolor": "white",
            "linecolor": "white",
            "ticks": ""
           },
           "bgcolor": "#E5ECF6",
           "radialaxis": {
            "gridcolor": "white",
            "linecolor": "white",
            "ticks": ""
           }
          },
          "scene": {
           "xaxis": {
            "backgroundcolor": "#E5ECF6",
            "gridcolor": "white",
            "gridwidth": 2,
            "linecolor": "white",
            "showbackground": true,
            "ticks": "",
            "zerolinecolor": "white"
           },
           "yaxis": {
            "backgroundcolor": "#E5ECF6",
            "gridcolor": "white",
            "gridwidth": 2,
            "linecolor": "white",
            "showbackground": true,
            "ticks": "",
            "zerolinecolor": "white"
           },
           "zaxis": {
            "backgroundcolor": "#E5ECF6",
            "gridcolor": "white",
            "gridwidth": 2,
            "linecolor": "white",
            "showbackground": true,
            "ticks": "",
            "zerolinecolor": "white"
           }
          },
          "shapedefaults": {
           "line": {
            "color": "#2a3f5f"
           }
          },
          "ternary": {
           "aaxis": {
            "gridcolor": "white",
            "linecolor": "white",
            "ticks": ""
           },
           "baxis": {
            "gridcolor": "white",
            "linecolor": "white",
            "ticks": ""
           },
           "bgcolor": "#E5ECF6",
           "caxis": {
            "gridcolor": "white",
            "linecolor": "white",
            "ticks": ""
           }
          },
          "title": {
           "x": 0.05
          },
          "xaxis": {
           "automargin": true,
           "gridcolor": "white",
           "linecolor": "white",
           "ticks": "",
           "title": {
            "standoff": 15
           },
           "zerolinecolor": "white",
           "zerolinewidth": 2
          },
          "yaxis": {
           "automargin": true,
           "gridcolor": "white",
           "linecolor": "white",
           "ticks": "",
           "title": {
            "standoff": 15
           },
           "zerolinecolor": "white",
           "zerolinewidth": 2
          }
         }
        },
        "title": {
         "text": "Salary Range for Fresh Graduates"
        },
        "xaxis": {
         "anchor": "y",
         "domain": [
          0,
          1
         ],
         "title": {
          "text": "count"
         }
        },
        "yaxis": {
         "anchor": "x",
         "domain": [
          0,
          1
         ],
         "title": {
          "text": "Salary"
         }
        }
       }
      }
     },
     "metadata": {},
     "output_type": "display_data"
    }
   ],
   "source": [
    "fresh = df[df['Experience'] <= 1]\n",
    "\n",
    "fig = px.histogram(fresh, y='Salary', title='Salary Range for Fresh Graduates')\n",
    "fig.show()"
   ]
  },
  {
   "cell_type": "code",
   "execution_count": null,
   "id": "9f40b560",
   "metadata": {},
   "outputs": [],
   "source": [
    "#The salary range is 4K to 7K."
   ]
  },
  {
   "cell_type": "markdown",
   "id": "1f6aeaed",
   "metadata": {},
   "source": [
    "**Are job opportunities predominantly targeted at individuals with experience, or is there room for fresh graduates as well?**"
   ]
  },
  {
   "cell_type": "code",
   "execution_count": 29,
   "id": "3590e345-2051-4215-91ac-07d196b510ef",
   "metadata": {},
   "outputs": [
    {
     "data": {
      "application/vnd.plotly.v1+json": {
       "config": {
        "plotlyServerURL": "https://plot.ly"
       },
       "data": [
        {
         "alignmentgroup": "True",
         "bingroup": "x",
         "hovertemplate": "Required Experience (Years)=%{x}<br>count=%{y}<extra></extra>",
         "legendgroup": "",
         "marker": {
          "color": "#636efa",
          "pattern": {
           "shape": ""
          }
         },
         "name": "",
         "nbinsx": 10,
         "offsetgroup": "",
         "orientation": "v",
         "showlegend": false,
         "type": "histogram",
         "x": [
          0,
          0,
          2,
          0,
          0,
          0,
          4,
          4,
          2,
          4,
          0,
          0,
          0,
          2,
          4,
          2,
          4,
          10,
          2,
          0,
          0,
          2,
          2,
          2,
          0,
          0,
          0,
          2,
          4,
          0,
          2,
          0,
          4,
          4,
          4,
          4,
          0,
          0,
          0,
          2,
          2,
          0,
          2,
          2,
          0,
          0,
          0,
          0,
          2,
          0,
          2,
          0,
          0,
          0,
          0,
          0,
          0,
          2,
          0,
          0,
          0,
          0,
          0,
          2,
          0,
          0,
          2,
          0,
          0,
          0,
          0,
          0,
          0,
          0,
          0,
          0,
          0,
          0,
          0,
          0,
          0,
          4,
          7,
          0,
          0,
          0,
          2,
          0,
          0,
          2,
          2,
          2,
          2,
          0,
          0,
          0,
          2,
          0,
          0,
          2,
          0,
          0,
          0,
          0,
          2,
          0,
          0,
          2,
          2,
          7,
          0,
          0,
          0,
          0,
          0,
          0,
          0,
          0,
          0,
          0,
          0,
          0,
          0,
          0,
          2,
          4,
          2,
          0,
          0,
          0,
          2,
          2,
          0,
          0,
          2,
          2,
          2,
          2,
          0,
          0,
          2,
          0,
          0,
          0,
          0,
          0,
          0,
          0,
          0,
          2,
          0,
          0,
          2,
          0,
          2,
          0,
          2,
          0,
          2,
          2,
          0,
          0,
          2,
          7,
          4,
          4,
          7,
          7,
          0,
          0,
          7,
          4,
          2,
          2,
          7,
          2,
          4,
          0,
          4,
          0,
          0,
          0,
          2,
          2,
          4,
          2,
          2,
          0,
          0,
          0,
          0,
          0,
          2,
          2,
          0,
          0,
          0,
          0,
          0,
          2,
          0,
          2,
          4,
          2,
          2,
          0,
          2,
          0,
          2,
          0,
          0,
          2,
          2,
          0,
          2,
          0,
          2,
          4,
          2,
          2,
          2,
          0,
          4,
          0,
          0,
          0,
          2,
          0,
          0,
          12,
          2,
          4,
          2,
          2,
          2,
          2,
          0,
          0,
          0,
          0,
          0,
          4,
          2,
          0,
          0,
          0,
          12,
          0,
          0,
          0,
          0,
          0,
          0,
          0,
          2,
          0,
          0,
          2,
          0,
          2,
          2,
          0,
          4,
          0,
          0,
          2,
          0,
          0,
          0,
          0,
          0,
          0,
          0,
          0,
          0,
          4,
          2,
          2,
          0,
          4,
          0,
          2,
          0,
          0,
          0,
          2,
          2,
          2,
          0,
          2,
          0,
          4,
          4,
          2,
          2,
          0,
          4,
          2,
          2,
          2,
          0,
          2,
          0,
          0,
          0,
          0,
          0,
          0,
          0,
          4,
          0,
          0,
          0,
          2,
          2,
          2,
          0,
          0,
          0,
          0,
          0,
          0,
          0,
          0,
          0,
          2,
          2,
          2,
          0,
          2,
          0,
          0,
          0,
          2,
          0,
          2,
          2,
          2,
          0,
          0,
          0,
          0,
          0,
          2,
          0,
          4,
          4,
          0,
          0,
          0,
          0,
          0,
          2,
          0,
          0,
          0,
          2,
          0,
          0,
          0,
          0,
          0,
          2,
          0,
          0,
          0,
          0,
          2,
          0,
          2,
          2,
          0,
          0,
          0,
          0,
          2,
          4,
          2,
          4,
          4,
          0,
          2,
          0,
          0,
          2,
          0,
          0,
          2,
          0,
          0,
          4,
          0,
          0,
          0,
          0,
          0,
          0,
          2,
          2,
          0,
          2,
          2,
          2,
          2,
          0,
          0,
          0,
          2,
          2,
          0,
          4,
          4,
          2,
          0,
          4,
          2,
          2,
          0,
          0,
          0,
          2,
          0,
          7,
          4,
          0,
          0,
          2,
          2,
          7,
          10,
          0,
          2,
          2,
          0,
          0,
          0,
          0,
          0,
          0,
          2,
          0,
          0,
          10,
          2,
          0,
          2,
          2,
          2,
          2,
          0,
          4,
          4,
          4,
          4,
          0,
          2,
          4,
          2,
          12,
          0,
          2,
          0,
          0,
          0,
          0,
          0,
          0,
          0,
          2,
          2,
          2,
          0,
          2,
          0,
          0,
          0,
          2,
          0,
          0,
          2,
          2,
          2,
          2,
          0,
          4,
          2,
          4,
          4,
          0,
          0,
          0,
          4,
          0,
          0,
          2,
          0,
          0,
          0,
          0,
          0,
          0,
          2,
          0,
          0,
          2,
          10,
          0,
          0,
          0,
          2,
          4,
          2,
          0,
          0,
          0,
          2,
          0,
          0,
          4,
          4,
          0,
          2,
          0,
          4,
          0,
          0,
          2,
          0,
          0,
          0,
          2,
          0,
          0,
          2,
          0,
          2,
          0,
          0,
          0,
          0,
          0,
          0,
          0,
          0,
          0,
          0,
          0,
          0,
          0,
          0,
          2,
          2,
          2,
          2,
          2,
          2,
          10,
          4,
          0,
          0,
          0,
          0,
          0,
          0,
          0,
          0,
          0,
          0,
          0,
          0,
          4,
          4,
          4,
          7,
          4,
          7,
          10,
          4,
          4,
          4,
          0,
          0,
          0,
          2,
          4,
          0,
          0,
          2,
          2,
          2,
          2,
          0,
          2,
          2,
          2,
          0,
          2,
          0,
          0,
          0,
          0,
          0,
          0,
          0,
          0,
          0,
          0,
          0,
          0,
          4,
          4,
          2,
          4,
          0,
          4,
          0,
          0,
          4,
          0,
          0,
          0,
          4,
          4,
          4,
          0,
          4,
          7,
          0,
          0,
          2,
          2,
          0,
          2,
          2,
          2,
          4,
          0,
          0,
          0,
          0,
          0,
          2,
          0,
          0,
          0,
          0,
          4,
          0,
          0,
          0,
          0,
          0,
          0,
          2,
          0,
          0,
          2,
          4,
          0,
          2,
          2,
          0,
          0,
          0,
          0,
          2,
          4,
          2,
          0,
          0,
          4,
          0,
          0,
          0,
          0,
          0,
          0,
          2,
          0,
          0,
          0,
          0,
          0,
          0,
          0,
          0,
          0,
          0,
          0,
          0,
          0,
          0,
          0,
          2,
          0,
          0,
          0,
          0,
          0,
          0,
          2,
          2,
          2,
          0,
          0,
          0,
          2,
          2,
          2,
          2,
          0,
          0,
          2,
          2,
          2,
          4,
          0,
          0,
          0,
          0,
          0,
          0,
          0,
          0,
          4,
          2,
          2,
          0,
          0,
          2,
          0,
          0,
          0,
          0,
          2,
          2,
          0,
          0,
          0,
          0,
          0,
          2,
          0,
          0,
          2,
          0,
          0,
          10,
          0,
          0,
          2,
          0,
          2,
          0,
          0,
          0,
          0,
          0,
          0,
          0,
          2,
          0,
          2,
          4,
          0,
          0,
          0,
          2,
          2,
          0,
          0,
          2,
          0,
          2,
          2,
          2,
          0,
          2,
          0,
          0,
          0,
          0,
          0,
          0,
          2,
          0,
          0,
          2,
          2,
          4,
          2,
          4,
          4,
          2,
          0,
          4,
          0,
          4,
          2,
          0,
          0,
          0,
          4,
          0,
          0,
          0,
          0,
          2,
          2,
          0,
          0,
          2,
          2,
          0,
          0,
          2,
          2,
          0,
          2,
          0,
          2,
          2,
          2,
          0,
          2,
          2,
          0,
          0,
          2,
          4,
          4,
          0,
          0,
          2,
          2,
          4,
          2,
          0,
          0,
          10,
          0,
          0,
          4,
          2,
          0,
          2,
          0,
          2,
          0,
          0,
          0,
          2,
          2,
          0,
          0,
          4,
          7,
          0,
          0,
          0,
          4,
          0,
          0,
          0,
          0,
          0,
          0,
          4,
          0,
          0,
          0,
          0,
          0,
          0,
          2,
          0,
          0,
          2,
          0,
          0,
          0,
          0,
          2,
          2,
          4,
          2,
          2,
          0,
          0,
          0,
          0,
          2,
          0,
          4,
          4,
          4,
          0,
          4,
          7,
          0,
          0,
          0,
          0,
          2,
          2,
          0,
          0,
          0,
          0,
          0,
          4,
          0,
          0,
          0,
          0,
          2,
          0,
          2,
          0,
          0,
          0,
          2,
          4,
          0,
          0,
          0,
          2,
          0,
          0,
          2,
          2,
          0,
          0,
          2,
          0,
          2,
          4,
          4,
          2,
          0,
          2,
          2,
          2,
          2,
          10,
          0,
          0,
          2,
          0,
          0,
          0,
          0,
          2,
          2,
          4,
          2,
          0,
          2,
          2,
          0,
          2,
          0,
          2,
          2,
          0,
          0,
          2,
          2,
          2,
          2,
          0,
          0,
          4,
          0,
          0,
          0,
          0,
          0,
          0,
          0,
          0,
          0,
          0,
          0,
          4,
          0,
          2,
          2,
          0,
          2,
          2,
          0,
          0,
          2,
          0,
          0,
          0,
          2,
          0,
          2,
          2,
          0,
          0,
          2,
          2,
          0,
          0,
          0,
          0,
          2,
          2,
          0,
          0,
          0,
          0,
          4,
          4,
          0,
          0,
          0,
          2,
          2,
          2,
          2,
          2,
          0,
          2,
          0,
          4,
          2,
          0,
          0,
          2,
          2,
          2,
          2,
          0,
          0,
          2,
          0,
          0,
          2,
          0,
          2,
          0,
          0,
          0,
          0,
          0,
          0,
          2,
          0,
          2,
          0,
          2,
          2,
          2,
          0,
          2,
          0,
          0,
          0,
          2,
          2,
          2,
          2,
          2,
          0,
          0,
          2,
          2,
          2,
          0,
          2,
          0,
          2,
          4,
          0,
          4,
          0,
          2,
          2,
          0,
          2,
          2,
          0,
          2,
          2,
          2,
          2,
          2,
          2,
          2,
          0,
          0,
          4,
          2,
          2,
          0,
          0,
          4,
          2,
          2,
          2,
          2,
          4,
          4,
          4,
          0,
          4,
          4,
          4,
          4,
          4,
          4,
          2,
          4,
          2,
          2,
          0,
          0,
          0,
          2,
          0,
          0,
          0,
          0,
          2,
          0,
          0,
          0,
          0,
          0,
          0,
          2,
          4,
          4,
          4,
          0,
          4,
          7,
          0,
          0,
          0,
          2,
          2,
          0,
          0,
          0,
          0,
          0,
          2,
          0,
          0,
          0,
          0,
          0,
          2,
          2,
          0,
          0,
          0,
          0,
          0,
          0,
          10,
          0,
          10,
          4,
          2,
          0,
          0,
          0,
          0,
          0,
          0,
          7,
          4,
          4,
          2,
          7,
          2,
          0,
          0,
          0,
          2,
          7,
          4,
          0,
          0,
          2,
          2,
          0,
          0,
          0,
          2,
          0,
          0,
          0,
          2,
          7,
          0,
          2,
          0,
          2,
          0,
          0,
          0,
          0,
          0,
          0,
          0,
          0,
          0,
          0,
          2,
          2,
          0,
          4,
          2,
          0,
          2,
          0,
          2,
          0,
          0,
          4,
          4,
          0,
          2,
          2,
          2,
          2,
          2,
          0,
          7,
          0,
          0,
          0,
          2,
          0,
          0,
          4,
          7,
          0,
          7,
          7,
          7,
          7,
          2,
          10,
          10,
          0,
          2,
          0,
          0,
          2,
          2,
          0,
          2,
          0,
          2,
          2,
          0,
          2,
          0,
          0,
          2,
          0,
          0,
          0,
          0,
          2,
          0,
          2,
          0,
          2,
          0,
          0,
          0,
          2,
          0,
          2,
          2,
          0,
          4,
          0,
          4,
          0,
          0,
          2,
          0,
          7,
          0,
          0,
          0,
          0,
          0,
          0,
          0,
          0,
          0,
          0,
          4,
          4,
          0,
          4,
          4,
          0,
          4,
          0,
          2,
          0,
          7,
          0,
          0,
          0,
          0,
          0,
          0,
          0,
          0,
          0,
          2,
          2,
          2,
          2,
          2,
          0,
          0,
          0,
          0,
          0,
          0,
          0,
          0,
          0,
          0,
          2,
          0,
          2,
          0,
          0,
          0,
          2,
          2,
          0,
          0,
          2,
          0,
          0,
          0,
          0,
          0,
          0,
          0,
          0,
          2,
          2,
          0,
          2,
          2,
          2,
          2,
          0,
          0,
          0,
          2,
          0,
          0,
          0,
          4,
          0,
          2,
          2,
          4,
          4,
          2,
          0,
          2,
          0,
          0,
          2,
          2,
          2,
          0,
          0,
          0,
          2,
          0,
          0,
          4,
          4,
          0,
          0,
          0,
          0,
          0,
          4,
          2,
          2,
          4,
          4,
          2,
          7,
          2,
          2,
          0,
          0,
          0,
          0,
          0,
          0,
          0,
          0,
          0,
          2,
          7,
          0,
          0,
          0,
          2,
          4,
          0,
          0,
          2,
          2,
          4,
          0,
          0,
          0,
          0,
          0,
          2,
          2,
          2,
          0,
          2,
          0,
          0,
          0,
          2,
          0,
          0,
          0,
          2,
          2,
          0,
          2,
          2,
          0,
          2,
          0,
          4,
          4,
          0,
          0,
          2,
          0,
          0,
          2,
          0,
          2,
          0,
          0
         ],
         "xaxis": "x",
         "yaxis": "y"
        }
       ],
       "layout": {
        "barmode": "relative",
        "legend": {
         "tracegroupgap": 0
        },
        "template": {
         "data": {
          "bar": [
           {
            "error_x": {
             "color": "#2a3f5f"
            },
            "error_y": {
             "color": "#2a3f5f"
            },
            "marker": {
             "line": {
              "color": "#E5ECF6",
              "width": 0.5
             },
             "pattern": {
              "fillmode": "overlay",
              "size": 10,
              "solidity": 0.2
             }
            },
            "type": "bar"
           }
          ],
          "barpolar": [
           {
            "marker": {
             "line": {
              "color": "#E5ECF6",
              "width": 0.5
             },
             "pattern": {
              "fillmode": "overlay",
              "size": 10,
              "solidity": 0.2
             }
            },
            "type": "barpolar"
           }
          ],
          "carpet": [
           {
            "aaxis": {
             "endlinecolor": "#2a3f5f",
             "gridcolor": "white",
             "linecolor": "white",
             "minorgridcolor": "white",
             "startlinecolor": "#2a3f5f"
            },
            "baxis": {
             "endlinecolor": "#2a3f5f",
             "gridcolor": "white",
             "linecolor": "white",
             "minorgridcolor": "white",
             "startlinecolor": "#2a3f5f"
            },
            "type": "carpet"
           }
          ],
          "choropleth": [
           {
            "colorbar": {
             "outlinewidth": 0,
             "ticks": ""
            },
            "type": "choropleth"
           }
          ],
          "contour": [
           {
            "colorbar": {
             "outlinewidth": 0,
             "ticks": ""
            },
            "colorscale": [
             [
              0,
              "#0d0887"
             ],
             [
              0.1111111111111111,
              "#46039f"
             ],
             [
              0.2222222222222222,
              "#7201a8"
             ],
             [
              0.3333333333333333,
              "#9c179e"
             ],
             [
              0.4444444444444444,
              "#bd3786"
             ],
             [
              0.5555555555555556,
              "#d8576b"
             ],
             [
              0.6666666666666666,
              "#ed7953"
             ],
             [
              0.7777777777777778,
              "#fb9f3a"
             ],
             [
              0.8888888888888888,
              "#fdca26"
             ],
             [
              1,
              "#f0f921"
             ]
            ],
            "type": "contour"
           }
          ],
          "contourcarpet": [
           {
            "colorbar": {
             "outlinewidth": 0,
             "ticks": ""
            },
            "type": "contourcarpet"
           }
          ],
          "heatmap": [
           {
            "colorbar": {
             "outlinewidth": 0,
             "ticks": ""
            },
            "colorscale": [
             [
              0,
              "#0d0887"
             ],
             [
              0.1111111111111111,
              "#46039f"
             ],
             [
              0.2222222222222222,
              "#7201a8"
             ],
             [
              0.3333333333333333,
              "#9c179e"
             ],
             [
              0.4444444444444444,
              "#bd3786"
             ],
             [
              0.5555555555555556,
              "#d8576b"
             ],
             [
              0.6666666666666666,
              "#ed7953"
             ],
             [
              0.7777777777777778,
              "#fb9f3a"
             ],
             [
              0.8888888888888888,
              "#fdca26"
             ],
             [
              1,
              "#f0f921"
             ]
            ],
            "type": "heatmap"
           }
          ],
          "heatmapgl": [
           {
            "colorbar": {
             "outlinewidth": 0,
             "ticks": ""
            },
            "colorscale": [
             [
              0,
              "#0d0887"
             ],
             [
              0.1111111111111111,
              "#46039f"
             ],
             [
              0.2222222222222222,
              "#7201a8"
             ],
             [
              0.3333333333333333,
              "#9c179e"
             ],
             [
              0.4444444444444444,
              "#bd3786"
             ],
             [
              0.5555555555555556,
              "#d8576b"
             ],
             [
              0.6666666666666666,
              "#ed7953"
             ],
             [
              0.7777777777777778,
              "#fb9f3a"
             ],
             [
              0.8888888888888888,
              "#fdca26"
             ],
             [
              1,
              "#f0f921"
             ]
            ],
            "type": "heatmapgl"
           }
          ],
          "histogram": [
           {
            "marker": {
             "pattern": {
              "fillmode": "overlay",
              "size": 10,
              "solidity": 0.2
             }
            },
            "type": "histogram"
           }
          ],
          "histogram2d": [
           {
            "colorbar": {
             "outlinewidth": 0,
             "ticks": ""
            },
            "colorscale": [
             [
              0,
              "#0d0887"
             ],
             [
              0.1111111111111111,
              "#46039f"
             ],
             [
              0.2222222222222222,
              "#7201a8"
             ],
             [
              0.3333333333333333,
              "#9c179e"
             ],
             [
              0.4444444444444444,
              "#bd3786"
             ],
             [
              0.5555555555555556,
              "#d8576b"
             ],
             [
              0.6666666666666666,
              "#ed7953"
             ],
             [
              0.7777777777777778,
              "#fb9f3a"
             ],
             [
              0.8888888888888888,
              "#fdca26"
             ],
             [
              1,
              "#f0f921"
             ]
            ],
            "type": "histogram2d"
           }
          ],
          "histogram2dcontour": [
           {
            "colorbar": {
             "outlinewidth": 0,
             "ticks": ""
            },
            "colorscale": [
             [
              0,
              "#0d0887"
             ],
             [
              0.1111111111111111,
              "#46039f"
             ],
             [
              0.2222222222222222,
              "#7201a8"
             ],
             [
              0.3333333333333333,
              "#9c179e"
             ],
             [
              0.4444444444444444,
              "#bd3786"
             ],
             [
              0.5555555555555556,
              "#d8576b"
             ],
             [
              0.6666666666666666,
              "#ed7953"
             ],
             [
              0.7777777777777778,
              "#fb9f3a"
             ],
             [
              0.8888888888888888,
              "#fdca26"
             ],
             [
              1,
              "#f0f921"
             ]
            ],
            "type": "histogram2dcontour"
           }
          ],
          "mesh3d": [
           {
            "colorbar": {
             "outlinewidth": 0,
             "ticks": ""
            },
            "type": "mesh3d"
           }
          ],
          "parcoords": [
           {
            "line": {
             "colorbar": {
              "outlinewidth": 0,
              "ticks": ""
             }
            },
            "type": "parcoords"
           }
          ],
          "pie": [
           {
            "automargin": true,
            "type": "pie"
           }
          ],
          "scatter": [
           {
            "fillpattern": {
             "fillmode": "overlay",
             "size": 10,
             "solidity": 0.2
            },
            "type": "scatter"
           }
          ],
          "scatter3d": [
           {
            "line": {
             "colorbar": {
              "outlinewidth": 0,
              "ticks": ""
             }
            },
            "marker": {
             "colorbar": {
              "outlinewidth": 0,
              "ticks": ""
             }
            },
            "type": "scatter3d"
           }
          ],
          "scattercarpet": [
           {
            "marker": {
             "colorbar": {
              "outlinewidth": 0,
              "ticks": ""
             }
            },
            "type": "scattercarpet"
           }
          ],
          "scattergeo": [
           {
            "marker": {
             "colorbar": {
              "outlinewidth": 0,
              "ticks": ""
             }
            },
            "type": "scattergeo"
           }
          ],
          "scattergl": [
           {
            "marker": {
             "colorbar": {
              "outlinewidth": 0,
              "ticks": ""
             }
            },
            "type": "scattergl"
           }
          ],
          "scattermapbox": [
           {
            "marker": {
             "colorbar": {
              "outlinewidth": 0,
              "ticks": ""
             }
            },
            "type": "scattermapbox"
           }
          ],
          "scatterpolar": [
           {
            "marker": {
             "colorbar": {
              "outlinewidth": 0,
              "ticks": ""
             }
            },
            "type": "scatterpolar"
           }
          ],
          "scatterpolargl": [
           {
            "marker": {
             "colorbar": {
              "outlinewidth": 0,
              "ticks": ""
             }
            },
            "type": "scatterpolargl"
           }
          ],
          "scatterternary": [
           {
            "marker": {
             "colorbar": {
              "outlinewidth": 0,
              "ticks": ""
             }
            },
            "type": "scatterternary"
           }
          ],
          "surface": [
           {
            "colorbar": {
             "outlinewidth": 0,
             "ticks": ""
            },
            "colorscale": [
             [
              0,
              "#0d0887"
             ],
             [
              0.1111111111111111,
              "#46039f"
             ],
             [
              0.2222222222222222,
              "#7201a8"
             ],
             [
              0.3333333333333333,
              "#9c179e"
             ],
             [
              0.4444444444444444,
              "#bd3786"
             ],
             [
              0.5555555555555556,
              "#d8576b"
             ],
             [
              0.6666666666666666,
              "#ed7953"
             ],
             [
              0.7777777777777778,
              "#fb9f3a"
             ],
             [
              0.8888888888888888,
              "#fdca26"
             ],
             [
              1,
              "#f0f921"
             ]
            ],
            "type": "surface"
           }
          ],
          "table": [
           {
            "cells": {
             "fill": {
              "color": "#EBF0F8"
             },
             "line": {
              "color": "white"
             }
            },
            "header": {
             "fill": {
              "color": "#C8D4E3"
             },
             "line": {
              "color": "white"
             }
            },
            "type": "table"
           }
          ]
         },
         "layout": {
          "annotationdefaults": {
           "arrowcolor": "#2a3f5f",
           "arrowhead": 0,
           "arrowwidth": 1
          },
          "autotypenumbers": "strict",
          "coloraxis": {
           "colorbar": {
            "outlinewidth": 0,
            "ticks": ""
           }
          },
          "colorscale": {
           "diverging": [
            [
             0,
             "#8e0152"
            ],
            [
             0.1,
             "#c51b7d"
            ],
            [
             0.2,
             "#de77ae"
            ],
            [
             0.3,
             "#f1b6da"
            ],
            [
             0.4,
             "#fde0ef"
            ],
            [
             0.5,
             "#f7f7f7"
            ],
            [
             0.6,
             "#e6f5d0"
            ],
            [
             0.7,
             "#b8e186"
            ],
            [
             0.8,
             "#7fbc41"
            ],
            [
             0.9,
             "#4d9221"
            ],
            [
             1,
             "#276419"
            ]
           ],
           "sequential": [
            [
             0,
             "#0d0887"
            ],
            [
             0.1111111111111111,
             "#46039f"
            ],
            [
             0.2222222222222222,
             "#7201a8"
            ],
            [
             0.3333333333333333,
             "#9c179e"
            ],
            [
             0.4444444444444444,
             "#bd3786"
            ],
            [
             0.5555555555555556,
             "#d8576b"
            ],
            [
             0.6666666666666666,
             "#ed7953"
            ],
            [
             0.7777777777777778,
             "#fb9f3a"
            ],
            [
             0.8888888888888888,
             "#fdca26"
            ],
            [
             1,
             "#f0f921"
            ]
           ],
           "sequentialminus": [
            [
             0,
             "#0d0887"
            ],
            [
             0.1111111111111111,
             "#46039f"
            ],
            [
             0.2222222222222222,
             "#7201a8"
            ],
            [
             0.3333333333333333,
             "#9c179e"
            ],
            [
             0.4444444444444444,
             "#bd3786"
            ],
            [
             0.5555555555555556,
             "#d8576b"
            ],
            [
             0.6666666666666666,
             "#ed7953"
            ],
            [
             0.7777777777777778,
             "#fb9f3a"
            ],
            [
             0.8888888888888888,
             "#fdca26"
            ],
            [
             1,
             "#f0f921"
            ]
           ]
          },
          "colorway": [
           "#636efa",
           "#EF553B",
           "#00cc96",
           "#ab63fa",
           "#FFA15A",
           "#19d3f3",
           "#FF6692",
           "#B6E880",
           "#FF97FF",
           "#FECB52"
          ],
          "font": {
           "color": "#2a3f5f"
          },
          "geo": {
           "bgcolor": "white",
           "lakecolor": "white",
           "landcolor": "#E5ECF6",
           "showlakes": true,
           "showland": true,
           "subunitcolor": "white"
          },
          "hoverlabel": {
           "align": "left"
          },
          "hovermode": "closest",
          "mapbox": {
           "style": "light"
          },
          "paper_bgcolor": "white",
          "plot_bgcolor": "#E5ECF6",
          "polar": {
           "angularaxis": {
            "gridcolor": "white",
            "linecolor": "white",
            "ticks": ""
           },
           "bgcolor": "#E5ECF6",
           "radialaxis": {
            "gridcolor": "white",
            "linecolor": "white",
            "ticks": ""
           }
          },
          "scene": {
           "xaxis": {
            "backgroundcolor": "#E5ECF6",
            "gridcolor": "white",
            "gridwidth": 2,
            "linecolor": "white",
            "showbackground": true,
            "ticks": "",
            "zerolinecolor": "white"
           },
           "yaxis": {
            "backgroundcolor": "#E5ECF6",
            "gridcolor": "white",
            "gridwidth": 2,
            "linecolor": "white",
            "showbackground": true,
            "ticks": "",
            "zerolinecolor": "white"
           },
           "zaxis": {
            "backgroundcolor": "#E5ECF6",
            "gridcolor": "white",
            "gridwidth": 2,
            "linecolor": "white",
            "showbackground": true,
            "ticks": "",
            "zerolinecolor": "white"
           }
          },
          "shapedefaults": {
           "line": {
            "color": "#2a3f5f"
           }
          },
          "ternary": {
           "aaxis": {
            "gridcolor": "white",
            "linecolor": "white",
            "ticks": ""
           },
           "baxis": {
            "gridcolor": "white",
            "linecolor": "white",
            "ticks": ""
           },
           "bgcolor": "#E5ECF6",
           "caxis": {
            "gridcolor": "white",
            "linecolor": "white",
            "ticks": ""
           }
          },
          "title": {
           "x": 0.05
          },
          "xaxis": {
           "automargin": true,
           "gridcolor": "white",
           "linecolor": "white",
           "ticks": "",
           "title": {
            "standoff": 15
           },
           "zerolinecolor": "white",
           "zerolinewidth": 2
          },
          "yaxis": {
           "automargin": true,
           "gridcolor": "white",
           "linecolor": "white",
           "ticks": "",
           "title": {
            "standoff": 15
           },
           "zerolinecolor": "white",
           "zerolinewidth": 2
          }
         }
        },
        "title": {
         "text": "Job Opportunities by Required Experience"
        },
        "xaxis": {
         "anchor": "y",
         "domain": [
          0,
          1
         ],
         "title": {
          "text": "Years of Experience"
         }
        },
        "yaxis": {
         "anchor": "x",
         "domain": [
          0,
          1
         ],
         "title": {
          "text": "Number of Job Opportunities"
         }
        }
       }
      }
     },
     "metadata": {},
     "output_type": "display_data"
    }
   ],
   "source": [
    "fig = px.histogram(df, x=\"Experience\", nbins=10, title=\"Job Opportunities by Required Experience\", labels={\"Experience\": \"Required Experience (Years)\"})\n",
    "fig.update_layout(xaxis_title=\"Years of Experience\", yaxis_title=\"Number of Job Opportunities\")\n",
    "fig.show()"
   ]
  },
  {
   "cell_type": "code",
   "execution_count": null,
   "id": "2590be14",
   "metadata": {},
   "outputs": [],
   "source": [
    "#Fresh graduates have more opportunities.\n",
    "#People with less experience have more opportunities."
   ]
  },
  {
   "cell_type": "markdown",
   "id": "4253dc6c",
   "metadata": {},
   "source": [
    "**Which company posts the most jobs?**"
   ]
  },
  {
   "cell_type": "code",
   "execution_count": 46,
   "id": "77a1514e",
   "metadata": {},
   "outputs": [
    {
     "data": {
      "application/vnd.plotly.v1+json": {
       "config": {
        "plotlyServerURL": "https://plot.ly"
       },
       "data": [
        {
         "alignmentgroup": "True",
         "hovertemplate": "Company Name=%{x}<br>Number of Job Postings=%{text}<extra></extra>",
         "legendgroup": "",
         "marker": {
          "color": "#636efa",
          "pattern": {
           "shape": ""
          }
         },
         "name": "",
         "offsetgroup": "",
         "orientation": "v",
         "showlegend": false,
         "text": [
          16,
          11,
          10,
          9,
          9,
          9,
          8,
          8,
          8,
          8
         ],
         "textposition": "auto",
         "type": "bar",
         "x": [
          "شركه العرض المتقن للخدمات التجارية شركة مساهمة سعودية مقفلة",
          "شركة الخدمات الاستشارية السعودية للاستشارات الهندسية",
          "شركة مدارس موسوعة العلوم الاهلية",
          "مؤسسة سليمان عبدالرحمن النمله للمقاولات",
          "شركة الفصل الخامس للتجارة",
          "شركة الحبيب للتجارة والتعهدات التجارية المحدودة",
          "شركة بوركت للتجارة",
          "شركة عالم المحركات للتجارة (شركة شخص واحد)",
          "شركة مصنع وائل حسن فارسي للغازات الصناعية شركة شخص واحد",
          "مؤسسة قدور نجد لخدمات الاعاشة"
         ],
         "xaxis": "x",
         "y": [
          16,
          11,
          10,
          9,
          9,
          9,
          8,
          8,
          8,
          8
         ],
         "yaxis": "y"
        }
       ],
       "layout": {
        "barmode": "relative",
        "legend": {
         "tracegroupgap": 0
        },
        "template": {
         "data": {
          "bar": [
           {
            "error_x": {
             "color": "#2a3f5f"
            },
            "error_y": {
             "color": "#2a3f5f"
            },
            "marker": {
             "line": {
              "color": "#E5ECF6",
              "width": 0.5
             },
             "pattern": {
              "fillmode": "overlay",
              "size": 10,
              "solidity": 0.2
             }
            },
            "type": "bar"
           }
          ],
          "barpolar": [
           {
            "marker": {
             "line": {
              "color": "#E5ECF6",
              "width": 0.5
             },
             "pattern": {
              "fillmode": "overlay",
              "size": 10,
              "solidity": 0.2
             }
            },
            "type": "barpolar"
           }
          ],
          "carpet": [
           {
            "aaxis": {
             "endlinecolor": "#2a3f5f",
             "gridcolor": "white",
             "linecolor": "white",
             "minorgridcolor": "white",
             "startlinecolor": "#2a3f5f"
            },
            "baxis": {
             "endlinecolor": "#2a3f5f",
             "gridcolor": "white",
             "linecolor": "white",
             "minorgridcolor": "white",
             "startlinecolor": "#2a3f5f"
            },
            "type": "carpet"
           }
          ],
          "choropleth": [
           {
            "colorbar": {
             "outlinewidth": 0,
             "ticks": ""
            },
            "type": "choropleth"
           }
          ],
          "contour": [
           {
            "colorbar": {
             "outlinewidth": 0,
             "ticks": ""
            },
            "colorscale": [
             [
              0,
              "#0d0887"
             ],
             [
              0.1111111111111111,
              "#46039f"
             ],
             [
              0.2222222222222222,
              "#7201a8"
             ],
             [
              0.3333333333333333,
              "#9c179e"
             ],
             [
              0.4444444444444444,
              "#bd3786"
             ],
             [
              0.5555555555555556,
              "#d8576b"
             ],
             [
              0.6666666666666666,
              "#ed7953"
             ],
             [
              0.7777777777777778,
              "#fb9f3a"
             ],
             [
              0.8888888888888888,
              "#fdca26"
             ],
             [
              1,
              "#f0f921"
             ]
            ],
            "type": "contour"
           }
          ],
          "contourcarpet": [
           {
            "colorbar": {
             "outlinewidth": 0,
             "ticks": ""
            },
            "type": "contourcarpet"
           }
          ],
          "heatmap": [
           {
            "colorbar": {
             "outlinewidth": 0,
             "ticks": ""
            },
            "colorscale": [
             [
              0,
              "#0d0887"
             ],
             [
              0.1111111111111111,
              "#46039f"
             ],
             [
              0.2222222222222222,
              "#7201a8"
             ],
             [
              0.3333333333333333,
              "#9c179e"
             ],
             [
              0.4444444444444444,
              "#bd3786"
             ],
             [
              0.5555555555555556,
              "#d8576b"
             ],
             [
              0.6666666666666666,
              "#ed7953"
             ],
             [
              0.7777777777777778,
              "#fb9f3a"
             ],
             [
              0.8888888888888888,
              "#fdca26"
             ],
             [
              1,
              "#f0f921"
             ]
            ],
            "type": "heatmap"
           }
          ],
          "heatmapgl": [
           {
            "colorbar": {
             "outlinewidth": 0,
             "ticks": ""
            },
            "colorscale": [
             [
              0,
              "#0d0887"
             ],
             [
              0.1111111111111111,
              "#46039f"
             ],
             [
              0.2222222222222222,
              "#7201a8"
             ],
             [
              0.3333333333333333,
              "#9c179e"
             ],
             [
              0.4444444444444444,
              "#bd3786"
             ],
             [
              0.5555555555555556,
              "#d8576b"
             ],
             [
              0.6666666666666666,
              "#ed7953"
             ],
             [
              0.7777777777777778,
              "#fb9f3a"
             ],
             [
              0.8888888888888888,
              "#fdca26"
             ],
             [
              1,
              "#f0f921"
             ]
            ],
            "type": "heatmapgl"
           }
          ],
          "histogram": [
           {
            "marker": {
             "pattern": {
              "fillmode": "overlay",
              "size": 10,
              "solidity": 0.2
             }
            },
            "type": "histogram"
           }
          ],
          "histogram2d": [
           {
            "colorbar": {
             "outlinewidth": 0,
             "ticks": ""
            },
            "colorscale": [
             [
              0,
              "#0d0887"
             ],
             [
              0.1111111111111111,
              "#46039f"
             ],
             [
              0.2222222222222222,
              "#7201a8"
             ],
             [
              0.3333333333333333,
              "#9c179e"
             ],
             [
              0.4444444444444444,
              "#bd3786"
             ],
             [
              0.5555555555555556,
              "#d8576b"
             ],
             [
              0.6666666666666666,
              "#ed7953"
             ],
             [
              0.7777777777777778,
              "#fb9f3a"
             ],
             [
              0.8888888888888888,
              "#fdca26"
             ],
             [
              1,
              "#f0f921"
             ]
            ],
            "type": "histogram2d"
           }
          ],
          "histogram2dcontour": [
           {
            "colorbar": {
             "outlinewidth": 0,
             "ticks": ""
            },
            "colorscale": [
             [
              0,
              "#0d0887"
             ],
             [
              0.1111111111111111,
              "#46039f"
             ],
             [
              0.2222222222222222,
              "#7201a8"
             ],
             [
              0.3333333333333333,
              "#9c179e"
             ],
             [
              0.4444444444444444,
              "#bd3786"
             ],
             [
              0.5555555555555556,
              "#d8576b"
             ],
             [
              0.6666666666666666,
              "#ed7953"
             ],
             [
              0.7777777777777778,
              "#fb9f3a"
             ],
             [
              0.8888888888888888,
              "#fdca26"
             ],
             [
              1,
              "#f0f921"
             ]
            ],
            "type": "histogram2dcontour"
           }
          ],
          "mesh3d": [
           {
            "colorbar": {
             "outlinewidth": 0,
             "ticks": ""
            },
            "type": "mesh3d"
           }
          ],
          "parcoords": [
           {
            "line": {
             "colorbar": {
              "outlinewidth": 0,
              "ticks": ""
             }
            },
            "type": "parcoords"
           }
          ],
          "pie": [
           {
            "automargin": true,
            "type": "pie"
           }
          ],
          "scatter": [
           {
            "fillpattern": {
             "fillmode": "overlay",
             "size": 10,
             "solidity": 0.2
            },
            "type": "scatter"
           }
          ],
          "scatter3d": [
           {
            "line": {
             "colorbar": {
              "outlinewidth": 0,
              "ticks": ""
             }
            },
            "marker": {
             "colorbar": {
              "outlinewidth": 0,
              "ticks": ""
             }
            },
            "type": "scatter3d"
           }
          ],
          "scattercarpet": [
           {
            "marker": {
             "colorbar": {
              "outlinewidth": 0,
              "ticks": ""
             }
            },
            "type": "scattercarpet"
           }
          ],
          "scattergeo": [
           {
            "marker": {
             "colorbar": {
              "outlinewidth": 0,
              "ticks": ""
             }
            },
            "type": "scattergeo"
           }
          ],
          "scattergl": [
           {
            "marker": {
             "colorbar": {
              "outlinewidth": 0,
              "ticks": ""
             }
            },
            "type": "scattergl"
           }
          ],
          "scattermapbox": [
           {
            "marker": {
             "colorbar": {
              "outlinewidth": 0,
              "ticks": ""
             }
            },
            "type": "scattermapbox"
           }
          ],
          "scatterpolar": [
           {
            "marker": {
             "colorbar": {
              "outlinewidth": 0,
              "ticks": ""
             }
            },
            "type": "scatterpolar"
           }
          ],
          "scatterpolargl": [
           {
            "marker": {
             "colorbar": {
              "outlinewidth": 0,
              "ticks": ""
             }
            },
            "type": "scatterpolargl"
           }
          ],
          "scatterternary": [
           {
            "marker": {
             "colorbar": {
              "outlinewidth": 0,
              "ticks": ""
             }
            },
            "type": "scatterternary"
           }
          ],
          "surface": [
           {
            "colorbar": {
             "outlinewidth": 0,
             "ticks": ""
            },
            "colorscale": [
             [
              0,
              "#0d0887"
             ],
             [
              0.1111111111111111,
              "#46039f"
             ],
             [
              0.2222222222222222,
              "#7201a8"
             ],
             [
              0.3333333333333333,
              "#9c179e"
             ],
             [
              0.4444444444444444,
              "#bd3786"
             ],
             [
              0.5555555555555556,
              "#d8576b"
             ],
             [
              0.6666666666666666,
              "#ed7953"
             ],
             [
              0.7777777777777778,
              "#fb9f3a"
             ],
             [
              0.8888888888888888,
              "#fdca26"
             ],
             [
              1,
              "#f0f921"
             ]
            ],
            "type": "surface"
           }
          ],
          "table": [
           {
            "cells": {
             "fill": {
              "color": "#EBF0F8"
             },
             "line": {
              "color": "white"
             }
            },
            "header": {
             "fill": {
              "color": "#C8D4E3"
             },
             "line": {
              "color": "white"
             }
            },
            "type": "table"
           }
          ]
         },
         "layout": {
          "annotationdefaults": {
           "arrowcolor": "#2a3f5f",
           "arrowhead": 0,
           "arrowwidth": 1
          },
          "autotypenumbers": "strict",
          "coloraxis": {
           "colorbar": {
            "outlinewidth": 0,
            "ticks": ""
           }
          },
          "colorscale": {
           "diverging": [
            [
             0,
             "#8e0152"
            ],
            [
             0.1,
             "#c51b7d"
            ],
            [
             0.2,
             "#de77ae"
            ],
            [
             0.3,
             "#f1b6da"
            ],
            [
             0.4,
             "#fde0ef"
            ],
            [
             0.5,
             "#f7f7f7"
            ],
            [
             0.6,
             "#e6f5d0"
            ],
            [
             0.7,
             "#b8e186"
            ],
            [
             0.8,
             "#7fbc41"
            ],
            [
             0.9,
             "#4d9221"
            ],
            [
             1,
             "#276419"
            ]
           ],
           "sequential": [
            [
             0,
             "#0d0887"
            ],
            [
             0.1111111111111111,
             "#46039f"
            ],
            [
             0.2222222222222222,
             "#7201a8"
            ],
            [
             0.3333333333333333,
             "#9c179e"
            ],
            [
             0.4444444444444444,
             "#bd3786"
            ],
            [
             0.5555555555555556,
             "#d8576b"
            ],
            [
             0.6666666666666666,
             "#ed7953"
            ],
            [
             0.7777777777777778,
             "#fb9f3a"
            ],
            [
             0.8888888888888888,
             "#fdca26"
            ],
            [
             1,
             "#f0f921"
            ]
           ],
           "sequentialminus": [
            [
             0,
             "#0d0887"
            ],
            [
             0.1111111111111111,
             "#46039f"
            ],
            [
             0.2222222222222222,
             "#7201a8"
            ],
            [
             0.3333333333333333,
             "#9c179e"
            ],
            [
             0.4444444444444444,
             "#bd3786"
            ],
            [
             0.5555555555555556,
             "#d8576b"
            ],
            [
             0.6666666666666666,
             "#ed7953"
            ],
            [
             0.7777777777777778,
             "#fb9f3a"
            ],
            [
             0.8888888888888888,
             "#fdca26"
            ],
            [
             1,
             "#f0f921"
            ]
           ]
          },
          "colorway": [
           "#636efa",
           "#EF553B",
           "#00cc96",
           "#ab63fa",
           "#FFA15A",
           "#19d3f3",
           "#FF6692",
           "#B6E880",
           "#FF97FF",
           "#FECB52"
          ],
          "font": {
           "color": "#2a3f5f"
          },
          "geo": {
           "bgcolor": "white",
           "lakecolor": "white",
           "landcolor": "#E5ECF6",
           "showlakes": true,
           "showland": true,
           "subunitcolor": "white"
          },
          "hoverlabel": {
           "align": "left"
          },
          "hovermode": "closest",
          "mapbox": {
           "style": "light"
          },
          "paper_bgcolor": "white",
          "plot_bgcolor": "#E5ECF6",
          "polar": {
           "angularaxis": {
            "gridcolor": "white",
            "linecolor": "white",
            "ticks": ""
           },
           "bgcolor": "#E5ECF6",
           "radialaxis": {
            "gridcolor": "white",
            "linecolor": "white",
            "ticks": ""
           }
          },
          "scene": {
           "xaxis": {
            "backgroundcolor": "#E5ECF6",
            "gridcolor": "white",
            "gridwidth": 2,
            "linecolor": "white",
            "showbackground": true,
            "ticks": "",
            "zerolinecolor": "white"
           },
           "yaxis": {
            "backgroundcolor": "#E5ECF6",
            "gridcolor": "white",
            "gridwidth": 2,
            "linecolor": "white",
            "showbackground": true,
            "ticks": "",
            "zerolinecolor": "white"
           },
           "zaxis": {
            "backgroundcolor": "#E5ECF6",
            "gridcolor": "white",
            "gridwidth": 2,
            "linecolor": "white",
            "showbackground": true,
            "ticks": "",
            "zerolinecolor": "white"
           }
          },
          "shapedefaults": {
           "line": {
            "color": "#2a3f5f"
           }
          },
          "ternary": {
           "aaxis": {
            "gridcolor": "white",
            "linecolor": "white",
            "ticks": ""
           },
           "baxis": {
            "gridcolor": "white",
            "linecolor": "white",
            "ticks": ""
           },
           "bgcolor": "#E5ECF6",
           "caxis": {
            "gridcolor": "white",
            "linecolor": "white",
            "ticks": ""
           }
          },
          "title": {
           "x": 0.05
          },
          "xaxis": {
           "automargin": true,
           "gridcolor": "white",
           "linecolor": "white",
           "ticks": "",
           "title": {
            "standoff": 15
           },
           "zerolinecolor": "white",
           "zerolinewidth": 2
          },
          "yaxis": {
           "automargin": true,
           "gridcolor": "white",
           "linecolor": "white",
           "ticks": "",
           "title": {
            "standoff": 15
           },
           "zerolinecolor": "white",
           "zerolinewidth": 2
          }
         }
        },
        "title": {
         "text": "Top 10 Companies with Most Job Postings"
        },
        "xaxis": {
         "anchor": "y",
         "domain": [
          0,
          1
         ],
         "title": {
          "text": "Company Name"
         }
        },
        "yaxis": {
         "anchor": "x",
         "domain": [
          0,
          1
         ],
         "title": {
          "text": "Number of Job Postings"
         }
        }
       }
      }
     },
     "metadata": {},
     "output_type": "display_data"
    }
   ],
   "source": [
    "company_job_counts = df['Company Name'].value_counts().reset_index()\n",
    "company_job_counts.columns = ['Company Name', 'Number of Job Postings']\n",
    "top_10_companies = company_job_counts.head(10)\n",
    "\n",
    "# Create bar chart\n",
    "fig = px.bar(top_10_companies, x='Company Name', y='Number of Job Postings',\n",
    "             title='Top 10 Companies with Most Job Postings',             \n",
    "             text='Number of Job Postings')\n",
    "fig.show()"
   ]
  },
  {
   "cell_type": "code",
   "execution_count": null,
   "id": "684d13d3",
   "metadata": {},
   "outputs": [],
   "source": [
    "#Most of the company is from Riyadh"
   ]
  }
 ],
 "metadata": {
  "kernelspec": {
   "display_name": "Python 3 (ipykernel)",
   "language": "python",
   "name": "python3"
  },
  "language_info": {
   "codemirror_mode": {
    "name": "ipython",
    "version": 3
   },
   "file_extension": ".py",
   "mimetype": "text/x-python",
   "name": "python",
   "nbconvert_exporter": "python",
   "pygments_lexer": "ipython3",
   "version": "3.12.4"
  }
 },
 "nbformat": 4,
 "nbformat_minor": 5
}
